{
 "cells": [
  {
   "cell_type": "code",
   "execution_count": 58,
   "metadata": {},
   "outputs": [
    {
     "name": "stdout",
     "output_type": "stream",
     "text": [
      "0.21.3\n"
     ]
    }
   ],
   "source": [
    "#vérification de la version de scikit-learn\n",
    "import sklearn\n",
    "print(sklearn.__version__)\n"
   ]
  },
  {
   "cell_type": "code",
   "execution_count": 59,
   "metadata": {},
   "outputs": [],
   "source": [
    "import pandas as pd\n"
   ]
  },
  {
   "cell_type": "code",
   "execution_count": null,
   "metadata": {},
   "outputs": [],
   "source": []
  },
  {
   "cell_type": "code",
   "execution_count": 60,
   "metadata": {},
   "outputs": [
    {
     "data": {
      "text/html": [
       "<div>\n",
       "<style scoped>\n",
       "    .dataframe tbody tr th:only-of-type {\n",
       "        vertical-align: middle;\n",
       "    }\n",
       "\n",
       "    .dataframe tbody tr th {\n",
       "        vertical-align: top;\n",
       "    }\n",
       "\n",
       "    .dataframe thead th {\n",
       "        text-align: right;\n",
       "    }\n",
       "</style>\n",
       "<table border=\"1\" class=\"dataframe\">\n",
       "  <thead>\n",
       "    <tr style=\"text-align: right;\">\n",
       "      <th></th>\n",
       "      <th>Unnamed: 0</th>\n",
       "      <th>age</th>\n",
       "      <th>orientation</th>\n",
       "      <th>ressources_materials</th>\n",
       "      <th>Mauvais_Gestion_temps</th>\n",
       "      <th>mauvais_choix_de_cours</th>\n",
       "      <th>réseaux_sociaux</th>\n",
       "      <th>resultat_etudiant</th>\n",
       "    </tr>\n",
       "  </thead>\n",
       "  <tbody>\n",
       "    <tr>\n",
       "      <td>0</td>\n",
       "      <td>0</td>\n",
       "      <td>21</td>\n",
       "      <td>0</td>\n",
       "      <td>0</td>\n",
       "      <td>1</td>\n",
       "      <td>0</td>\n",
       "      <td>0</td>\n",
       "      <td>semestre_Valide</td>\n",
       "    </tr>\n",
       "    <tr>\n",
       "      <td>1</td>\n",
       "      <td>1</td>\n",
       "      <td>18</td>\n",
       "      <td>0</td>\n",
       "      <td>1</td>\n",
       "      <td>1</td>\n",
       "      <td>1</td>\n",
       "      <td>1</td>\n",
       "      <td>semestre_Rattrapage</td>\n",
       "    </tr>\n",
       "    <tr>\n",
       "      <td>2</td>\n",
       "      <td>2</td>\n",
       "      <td>21</td>\n",
       "      <td>0</td>\n",
       "      <td>1</td>\n",
       "      <td>1</td>\n",
       "      <td>0</td>\n",
       "      <td>1</td>\n",
       "      <td>semestre_Valide</td>\n",
       "    </tr>\n",
       "    <tr>\n",
       "      <td>3</td>\n",
       "      <td>3</td>\n",
       "      <td>18</td>\n",
       "      <td>0</td>\n",
       "      <td>0</td>\n",
       "      <td>0</td>\n",
       "      <td>1</td>\n",
       "      <td>1</td>\n",
       "      <td>semestre_Rattrapage</td>\n",
       "    </tr>\n",
       "    <tr>\n",
       "      <td>4</td>\n",
       "      <td>4</td>\n",
       "      <td>21</td>\n",
       "      <td>1</td>\n",
       "      <td>1</td>\n",
       "      <td>0</td>\n",
       "      <td>0</td>\n",
       "      <td>0</td>\n",
       "      <td>semestre_Valide</td>\n",
       "    </tr>\n",
       "  </tbody>\n",
       "</table>\n",
       "</div>"
      ],
      "text/plain": [
       "   Unnamed: 0  age  orientation  ressources_materials  Mauvais_Gestion_temps  \\\n",
       "0           0   21            0                     0                      1   \n",
       "1           1   18            0                     1                      1   \n",
       "2           2   21            0                     1                      1   \n",
       "3           3   18            0                     0                      0   \n",
       "4           4   21            1                     1                      0   \n",
       "\n",
       "   mauvais_choix_de_cours  réseaux_sociaux    resultat_etudiant  \n",
       "0                       0                0      semestre_Valide  \n",
       "1                       1                1  semestre_Rattrapage  \n",
       "2                       0                1      semestre_Valide  \n",
       "3                       1                1  semestre_Rattrapage  \n",
       "4                       0                0      semestre_Valide  "
      ]
     },
     "execution_count": 60,
     "metadata": {},
     "output_type": "execute_result"
    }
   ],
   "source": [
    "df = pd.read_excel(\"test.xlsx\",sheet_name = 0)\n",
    "df.head()"
   ]
  },
  {
   "cell_type": "code",
   "execution_count": 61,
   "metadata": {},
   "outputs": [
    {
     "data": {
      "text/plain": [
       "(402, 8)"
      ]
     },
     "execution_count": 61,
     "metadata": {},
     "output_type": "execute_result"
    }
   ],
   "source": [
    "df.shape"
   ]
  },
  {
   "cell_type": "code",
   "execution_count": 62,
   "metadata": {},
   "outputs": [],
   "source": [
    "#suprimer des headers \n",
    "del df['Unnamed: 0']"
   ]
  },
  {
   "cell_type": "code",
   "execution_count": 63,
   "metadata": {},
   "outputs": [
    {
     "name": "stdout",
     "output_type": "stream",
     "text": [
      "<class 'pandas.core.frame.DataFrame'>\n",
      "RangeIndex: 402 entries, 0 to 401\n",
      "Data columns (total 7 columns):\n",
      "age                       402 non-null int64\n",
      "orientation               402 non-null int64\n",
      "ressources_materials      402 non-null int64\n",
      "Mauvais_Gestion_temps     402 non-null int64\n",
      "mauvais_choix_de_cours    402 non-null int64\n",
      "réseaux_sociaux           402 non-null int64\n",
      "resultat_etudiant         402 non-null object\n",
      "dtypes: int64(6), object(1)\n",
      "memory usage: 22.1+ KB\n",
      "None\n"
     ]
    }
   ],
   "source": [
    "print(df.info())\n"
   ]
  },
  {
   "cell_type": "markdown",
   "metadata": {},
   "source": [
    "La variable cible ‘’resultat_etudiant ’’ est la seule non-numérique, le type ‘’object’’ lui est associé."
   ]
  },
  {
   "cell_type": "code",
   "execution_count": 64,
   "metadata": {},
   "outputs": [
    {
     "name": "stdout",
     "output_type": "stream",
     "text": [
      "semestre_Rattrapage    268\n",
      "semestre_Valide        134\n",
      "Name: resultat_etudiant, dtype: int64\n"
     ]
    }
   ],
   "source": [
    "#vérifier la distribution absolue des classes\n",
    "print(df.resultat_etudiant.value_counts())\n"
   ]
  },
  {
   "cell_type": "code",
   "execution_count": 65,
   "metadata": {},
   "outputs": [
    {
     "name": "stdout",
     "output_type": "stream",
     "text": [
      "semestre_Rattrapage    0.666667\n",
      "semestre_Valide        0.333333\n",
      "Name: resultat_etudiant, dtype: float64\n"
     ]
    }
   ],
   "source": [
    "#la distribution relative\n",
    "print(df.resultat_etudiant.value_counts(normalize=True))"
   ]
  },
  {
   "cell_type": "markdown",
   "metadata": {},
   "source": [
    "2.3 Partition en échantillons d’apprentissage et de test\n"
   ]
  },
  {
   "cell_type": "code",
   "execution_count": 66,
   "metadata": {},
   "outputs": [],
   "source": [
    "#subdiviser les données en échantillons d'apprentissage et de test\n",
    "from sklearn.model_selection import train_test_split\n",
    "dfTrain, dfTest = train_test_split(df, test_size=150, random_state=1, stratify=df.resultat_etudiant)"
   ]
  },
  {
   "cell_type": "code",
   "execution_count": 67,
   "metadata": {},
   "outputs": [
    {
     "name": "stdout",
     "output_type": "stream",
     "text": [
      "(252, 7)\n",
      "(150, 7)\n"
     ]
    }
   ],
   "source": [
    "#vérification des dimensions\n",
    "print(dfTrain.shape) #(252, 8)\n",
    "print(dfTest.shape) #(150, 8)\n"
   ]
  },
  {
   "cell_type": "markdown",
   "metadata": {},
   "source": [
    "Nous affichons les distributions relatives des classes en apprentissage…\n"
   ]
  },
  {
   "cell_type": "code",
   "execution_count": 68,
   "metadata": {},
   "outputs": [
    {
     "name": "stdout",
     "output_type": "stream",
     "text": [
      "semestre_Rattrapage    0.666667\n",
      "semestre_Valide        0.333333\n",
      "Name: resultat_etudiant, dtype: float64\n"
     ]
    }
   ],
   "source": [
    "#vérification des distributions en apprentissage\n",
    "print(dfTrain.resultat_etudiant.value_counts(normalize=True))\n"
   ]
  },
  {
   "cell_type": "markdown",
   "metadata": {},
   "source": [
    " et en test."
   ]
  },
  {
   "cell_type": "code",
   "execution_count": 69,
   "metadata": {},
   "outputs": [
    {
     "name": "stdout",
     "output_type": "stream",
     "text": [
      "semestre_Rattrapage    0.666667\n",
      "semestre_Valide        0.333333\n",
      "Name: resultat_etudiant, dtype: float64\n"
     ]
    }
   ],
   "source": [
    "#vérification des distributions en test\n",
    "print(dfTest.resultat_etudiant.value_counts(normalize=True))"
   ]
  },
  {
   "cell_type": "markdown",
   "metadata": {},
   "source": [
    "Les proportions sont respectées."
   ]
  },
  {
   "cell_type": "markdown",
   "metadata": {},
   "source": [
    "Instanciation et modélisation"
   ]
  },
  {
   "cell_type": "markdown",
   "metadata": {},
   "source": [
    "Nous instancions un arbre de décision ‘’DecisionTreeClassifier’’ de la librairie Sckit-Learn\n",
    "(https://scikit-learn.org/stable/modules/tree.html ; ‘’Classification’’) avec deux paramètres : un\n",
    "sommet n’est pas segmenté s’il est composé de moins de 30 individus (min_samples_split = 30) ;\n",
    "une segmentation est validée si et seulement si les feuilles générées comportent tous au moins\n",
    "10 observations (min_samples_leaf = 10)"
   ]
  },
  {
   "cell_type": "code",
   "execution_count": 70,
   "metadata": {},
   "outputs": [],
   "source": [
    "#instanciation de l'arbre\n",
    "from sklearn.tree import DecisionTreeClassifier\n",
    "arbreFirst = DecisionTreeClassifier(min_samples_split=30,min_samples_leaf=10)\n"
   ]
  },
  {
   "cell_type": "markdown",
   "metadata": {},
   "source": [
    "Nous lançons le processus de modélisation sur les données d’apprentissage en spécifiant la\n",
    "matrice (X) des variables prédictives, et le vecteur (y) de la variable cible."
   ]
  },
  {
   "cell_type": "code",
   "execution_count": 71,
   "metadata": {},
   "outputs": [
    {
     "data": {
      "text/plain": [
       "DecisionTreeClassifier(class_weight=None, criterion='gini', max_depth=None,\n",
       "                       max_features=None, max_leaf_nodes=None,\n",
       "                       min_impurity_decrease=0.0, min_impurity_split=None,\n",
       "                       min_samples_leaf=10, min_samples_split=30,\n",
       "                       min_weight_fraction_leaf=0.0, presort=False,\n",
       "                       random_state=None, splitter='best')"
      ]
     },
     "execution_count": 71,
     "metadata": {},
     "output_type": "execute_result"
    }
   ],
   "source": [
    "#construction de l'arbre\n",
    "arbreFirst.fit(X = dfTrain.iloc[:,:-1], y = dfTrain.resultat_etudiant)\n"
   ]
  },
  {
   "cell_type": "markdown",
   "metadata": {},
   "source": [
    "Affichage graphique de l’arbre"
   ]
  },
  {
   "cell_type": "markdown",
   "metadata": {},
   "source": [
    "2.5 Affichage graphique de l’arbre\n",
    "L’affichage de l’arbre était un des obstacles de l’utilisation de cet outil. Auparavant, il fallait\n",
    "générer un fichier au format particulier (.dot), que l’on faisait interpréter par un outil externe à\n",
    "installer au préalable. Ce n’était pas vraiment ‘’user friendly’’. Aujourd’hui, depuis la version 0.21\n",
    "de Scikit-Learn, nous disposons d’une fonction dédiée à la génération de la représentation\n",
    "graphique directement dans la console. Voyons ce qu’il en est.\n",
    "La fonction prend en paramètre l’arbre généré par l’apprentissage, la liste des noms des\n",
    "variables prédictives (feature_names), les sommets peuvent être coloriés selon la classe\n",
    "majoritaire (filled = True)."
   ]
  },
  {
   "cell_type": "code",
   "execution_count": 72,
   "metadata": {},
   "outputs": [
    {
     "data": {
      "text/plain": [
       "[Text(157.5529411764706, 201.90857142857143, 'age <= 19.5\\ngini = 0.444\\nsamples = 252\\nvalue = [168, 84]'),\n",
       " Text(78.7764705882353, 170.84571428571428, 'réseaux_sociaux <= 0.5\\ngini = 0.361\\nsamples = 114\\nvalue = [87, 27]'),\n",
       " Text(39.38823529411765, 139.78285714285715, 'ressources_materials <= 0.5\\ngini = 0.435\\nsamples = 47\\nvalue = [32, 15]'),\n",
       " Text(19.694117647058825, 108.72, 'gini = 0.227\\nsamples = 23\\nvalue = [20, 3]'),\n",
       " Text(59.082352941176474, 108.72, 'gini = 0.5\\nsamples = 24\\nvalue = [12, 12]'),\n",
       " Text(118.16470588235295, 139.78285714285715, 'orientation <= 0.5\\ngini = 0.294\\nsamples = 67\\nvalue = [55, 12]'),\n",
       " Text(98.47058823529412, 108.72, 'ressources_materials <= 0.5\\ngini = 0.355\\nsamples = 39\\nvalue = [30, 9]'),\n",
       " Text(78.7764705882353, 77.65714285714284, 'gini = 0.403\\nsamples = 25\\nvalue = [18, 7]'),\n",
       " Text(118.16470588235295, 77.65714285714284, 'gini = 0.245\\nsamples = 14\\nvalue = [12, 2]'),\n",
       " Text(137.85882352941178, 108.72, 'gini = 0.191\\nsamples = 28\\nvalue = [25, 3]'),\n",
       " Text(236.3294117647059, 170.84571428571428, 'age <= 22.5\\ngini = 0.485\\nsamples = 138\\nvalue = [81, 57]'),\n",
       " Text(216.63529411764708, 139.78285714285715, 'age <= 20.5\\ngini = 0.491\\nsamples = 122\\nvalue = [69, 53]'),\n",
       " Text(177.24705882352941, 108.72, 'mauvais_choix_de_cours <= 0.5\\ngini = 0.466\\nsamples = 46\\nvalue = [29, 17]'),\n",
       " Text(157.5529411764706, 77.65714285714284, 'gini = 0.5\\nsamples = 22\\nvalue = [11, 11]'),\n",
       " Text(196.94117647058823, 77.65714285714284, 'gini = 0.375\\nsamples = 24\\nvalue = [18, 6]'),\n",
       " Text(256.02352941176474, 108.72, 'ressources_materials <= 0.5\\ngini = 0.499\\nsamples = 76\\nvalue = [40, 36]'),\n",
       " Text(236.3294117647059, 77.65714285714284, 'gini = 0.453\\nsamples = 26\\nvalue = [17, 9]'),\n",
       " Text(275.71764705882356, 77.65714285714284, 'mauvais_choix_de_cours <= 0.5\\ngini = 0.497\\nsamples = 50\\nvalue = [23, 27]'),\n",
       " Text(256.02352941176474, 46.59428571428572, 'gini = 0.48\\nsamples = 20\\nvalue = [12, 8]'),\n",
       " Text(295.4117647058824, 46.59428571428572, 'age <= 21.5\\ngini = 0.464\\nsamples = 30\\nvalue = [11, 19]'),\n",
       " Text(275.71764705882356, 15.531428571428563, 'gini = 0.475\\nsamples = 18\\nvalue = [7, 11]'),\n",
       " Text(315.1058823529412, 15.531428571428563, 'gini = 0.444\\nsamples = 12\\nvalue = [4, 8]'),\n",
       " Text(256.02352941176474, 139.78285714285715, 'gini = 0.375\\nsamples = 16\\nvalue = [12, 4]')]"
      ]
     },
     "execution_count": 72,
     "metadata": {},
     "output_type": "execute_result"
    },
    {
     "data": {
      "image/png": "[encoded data removed]",
      "text/plain": [
       "<Figure size 432x288 with 1 Axes>"
      ]
     },
     "metadata": {
      "needs_background": "light"
     },
     "output_type": "display_data"
    }
   ],
   "source": [
    "#affichage graphique de l'arbre - depuis sklearn 0.21\n",
    "#https://scikit-learn.org/stable/modules/generated/sklearn.tree.plot_tree.html#sklearn.tree.plot_tree\n",
    "from sklearn.tree import plot_tree\n",
    "plot_tree(arbreFirst,feature_names = list(df.columns[:-1]),filled=True)"
   ]
  },
  {
   "cell_type": "code",
   "execution_count": 1,
   "metadata": {},
   "outputs": [
    {
     "ename": "NameError",
     "evalue": "name 'plot_tree' is not defined",
     "output_type": "error",
     "traceback": [
      "\u001b[1;31m---------------------------------------------------------------------------\u001b[0m",
      "\u001b[1;31mNameError\u001b[0m                                 Traceback (most recent call last)",
      "\u001b[1;32m<ipython-input-1-51bdaca65f99>\u001b[0m in \u001b[0;36m<module>\u001b[1;34m\u001b[0m\n\u001b[0;32m      2\u001b[0m \u001b[1;32mimport\u001b[0m \u001b[0mmatplotlib\u001b[0m\u001b[1;33m.\u001b[0m\u001b[0mpyplot\u001b[0m \u001b[1;32mas\u001b[0m \u001b[0mplt\u001b[0m\u001b[1;33m\u001b[0m\u001b[1;33m\u001b[0m\u001b[0m\n\u001b[0;32m      3\u001b[0m \u001b[0mplt\u001b[0m\u001b[1;33m.\u001b[0m\u001b[0mfigure\u001b[0m\u001b[1;33m(\u001b[0m\u001b[0mfigsize\u001b[0m\u001b[1;33m=\u001b[0m\u001b[1;33m(\u001b[0m\u001b[1;36m70\u001b[0m\u001b[1;33m,\u001b[0m\u001b[1;36m20\u001b[0m\u001b[1;33m)\u001b[0m\u001b[1;33m)\u001b[0m\u001b[1;33m\u001b[0m\u001b[1;33m\u001b[0m\u001b[0m\n\u001b[1;32m----> 4\u001b[1;33m \u001b[0mplot_tree\u001b[0m\u001b[1;33m(\u001b[0m\u001b[0marbreFirst\u001b[0m\u001b[1;33m,\u001b[0m\u001b[0mfeature_names\u001b[0m \u001b[1;33m=\u001b[0m \u001b[0mlist\u001b[0m\u001b[1;33m(\u001b[0m\u001b[0mdf\u001b[0m\u001b[1;33m.\u001b[0m\u001b[0mcolumns\u001b[0m\u001b[1;33m[\u001b[0m\u001b[1;33m:\u001b[0m\u001b[1;33m-\u001b[0m\u001b[1;36m1\u001b[0m\u001b[1;33m]\u001b[0m\u001b[1;33m)\u001b[0m\u001b[1;33m,\u001b[0m\u001b[0mfilled\u001b[0m\u001b[1;33m=\u001b[0m\u001b[1;32mTrue\u001b[0m\u001b[1;33m)\u001b[0m\u001b[1;33m\u001b[0m\u001b[1;33m\u001b[0m\u001b[0m\n\u001b[0m\u001b[0;32m      5\u001b[0m \u001b[0mplt\u001b[0m\u001b[1;33m.\u001b[0m\u001b[0mshow\u001b[0m\u001b[1;33m(\u001b[0m\u001b[1;33m)\u001b[0m\u001b[1;33m\u001b[0m\u001b[1;33m\u001b[0m\u001b[0m\n",
      "\u001b[1;31mNameError\u001b[0m: name 'plot_tree' is not defined"
     ]
    }
   ],
   "source": [
    "#affichage plus grand pour une meilleure lisibilité\n",
    "import matplotlib.pyplot as plt\n",
    "plt.figure(figsize=(70,20))\n",
    "plot_tree(arbreFirst,feature_names = list(df.columns[:-1]),filled=True)\n",
    "plt.show()"
   ]
  },
  {
   "cell_type": "code",
   "execution_count": 75,
   "metadata": {},
   "outputs": [],
   "source": [
    "#affichage sous forme de règles\n",
    "#plus facile à appréhender quand l'arbre est très grand\n",
    "from sklearn.tree import export_text\n",
    "tree_rules = export_text(arbreFirst,feature_names = list(df.columns[:-1]),show_weights=True)\n"
   ]
  },
  {
   "cell_type": "code",
   "execution_count": 77,
   "metadata": {},
   "outputs": [
    {
     "name": "stdout",
     "output_type": "stream",
     "text": [
      "                 Variable  Importance\n",
      "0                     age    0.375502\n",
      "2    ressources_materials    0.329579\n",
      "4  mauvais_choix_de_cours    0.187018\n",
      "5         réseaux_sociaux    0.073915\n",
      "1             orientation    0.033986\n",
      "3   Mauvais_Gestion_temps    0.000000\n"
     ]
    }
   ],
   "source": [
    "#importance des variables\n",
    "impVarFirst={\"Variable\":df.columns[:-1],\"Importance\":arbreFirst.feature_importances_}\n",
    "print(pd.DataFrame(impVarFirst).sort_values(by=\"Importance\",ascending=False))"
   ]
  },
  {
   "cell_type": "code",
   "execution_count": null,
   "metadata": {},
   "outputs": [],
   "source": []
  }
 ],
 "metadata": {
  "kernelspec": {
   "display_name": "Python 3",
   "language": "python",
   "name": "python3"
  },
  "language_info": {
   "codemirror_mode": {
    "name": "ipython",
    "version": 3
   },
   "file_extension": ".py",
   "mimetype": "text/x-python",
   "name": "python",
   "nbconvert_exporter": "python",
   "pygments_lexer": "ipython3",
   "version": "3.7.4"
  }
 },
 "nbformat": 4,
 "nbformat_minor": 2
}
