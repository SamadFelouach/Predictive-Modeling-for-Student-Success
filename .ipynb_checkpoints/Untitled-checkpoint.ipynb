{
 "cells": [
  {
   "cell_type": "code",
   "execution_count": null,
   "metadata": {},
   "outputs": [],
   "source": [
    "#on import pandas et numpy \n",
    "import pandas as pd\n",
    "import numpy as np\n",
    "import seaborn as sns\n",
    "import matplotlib.pyplot as plt\n",
    "import pylab as pl\n",
    "%matplotlib inline"
   ]
  },
  {
   "cell_type": "code",
   "execution_count": null,
   "metadata": {},
   "outputs": [],
   "source": [
    "df = pd.read_excel(\"version1.xlsx\")\n",
    "df.head()"
   ]
  },
  {
   "cell_type": "code",
   "execution_count": null,
   "metadata": {},
   "outputs": [],
   "source": [
    "df.columns"
   ]
  },
  {
   "cell_type": "code",
   "execution_count": 81,
   "metadata": {},
   "outputs": [
    {
     "data": {
      "text/plain": [
       "array([[21,  0,  0,  0,  0],\n",
       "       [18,  0,  1,  1,  1],\n",
       "       [21,  0,  1,  0,  1],\n",
       "       [18,  0,  0,  1,  1],\n",
       "       [21,  1,  1,  0,  0]], dtype=int64)"
      ]
     },
     "execution_count": 81,
     "metadata": {},
     "output_type": "execute_result"
    }
   ],
   "source": [
    "X=df[['age','orientation','ressources_materials','mauvais_choix_de_cours','réseaux_sociaux']].values\n",
    "X[0:5]"
   ]
  },
  {
   "cell_type": "code",
   "execution_count": 82,
   "metadata": {},
   "outputs": [],
   "source": [
    "from sklearn.tree import DecisionTreeClassifier"
   ]
  },
  {
   "cell_type": "code",
   "execution_count": 83,
   "metadata": {},
   "outputs": [
    {
     "data": {
      "text/plain": [
       "0        semestre_Valide\n",
       "1    semestre_Rattrapage\n",
       "2        semestre_Valide\n",
       "3    semestre_Rattrapage\n",
       "4        semestre_Valide\n",
       "Name: resultat_etudiant, dtype: object"
      ]
     },
     "execution_count": 83,
     "metadata": {},
     "output_type": "execute_result"
    }
   ],
   "source": [
    "y = df[\"resultat_etudiant\"]\n",
    "y[0:5]"
   ]
  },
  {
   "cell_type": "code",
   "execution_count": 84,
   "metadata": {},
   "outputs": [],
   "source": [
    "from sklearn.model_selection import train_test_split"
   ]
  },
  {
   "cell_type": "code",
   "execution_count": 85,
   "metadata": {},
   "outputs": [],
   "source": [
    "X_trainset, X_testset, y_trainset, y_testset = train_test_split(X, y, test_size=0.3, random_state=3)"
   ]
  },
  {
   "cell_type": "code",
   "execution_count": 86,
   "metadata": {},
   "outputs": [
    {
     "data": {
      "text/plain": [
       "DecisionTreeClassifier(class_weight=None, criterion='entropy', max_depth=4,\n",
       "                       max_features=None, max_leaf_nodes=None,\n",
       "                       min_impurity_decrease=0.0, min_impurity_split=None,\n",
       "                       min_samples_leaf=1, min_samples_split=2,\n",
       "                       min_weight_fraction_leaf=0.0, presort=False,\n",
       "                       random_state=None, splitter='best')"
      ]
     },
     "execution_count": 86,
     "metadata": {},
     "output_type": "execute_result"
    }
   ],
   "source": [
    "drugTree = DecisionTreeClassifier(criterion=\"entropy\", max_depth = 4)\n",
    "drugTree # it shows the default parameters"
   ]
  },
  {
   "cell_type": "code",
   "execution_count": 87,
   "metadata": {},
   "outputs": [
    {
     "data": {
      "text/plain": [
       "DecisionTreeClassifier(class_weight=None, criterion='entropy', max_depth=4,\n",
       "                       max_features=None, max_leaf_nodes=None,\n",
       "                       min_impurity_decrease=0.0, min_impurity_split=None,\n",
       "                       min_samples_leaf=1, min_samples_split=2,\n",
       "                       min_weight_fraction_leaf=0.0, presort=False,\n",
       "                       random_state=None, splitter='best')"
      ]
     },
     "execution_count": 87,
     "metadata": {},
     "output_type": "execute_result"
    }
   ],
   "source": [
    "drugTree.fit(X_trainset,y_trainset)"
   ]
  },
  {
   "cell_type": "code",
   "execution_count": 88,
   "metadata": {},
   "outputs": [],
   "source": [
    "predTree = drugTree.predict(X_testset)"
   ]
  },
  {
   "cell_type": "code",
   "execution_count": 89,
   "metadata": {},
   "outputs": [
    {
     "name": "stdout",
     "output_type": "stream",
     "text": [
      "['semestre_Rattrapage' 'semestre_Rattrapage' 'semestre_Rattrapage'\n",
      " 'semestre_Valide' 'semestre_Rattrapage']\n",
      "248        semestre_Valide\n",
      "320        semestre_Valide\n",
      "81         semestre_Valide\n",
      "255    semestre_Rattrapage\n",
      "217        semestre_Valide\n",
      "Name: resultat_etudiant, dtype: object\n"
     ]
    }
   ],
   "source": [
    "print (predTree [0:5])\n",
    "print (y_testset [0:5])\n"
   ]
  },
  {
   "cell_type": "code",
   "execution_count": 121,
   "metadata": {},
   "outputs": [
    {
     "name": "stdout",
     "output_type": "stream",
     "text": [
      "DecisionTrees's Accuracy:  0.6528925619834711\n"
     ]
    }
   ],
   "source": [
    "from sklearn import metrics\n",
    "import matplotlib.pyplot as plt\n",
    "print(\"DecisionTrees's Accuracy: \", metrics.accuracy_score(y_testset, predTree))"
   ]
  },
  {
   "cell_type": "code",
   "execution_count": null,
   "metadata": {},
   "outputs": [],
   "source": [
    "pip uninstall graphviz\n"
   ]
  },
  {
   "cell_type": "code",
   "execution_count": null,
   "metadata": {},
   "outputs": [],
   "source": [
    "pip uninstall pydotplus"
   ]
  },
  {
   "cell_type": "code",
   "execution_count": null,
   "metadata": {},
   "outputs": [],
   "source": [
    "conda install graphviz"
   ]
  },
  {
   "cell_type": "code",
   "execution_count": null,
   "metadata": {},
   "outputs": [],
   "source": [
    "conda install pydotplus"
   ]
  },
  {
   "cell_type": "code",
   "execution_count": null,
   "metadata": {},
   "outputs": [],
   "source": [
    "from sklearn.externals.six import StringIO\n",
    "import pydotplus\n",
    "import matplotlib.image as mpimg\n",
    "from sklearn import tree\n",
    "%matplotlib inline "
   ]
  },
  {
   "cell_type": "code",
   "execution_count": null,
   "metadata": {},
   "outputs": [],
   "source": [
    "dot_data = StringIO()\n",
    "filename = \"drugtree.png\"\n",
    "featureNames = df.columns[0:5]\n",
    "targetNames = df[\"resultat_etudiant\"].unique().tolist()\n",
    "out=tree.export_graphviz(drugTree,feature_names=featureNames, out_file=dot_data, class_names= np.unique(y_trainset), filled=True,  special_characters=True,rotate=False)  \n",
    "graph = pydotplus.graph_from_dot_data(dot_data.getvalue())  \n",
    "graph.write_png(filename)\n",
    "img = mpimg.imread(filename)\n",
    "plt.figure(figsize=(100, 200))\n",
    "plt.imshow(img,interpolation='nearest')\n",
    "print('test')"
   ]
  },
  {
   "cell_type": "code",
   "execution_count": null,
   "metadata": {},
   "outputs": [],
   "source": []
  },
  {
   "cell_type": "code",
   "execution_count": null,
   "metadata": {},
   "outputs": [],
   "source": []
  },
  {
   "cell_type": "code",
   "execution_count": null,
   "metadata": {},
   "outputs": [],
   "source": []
  },
  {
   "cell_type": "code",
   "execution_count": null,
   "metadata": {},
   "outputs": [],
   "source": []
  },
  {
   "cell_type": "code",
   "execution_count": null,
   "metadata": {},
   "outputs": [],
   "source": []
  },
  {
   "cell_type": "code",
   "execution_count": null,
   "metadata": {},
   "outputs": [],
   "source": []
  },
  {
   "cell_type": "code",
   "execution_count": null,
   "metadata": {},
   "outputs": [],
   "source": []
  },
  {
   "cell_type": "code",
   "execution_count": null,
   "metadata": {},
   "outputs": [],
   "source": []
  },
  {
   "cell_type": "code",
   "execution_count": null,
   "metadata": {},
   "outputs": [],
   "source": []
  },
  {
   "cell_type": "code",
   "execution_count": null,
   "metadata": {},
   "outputs": [],
   "source": []
  },
  {
   "cell_type": "code",
   "execution_count": null,
   "metadata": {},
   "outputs": [],
   "source": []
  },
  {
   "cell_type": "code",
   "execution_count": null,
   "metadata": {},
   "outputs": [],
   "source": []
  },
  {
   "cell_type": "code",
   "execution_count": null,
   "metadata": {},
   "outputs": [],
   "source": []
  },
  {
   "cell_type": "code",
   "execution_count": null,
   "metadata": {},
   "outputs": [],
   "source": []
  },
  {
   "cell_type": "code",
   "execution_count": null,
   "metadata": {},
   "outputs": [],
   "source": []
  },
  {
   "cell_type": "code",
   "execution_count": null,
   "metadata": {},
   "outputs": [],
   "source": []
  },
  {
   "cell_type": "code",
   "execution_count": null,
   "metadata": {},
   "outputs": [],
   "source": []
  },
  {
   "cell_type": "code",
   "execution_count": null,
   "metadata": {},
   "outputs": [],
   "source": []
  },
  {
   "cell_type": "code",
   "execution_count": null,
   "metadata": {},
   "outputs": [],
   "source": []
  },
  {
   "cell_type": "code",
   "execution_count": null,
   "metadata": {},
   "outputs": [],
   "source": []
  },
  {
   "cell_type": "code",
   "execution_count": null,
   "metadata": {},
   "outputs": [],
   "source": []
  },
  {
   "cell_type": "code",
   "execution_count": null,
   "metadata": {},
   "outputs": [],
   "source": []
  },
  {
   "cell_type": "code",
   "execution_count": null,
   "metadata": {},
   "outputs": [],
   "source": []
  },
  {
   "cell_type": "code",
   "execution_count": null,
   "metadata": {},
   "outputs": [],
   "source": []
  },
  {
   "cell_type": "code",
   "execution_count": null,
   "metadata": {},
   "outputs": [],
   "source": []
  },
  {
   "cell_type": "code",
   "execution_count": null,
   "metadata": {},
   "outputs": [],
   "source": []
  },
  {
   "cell_type": "code",
   "execution_count": null,
   "metadata": {},
   "outputs": [],
   "source": []
  },
  {
   "cell_type": "code",
   "execution_count": null,
   "metadata": {},
   "outputs": [],
   "source": []
  },
  {
   "cell_type": "code",
   "execution_count": null,
   "metadata": {},
   "outputs": [],
   "source": []
  },
  {
   "cell_type": "code",
   "execution_count": null,
   "metadata": {},
   "outputs": [],
   "source": []
  },
  {
   "cell_type": "code",
   "execution_count": null,
   "metadata": {},
   "outputs": [],
   "source": []
  },
  {
   "cell_type": "code",
   "execution_count": null,
   "metadata": {},
   "outputs": [],
   "source": []
  },
  {
   "cell_type": "code",
   "execution_count": null,
   "metadata": {},
   "outputs": [],
   "source": []
  },
  {
   "cell_type": "code",
   "execution_count": null,
   "metadata": {},
   "outputs": [],
   "source": []
  },
  {
   "cell_type": "code",
   "execution_count": 31,
   "metadata": {},
   "outputs": [
    {
     "data": {
      "text/plain": [
       "array(['Cafè', 'Chez moi', 'La Bibliothèque'], dtype=object)"
      ]
     },
     "execution_count": 31,
     "metadata": {},
     "output_type": "execute_result"
    }
   ],
   "source": [
    "endroittravail = np.unique(df[\"endroit_travail\"])\n",
    "endroittravail"
   ]
  },
  {
   "cell_type": "code",
   "execution_count": 32,
   "metadata": {},
   "outputs": [
    {
     "data": {
      "text/plain": [
       "{0: 'Cafè', 1: 'Chez moi', 2: 'La Bibliothèque'}"
      ]
     },
     "execution_count": 32,
     "metadata": {},
     "output_type": "execute_result"
    }
   ],
   "source": [
    "from sklearn.preprocessing import LabelEncoder\n",
    "gle = LabelEncoder()\n",
    "endroittravail_labels = gle.fit_transform(df['endroit_travail'])\n",
    "endroittravail_mappings = {index: label for index, label in \n",
    "                  enumerate(gle.classes_)}\n",
    "endroittravail_mappings"
   ]
  },
  {
   "cell_type": "code",
   "execution_count": 11,
   "metadata": {},
   "outputs": [],
   "source": [
    "df['endroi_labels'] = endroittravail_labels"
   ]
  },
  {
   "cell_type": "code",
   "execution_count": 33,
   "metadata": {},
   "outputs": [
    {
     "data": {
      "text/html": [
       "<div>\n",
       "<style scoped>\n",
       "    .dataframe tbody tr th:only-of-type {\n",
       "        vertical-align: middle;\n",
       "    }\n",
       "\n",
       "    .dataframe tbody tr th {\n",
       "        vertical-align: top;\n",
       "    }\n",
       "\n",
       "    .dataframe thead th {\n",
       "        text-align: right;\n",
       "    }\n",
       "</style>\n",
       "<table border=\"1\" class=\"dataframe\">\n",
       "  <thead>\n",
       "    <tr style=\"text-align: right;\">\n",
       "      <th></th>\n",
       "      <th>Unnamed: 0</th>\n",
       "      <th>sexe</th>\n",
       "      <th>age</th>\n",
       "      <th>logement</th>\n",
       "      <th>filiere</th>\n",
       "      <th>endroit_travail</th>\n",
       "      <th>travail_equipe</th>\n",
       "      <th>heure_dormir</th>\n",
       "      <th>sport_par_sem</th>\n",
       "      <th>activites_para</th>\n",
       "      <th>...</th>\n",
       "      <th>orientation</th>\n",
       "      <th>ressources_materials</th>\n",
       "      <th>Mauvais_Gestion_temps</th>\n",
       "      <th>qualite_logement</th>\n",
       "      <th>addiction_drogues</th>\n",
       "      <th>mauvais_choix_de_cours</th>\n",
       "      <th>réseaux_sociaux</th>\n",
       "      <th>Barrieres_de_langage</th>\n",
       "      <th>l'entourage</th>\n",
       "      <th>gaming</th>\n",
       "    </tr>\n",
       "  </thead>\n",
       "  <tbody>\n",
       "    <tr>\n",
       "      <td>0</td>\n",
       "      <td>0</td>\n",
       "      <td>Homme</td>\n",
       "      <td>21</td>\n",
       "      <td>Interne</td>\n",
       "      <td>GI</td>\n",
       "      <td>Cafè</td>\n",
       "      <td>0</td>\n",
       "      <td>00:00:00</td>\n",
       "      <td>parfois</td>\n",
       "      <td>1</td>\n",
       "      <td>...</td>\n",
       "      <td>0</td>\n",
       "      <td>0</td>\n",
       "      <td>1</td>\n",
       "      <td>1</td>\n",
       "      <td>0</td>\n",
       "      <td>0</td>\n",
       "      <td>0</td>\n",
       "      <td>1</td>\n",
       "      <td>1</td>\n",
       "      <td>0</td>\n",
       "    </tr>\n",
       "    <tr>\n",
       "      <td>1</td>\n",
       "      <td>1</td>\n",
       "      <td>Homme</td>\n",
       "      <td>18</td>\n",
       "      <td>Interne</td>\n",
       "      <td>CP1</td>\n",
       "      <td>La Bibliothèque</td>\n",
       "      <td>0</td>\n",
       "      <td>02:00:00</td>\n",
       "      <td>jamais</td>\n",
       "      <td>1</td>\n",
       "      <td>...</td>\n",
       "      <td>0</td>\n",
       "      <td>1</td>\n",
       "      <td>1</td>\n",
       "      <td>1</td>\n",
       "      <td>0</td>\n",
       "      <td>1</td>\n",
       "      <td>1</td>\n",
       "      <td>1</td>\n",
       "      <td>0</td>\n",
       "      <td>1</td>\n",
       "    </tr>\n",
       "    <tr>\n",
       "      <td>2</td>\n",
       "      <td>2</td>\n",
       "      <td>Homme</td>\n",
       "      <td>21</td>\n",
       "      <td>Interne</td>\n",
       "      <td>GI</td>\n",
       "      <td>Cafè</td>\n",
       "      <td>1</td>\n",
       "      <td>01:00:00</td>\n",
       "      <td>quelquefois</td>\n",
       "      <td>1</td>\n",
       "      <td>...</td>\n",
       "      <td>0</td>\n",
       "      <td>1</td>\n",
       "      <td>1</td>\n",
       "      <td>1</td>\n",
       "      <td>0</td>\n",
       "      <td>0</td>\n",
       "      <td>1</td>\n",
       "      <td>1</td>\n",
       "      <td>0</td>\n",
       "      <td>1</td>\n",
       "    </tr>\n",
       "    <tr>\n",
       "      <td>3</td>\n",
       "      <td>3</td>\n",
       "      <td>Homme</td>\n",
       "      <td>18</td>\n",
       "      <td>Externe</td>\n",
       "      <td>CP2</td>\n",
       "      <td>Cafè</td>\n",
       "      <td>1</td>\n",
       "      <td>02:00:00</td>\n",
       "      <td>jamais</td>\n",
       "      <td>1</td>\n",
       "      <td>...</td>\n",
       "      <td>0</td>\n",
       "      <td>0</td>\n",
       "      <td>0</td>\n",
       "      <td>0</td>\n",
       "      <td>0</td>\n",
       "      <td>1</td>\n",
       "      <td>1</td>\n",
       "      <td>0</td>\n",
       "      <td>0</td>\n",
       "      <td>0</td>\n",
       "    </tr>\n",
       "    <tr>\n",
       "      <td>4</td>\n",
       "      <td>4</td>\n",
       "      <td>Homme</td>\n",
       "      <td>21</td>\n",
       "      <td>Interne</td>\n",
       "      <td>GC</td>\n",
       "      <td>Chez moi</td>\n",
       "      <td>1</td>\n",
       "      <td>01:00:00</td>\n",
       "      <td>quelquefois</td>\n",
       "      <td>0</td>\n",
       "      <td>...</td>\n",
       "      <td>1</td>\n",
       "      <td>1</td>\n",
       "      <td>0</td>\n",
       "      <td>1</td>\n",
       "      <td>0</td>\n",
       "      <td>0</td>\n",
       "      <td>0</td>\n",
       "      <td>1</td>\n",
       "      <td>1</td>\n",
       "      <td>0</td>\n",
       "    </tr>\n",
       "  </tbody>\n",
       "</table>\n",
       "<p>5 rows × 30 columns</p>\n",
       "</div>"
      ],
      "text/plain": [
       "   Unnamed: 0   sexe  age logement filiere  endroit_travail  travail_equipe   \\\n",
       "0           0  Homme   21  Interne      GI             Cafè                0   \n",
       "1           1  Homme   18  Interne     CP1  La Bibliothèque                0   \n",
       "2           2  Homme   21  Interne      GI             Cafè                1   \n",
       "3           3  Homme   18  Externe     CP2             Cafè                1   \n",
       "4           4  Homme   21  Interne      GC         Chez moi                1   \n",
       "\n",
       "  heure_dormir  sport_par_sem  activites_para  ... orientation  \\\n",
       "0      00:00:00       parfois               1  ...           0   \n",
       "1      02:00:00        jamais               1  ...           0   \n",
       "2      01:00:00   quelquefois               1  ...           0   \n",
       "3      02:00:00        jamais               1  ...           0   \n",
       "4      01:00:00   quelquefois               0  ...           1   \n",
       "\n",
       "  ressources_materials Mauvais_Gestion_temps qualite_logement  \\\n",
       "0                    0                     1                1   \n",
       "1                    1                     1                1   \n",
       "2                    1                     1                1   \n",
       "3                    0                     0                0   \n",
       "4                    1                     0                1   \n",
       "\n",
       "  addiction_drogues mauvais_choix_de_cours réseaux_sociaux  \\\n",
       "0                 0                      0               0   \n",
       "1                 0                      1               1   \n",
       "2                 0                      0               1   \n",
       "3                 0                      1               1   \n",
       "4                 0                      0               0   \n",
       "\n",
       "   Barrieres_de_langage  l'entourage  gaming  \n",
       "0                     1            1       0  \n",
       "1                     1            0       1  \n",
       "2                     1            0       1  \n",
       "3                     0            0       0  \n",
       "4                     1            1       0  \n",
       "\n",
       "[5 rows x 30 columns]"
      ]
     },
     "execution_count": 33,
     "metadata": {},
     "output_type": "execute_result"
    }
   ],
   "source": [
    "df.head()"
   ]
  },
  {
   "cell_type": "markdown",
   "metadata": {},
   "source": [
    "Transforming Ordinal Attributes\n",
    "Ordinal attributes are categorical attributes with a sense of order amongst the values. Let’s consider our Pokémon dataset which we used in Part 1 of this series. Let’s focus more specifically on the Generation attribute."
   ]
  },
  {
   "cell_type": "code",
   "execution_count": 35,
   "metadata": {},
   "outputs": [
    {
     "data": {
      "text/plain": [
       "jamais         162\n",
       "parfois         91\n",
       "quelquefois     89\n",
       "rarement        60\n",
       "Name: sport_par_sem, dtype: int64"
      ]
     },
     "execution_count": 35,
     "metadata": {},
     "output_type": "execute_result"
    }
   ],
   "source": [
    "df['sport_par_sem'].value_counts()"
   ]
  },
  {
   "cell_type": "code",
   "execution_count": 37,
   "metadata": {},
   "outputs": [
    {
     "data": {
      "text/plain": [
       "0    162\n",
       "2     91\n",
       "3     89\n",
       "1     60\n",
       "Name: sport_par_sem, dtype: int64"
      ]
     },
     "execution_count": 37,
     "metadata": {},
     "output_type": "execute_result"
    }
   ],
   "source": [
    "df.loc[df[\"sport_par_sem\"] ==\"jamais\",\"sport_par_sem\"] =0\n",
    "df.loc[df[\"sport_par_sem\"] ==\"rarement\",\"sport_par_sem\"] =1\n",
    "df.loc[df[\"sport_par_sem\"] ==\"parfois\",\"sport_par_sem\"] =2\n",
    "df.loc[df[\"sport_par_sem\"] ==\"quelquefois\",\"sport_par_sem\"] =3\n",
    "df['sport_par_sem'].value_counts()"
   ]
  },
  {
   "cell_type": "code",
   "execution_count": 38,
   "metadata": {},
   "outputs": [
    {
     "data": {
      "text/html": [
       "<div>\n",
       "<style scoped>\n",
       "    .dataframe tbody tr th:only-of-type {\n",
       "        vertical-align: middle;\n",
       "    }\n",
       "\n",
       "    .dataframe tbody tr th {\n",
       "        vertical-align: top;\n",
       "    }\n",
       "\n",
       "    .dataframe thead th {\n",
       "        text-align: right;\n",
       "    }\n",
       "</style>\n",
       "<table border=\"1\" class=\"dataframe\">\n",
       "  <thead>\n",
       "    <tr style=\"text-align: right;\">\n",
       "      <th></th>\n",
       "      <th>Unnamed: 0</th>\n",
       "      <th>age</th>\n",
       "      <th>travail_equipe</th>\n",
       "      <th>sport_par_sem</th>\n",
       "      <th>activites_para</th>\n",
       "      <th>nombre_rattrapage</th>\n",
       "      <th>services_bibliothèques</th>\n",
       "      <th>transport_scolaire</th>\n",
       "      <th>orientation</th>\n",
       "      <th>ressources_materials</th>\n",
       "      <th>Mauvais_Gestion_temps</th>\n",
       "      <th>qualite_logement</th>\n",
       "      <th>addiction_drogues</th>\n",
       "      <th>mauvais_choix_de_cours</th>\n",
       "      <th>réseaux_sociaux</th>\n",
       "      <th>Barrieres_de_langage</th>\n",
       "      <th>l'entourage</th>\n",
       "      <th>gaming</th>\n",
       "    </tr>\n",
       "  </thead>\n",
       "  <tbody>\n",
       "    <tr>\n",
       "      <td>Unnamed: 0</td>\n",
       "      <td>1.000000</td>\n",
       "      <td>-0.357133</td>\n",
       "      <td>-0.060445</td>\n",
       "      <td>-0.031154</td>\n",
       "      <td>-0.051152</td>\n",
       "      <td>-0.083803</td>\n",
       "      <td>-0.022984</td>\n",
       "      <td>0.034614</td>\n",
       "      <td>0.028494</td>\n",
       "      <td>-0.052649</td>\n",
       "      <td>-0.019359</td>\n",
       "      <td>-0.016344</td>\n",
       "      <td>-0.079706</td>\n",
       "      <td>-0.135339</td>\n",
       "      <td>0.064145</td>\n",
       "      <td>-0.097508</td>\n",
       "      <td>-0.010635</td>\n",
       "      <td>0.054786</td>\n",
       "    </tr>\n",
       "    <tr>\n",
       "      <td>age</td>\n",
       "      <td>-0.357133</td>\n",
       "      <td>1.000000</td>\n",
       "      <td>0.068856</td>\n",
       "      <td>0.053915</td>\n",
       "      <td>0.016591</td>\n",
       "      <td>-0.106007</td>\n",
       "      <td>0.006499</td>\n",
       "      <td>-0.027209</td>\n",
       "      <td>-0.055768</td>\n",
       "      <td>0.168783</td>\n",
       "      <td>0.032204</td>\n",
       "      <td>0.010371</td>\n",
       "      <td>0.141048</td>\n",
       "      <td>-0.002803</td>\n",
       "      <td>-0.106438</td>\n",
       "      <td>0.077776</td>\n",
       "      <td>-0.026010</td>\n",
       "      <td>-0.051924</td>\n",
       "    </tr>\n",
       "    <tr>\n",
       "      <td>travail_equipe</td>\n",
       "      <td>-0.060445</td>\n",
       "      <td>0.068856</td>\n",
       "      <td>1.000000</td>\n",
       "      <td>0.066957</td>\n",
       "      <td>0.197740</td>\n",
       "      <td>-0.053337</td>\n",
       "      <td>-0.007571</td>\n",
       "      <td>0.064340</td>\n",
       "      <td>-0.036080</td>\n",
       "      <td>0.068236</td>\n",
       "      <td>-0.110190</td>\n",
       "      <td>-0.002035</td>\n",
       "      <td>0.032914</td>\n",
       "      <td>0.039129</td>\n",
       "      <td>-0.028350</td>\n",
       "      <td>0.014995</td>\n",
       "      <td>-0.045273</td>\n",
       "      <td>0.030471</td>\n",
       "    </tr>\n",
       "    <tr>\n",
       "      <td>sport_par_sem</td>\n",
       "      <td>-0.031154</td>\n",
       "      <td>0.053915</td>\n",
       "      <td>0.066957</td>\n",
       "      <td>1.000000</td>\n",
       "      <td>0.172667</td>\n",
       "      <td>-0.024748</td>\n",
       "      <td>-0.035503</td>\n",
       "      <td>0.024537</td>\n",
       "      <td>0.050139</td>\n",
       "      <td>0.139102</td>\n",
       "      <td>-0.077023</td>\n",
       "      <td>-0.022217</td>\n",
       "      <td>-0.006595</td>\n",
       "      <td>0.074356</td>\n",
       "      <td>-0.057912</td>\n",
       "      <td>-0.037035</td>\n",
       "      <td>0.037973</td>\n",
       "      <td>0.094721</td>\n",
       "    </tr>\n",
       "    <tr>\n",
       "      <td>activites_para</td>\n",
       "      <td>-0.051152</td>\n",
       "      <td>0.016591</td>\n",
       "      <td>0.197740</td>\n",
       "      <td>0.172667</td>\n",
       "      <td>1.000000</td>\n",
       "      <td>-0.053521</td>\n",
       "      <td>-0.084434</td>\n",
       "      <td>0.025236</td>\n",
       "      <td>-0.002120</td>\n",
       "      <td>0.183598</td>\n",
       "      <td>-0.027231</td>\n",
       "      <td>-0.005499</td>\n",
       "      <td>-0.013166</td>\n",
       "      <td>0.053001</td>\n",
       "      <td>0.028274</td>\n",
       "      <td>0.006476</td>\n",
       "      <td>0.014560</td>\n",
       "      <td>-0.013886</td>\n",
       "    </tr>\n",
       "    <tr>\n",
       "      <td>nombre_rattrapage</td>\n",
       "      <td>-0.083803</td>\n",
       "      <td>-0.106007</td>\n",
       "      <td>-0.053337</td>\n",
       "      <td>-0.024748</td>\n",
       "      <td>-0.053521</td>\n",
       "      <td>1.000000</td>\n",
       "      <td>0.024178</td>\n",
       "      <td>0.007664</td>\n",
       "      <td>0.067750</td>\n",
       "      <td>-0.110664</td>\n",
       "      <td>0.094815</td>\n",
       "      <td>0.014142</td>\n",
       "      <td>0.065848</td>\n",
       "      <td>0.112839</td>\n",
       "      <td>0.052557</td>\n",
       "      <td>0.018738</td>\n",
       "      <td>0.002650</td>\n",
       "      <td>0.041496</td>\n",
       "    </tr>\n",
       "    <tr>\n",
       "      <td>services_bibliothèques</td>\n",
       "      <td>-0.022984</td>\n",
       "      <td>0.006499</td>\n",
       "      <td>-0.007571</td>\n",
       "      <td>-0.035503</td>\n",
       "      <td>-0.084434</td>\n",
       "      <td>0.024178</td>\n",
       "      <td>1.000000</td>\n",
       "      <td>0.148076</td>\n",
       "      <td>0.175685</td>\n",
       "      <td>0.118648</td>\n",
       "      <td>0.037546</td>\n",
       "      <td>0.150530</td>\n",
       "      <td>0.114914</td>\n",
       "      <td>-0.003544</td>\n",
       "      <td>-0.061002</td>\n",
       "      <td>0.030708</td>\n",
       "      <td>0.097448</td>\n",
       "      <td>-0.036397</td>\n",
       "    </tr>\n",
       "    <tr>\n",
       "      <td>transport_scolaire</td>\n",
       "      <td>0.034614</td>\n",
       "      <td>-0.027209</td>\n",
       "      <td>0.064340</td>\n",
       "      <td>0.024537</td>\n",
       "      <td>0.025236</td>\n",
       "      <td>0.007664</td>\n",
       "      <td>0.148076</td>\n",
       "      <td>1.000000</td>\n",
       "      <td>0.165522</td>\n",
       "      <td>0.173080</td>\n",
       "      <td>-0.126130</td>\n",
       "      <td>0.015868</td>\n",
       "      <td>0.179522</td>\n",
       "      <td>-0.058775</td>\n",
       "      <td>-0.050150</td>\n",
       "      <td>0.084791</td>\n",
       "      <td>-0.031085</td>\n",
       "      <td>-0.012512</td>\n",
       "    </tr>\n",
       "    <tr>\n",
       "      <td>orientation</td>\n",
       "      <td>0.028494</td>\n",
       "      <td>-0.055768</td>\n",
       "      <td>-0.036080</td>\n",
       "      <td>0.050139</td>\n",
       "      <td>-0.002120</td>\n",
       "      <td>0.067750</td>\n",
       "      <td>0.175685</td>\n",
       "      <td>0.165522</td>\n",
       "      <td>1.000000</td>\n",
       "      <td>0.242299</td>\n",
       "      <td>0.016448</td>\n",
       "      <td>0.093160</td>\n",
       "      <td>0.096943</td>\n",
       "      <td>0.151169</td>\n",
       "      <td>0.013571</td>\n",
       "      <td>0.146375</td>\n",
       "      <td>0.081018</td>\n",
       "      <td>0.023896</td>\n",
       "    </tr>\n",
       "    <tr>\n",
       "      <td>ressources_materials</td>\n",
       "      <td>-0.052649</td>\n",
       "      <td>0.168783</td>\n",
       "      <td>0.068236</td>\n",
       "      <td>0.139102</td>\n",
       "      <td>0.183598</td>\n",
       "      <td>-0.110664</td>\n",
       "      <td>0.118648</td>\n",
       "      <td>0.173080</td>\n",
       "      <td>0.242299</td>\n",
       "      <td>1.000000</td>\n",
       "      <td>-0.065035</td>\n",
       "      <td>0.151329</td>\n",
       "      <td>0.102508</td>\n",
       "      <td>0.128059</td>\n",
       "      <td>-0.013852</td>\n",
       "      <td>0.060891</td>\n",
       "      <td>0.032201</td>\n",
       "      <td>0.054998</td>\n",
       "    </tr>\n",
       "    <tr>\n",
       "      <td>Mauvais_Gestion_temps</td>\n",
       "      <td>-0.019359</td>\n",
       "      <td>0.032204</td>\n",
       "      <td>-0.110190</td>\n",
       "      <td>-0.077023</td>\n",
       "      <td>-0.027231</td>\n",
       "      <td>0.094815</td>\n",
       "      <td>0.037546</td>\n",
       "      <td>-0.126130</td>\n",
       "      <td>0.016448</td>\n",
       "      <td>-0.065035</td>\n",
       "      <td>1.000000</td>\n",
       "      <td>-0.004978</td>\n",
       "      <td>0.039712</td>\n",
       "      <td>0.093645</td>\n",
       "      <td>0.154896</td>\n",
       "      <td>0.023048</td>\n",
       "      <td>0.152861</td>\n",
       "      <td>-0.031713</td>\n",
       "    </tr>\n",
       "    <tr>\n",
       "      <td>qualite_logement</td>\n",
       "      <td>-0.016344</td>\n",
       "      <td>0.010371</td>\n",
       "      <td>-0.002035</td>\n",
       "      <td>-0.022217</td>\n",
       "      <td>-0.005499</td>\n",
       "      <td>0.014142</td>\n",
       "      <td>0.150530</td>\n",
       "      <td>0.015868</td>\n",
       "      <td>0.093160</td>\n",
       "      <td>0.151329</td>\n",
       "      <td>-0.004978</td>\n",
       "      <td>1.000000</td>\n",
       "      <td>0.162004</td>\n",
       "      <td>0.191018</td>\n",
       "      <td>0.005837</td>\n",
       "      <td>0.177913</td>\n",
       "      <td>0.203300</td>\n",
       "      <td>0.072352</td>\n",
       "    </tr>\n",
       "    <tr>\n",
       "      <td>addiction_drogues</td>\n",
       "      <td>-0.079706</td>\n",
       "      <td>0.141048</td>\n",
       "      <td>0.032914</td>\n",
       "      <td>-0.006595</td>\n",
       "      <td>-0.013166</td>\n",
       "      <td>0.065848</td>\n",
       "      <td>0.114914</td>\n",
       "      <td>0.179522</td>\n",
       "      <td>0.096943</td>\n",
       "      <td>0.102508</td>\n",
       "      <td>0.039712</td>\n",
       "      <td>0.162004</td>\n",
       "      <td>1.000000</td>\n",
       "      <td>0.115277</td>\n",
       "      <td>-0.052465</td>\n",
       "      <td>0.236237</td>\n",
       "      <td>0.104817</td>\n",
       "      <td>0.118087</td>\n",
       "    </tr>\n",
       "    <tr>\n",
       "      <td>mauvais_choix_de_cours</td>\n",
       "      <td>-0.135339</td>\n",
       "      <td>-0.002803</td>\n",
       "      <td>0.039129</td>\n",
       "      <td>0.074356</td>\n",
       "      <td>0.053001</td>\n",
       "      <td>0.112839</td>\n",
       "      <td>-0.003544</td>\n",
       "      <td>-0.058775</td>\n",
       "      <td>0.151169</td>\n",
       "      <td>0.128059</td>\n",
       "      <td>0.093645</td>\n",
       "      <td>0.191018</td>\n",
       "      <td>0.115277</td>\n",
       "      <td>1.000000</td>\n",
       "      <td>0.061262</td>\n",
       "      <td>0.171170</td>\n",
       "      <td>0.132077</td>\n",
       "      <td>0.077872</td>\n",
       "    </tr>\n",
       "    <tr>\n",
       "      <td>réseaux_sociaux</td>\n",
       "      <td>0.064145</td>\n",
       "      <td>-0.106438</td>\n",
       "      <td>-0.028350</td>\n",
       "      <td>-0.057912</td>\n",
       "      <td>0.028274</td>\n",
       "      <td>0.052557</td>\n",
       "      <td>-0.061002</td>\n",
       "      <td>-0.050150</td>\n",
       "      <td>0.013571</td>\n",
       "      <td>-0.013852</td>\n",
       "      <td>0.154896</td>\n",
       "      <td>0.005837</td>\n",
       "      <td>-0.052465</td>\n",
       "      <td>0.061262</td>\n",
       "      <td>1.000000</td>\n",
       "      <td>-0.007908</td>\n",
       "      <td>0.137358</td>\n",
       "      <td>0.125407</td>\n",
       "    </tr>\n",
       "    <tr>\n",
       "      <td>Barrieres_de_langage</td>\n",
       "      <td>-0.097508</td>\n",
       "      <td>0.077776</td>\n",
       "      <td>0.014995</td>\n",
       "      <td>-0.037035</td>\n",
       "      <td>0.006476</td>\n",
       "      <td>0.018738</td>\n",
       "      <td>0.030708</td>\n",
       "      <td>0.084791</td>\n",
       "      <td>0.146375</td>\n",
       "      <td>0.060891</td>\n",
       "      <td>0.023048</td>\n",
       "      <td>0.177913</td>\n",
       "      <td>0.236237</td>\n",
       "      <td>0.171170</td>\n",
       "      <td>-0.007908</td>\n",
       "      <td>1.000000</td>\n",
       "      <td>0.075894</td>\n",
       "      <td>0.155576</td>\n",
       "    </tr>\n",
       "    <tr>\n",
       "      <td>l'entourage</td>\n",
       "      <td>-0.010635</td>\n",
       "      <td>-0.026010</td>\n",
       "      <td>-0.045273</td>\n",
       "      <td>0.037973</td>\n",
       "      <td>0.014560</td>\n",
       "      <td>0.002650</td>\n",
       "      <td>0.097448</td>\n",
       "      <td>-0.031085</td>\n",
       "      <td>0.081018</td>\n",
       "      <td>0.032201</td>\n",
       "      <td>0.152861</td>\n",
       "      <td>0.203300</td>\n",
       "      <td>0.104817</td>\n",
       "      <td>0.132077</td>\n",
       "      <td>0.137358</td>\n",
       "      <td>0.075894</td>\n",
       "      <td>1.000000</td>\n",
       "      <td>0.029221</td>\n",
       "    </tr>\n",
       "    <tr>\n",
       "      <td>gaming</td>\n",
       "      <td>0.054786</td>\n",
       "      <td>-0.051924</td>\n",
       "      <td>0.030471</td>\n",
       "      <td>0.094721</td>\n",
       "      <td>-0.013886</td>\n",
       "      <td>0.041496</td>\n",
       "      <td>-0.036397</td>\n",
       "      <td>-0.012512</td>\n",
       "      <td>0.023896</td>\n",
       "      <td>0.054998</td>\n",
       "      <td>-0.031713</td>\n",
       "      <td>0.072352</td>\n",
       "      <td>0.118087</td>\n",
       "      <td>0.077872</td>\n",
       "      <td>0.125407</td>\n",
       "      <td>0.155576</td>\n",
       "      <td>0.029221</td>\n",
       "      <td>1.000000</td>\n",
       "    </tr>\n",
       "  </tbody>\n",
       "</table>\n",
       "</div>"
      ],
      "text/plain": [
       "                        Unnamed: 0       age  travail_equipe   sport_par_sem  \\\n",
       "Unnamed: 0                1.000000 -0.357133        -0.060445      -0.031154   \n",
       "age                      -0.357133  1.000000         0.068856       0.053915   \n",
       "travail_equipe           -0.060445  0.068856         1.000000       0.066957   \n",
       "sport_par_sem            -0.031154  0.053915         0.066957       1.000000   \n",
       "activites_para           -0.051152  0.016591         0.197740       0.172667   \n",
       "nombre_rattrapage        -0.083803 -0.106007        -0.053337      -0.024748   \n",
       "services_bibliothèques   -0.022984  0.006499        -0.007571      -0.035503   \n",
       "transport_scolaire        0.034614 -0.027209         0.064340       0.024537   \n",
       "orientation               0.028494 -0.055768        -0.036080       0.050139   \n",
       "ressources_materials     -0.052649  0.168783         0.068236       0.139102   \n",
       "Mauvais_Gestion_temps    -0.019359  0.032204        -0.110190      -0.077023   \n",
       "qualite_logement         -0.016344  0.010371        -0.002035      -0.022217   \n",
       "addiction_drogues        -0.079706  0.141048         0.032914      -0.006595   \n",
       "mauvais_choix_de_cours   -0.135339 -0.002803         0.039129       0.074356   \n",
       "réseaux_sociaux           0.064145 -0.106438        -0.028350      -0.057912   \n",
       "Barrieres_de_langage     -0.097508  0.077776         0.014995      -0.037035   \n",
       "l'entourage              -0.010635 -0.026010        -0.045273       0.037973   \n",
       "gaming                    0.054786 -0.051924         0.030471       0.094721   \n",
       "\n",
       "                        activites_para  nombre_rattrapage  \\\n",
       "Unnamed: 0                   -0.051152          -0.083803   \n",
       "age                           0.016591          -0.106007   \n",
       "travail_equipe                0.197740          -0.053337   \n",
       "sport_par_sem                 0.172667          -0.024748   \n",
       "activites_para                1.000000          -0.053521   \n",
       "nombre_rattrapage            -0.053521           1.000000   \n",
       "services_bibliothèques       -0.084434           0.024178   \n",
       "transport_scolaire            0.025236           0.007664   \n",
       "orientation                  -0.002120           0.067750   \n",
       "ressources_materials          0.183598          -0.110664   \n",
       "Mauvais_Gestion_temps        -0.027231           0.094815   \n",
       "qualite_logement             -0.005499           0.014142   \n",
       "addiction_drogues            -0.013166           0.065848   \n",
       "mauvais_choix_de_cours        0.053001           0.112839   \n",
       "réseaux_sociaux               0.028274           0.052557   \n",
       "Barrieres_de_langage          0.006476           0.018738   \n",
       "l'entourage                   0.014560           0.002650   \n",
       "gaming                       -0.013886           0.041496   \n",
       "\n",
       "                        services_bibliothèques  transport_scolaire  \\\n",
       "Unnamed: 0                           -0.022984            0.034614   \n",
       "age                                   0.006499           -0.027209   \n",
       "travail_equipe                       -0.007571            0.064340   \n",
       "sport_par_sem                        -0.035503            0.024537   \n",
       "activites_para                       -0.084434            0.025236   \n",
       "nombre_rattrapage                     0.024178            0.007664   \n",
       "services_bibliothèques                1.000000            0.148076   \n",
       "transport_scolaire                    0.148076            1.000000   \n",
       "orientation                           0.175685            0.165522   \n",
       "ressources_materials                  0.118648            0.173080   \n",
       "Mauvais_Gestion_temps                 0.037546           -0.126130   \n",
       "qualite_logement                      0.150530            0.015868   \n",
       "addiction_drogues                     0.114914            0.179522   \n",
       "mauvais_choix_de_cours               -0.003544           -0.058775   \n",
       "réseaux_sociaux                      -0.061002           -0.050150   \n",
       "Barrieres_de_langage                  0.030708            0.084791   \n",
       "l'entourage                           0.097448           -0.031085   \n",
       "gaming                               -0.036397           -0.012512   \n",
       "\n",
       "                        orientation  ressources_materials  \\\n",
       "Unnamed: 0                 0.028494             -0.052649   \n",
       "age                       -0.055768              0.168783   \n",
       "travail_equipe            -0.036080              0.068236   \n",
       "sport_par_sem              0.050139              0.139102   \n",
       "activites_para            -0.002120              0.183598   \n",
       "nombre_rattrapage          0.067750             -0.110664   \n",
       "services_bibliothèques     0.175685              0.118648   \n",
       "transport_scolaire         0.165522              0.173080   \n",
       "orientation                1.000000              0.242299   \n",
       "ressources_materials       0.242299              1.000000   \n",
       "Mauvais_Gestion_temps      0.016448             -0.065035   \n",
       "qualite_logement           0.093160              0.151329   \n",
       "addiction_drogues          0.096943              0.102508   \n",
       "mauvais_choix_de_cours     0.151169              0.128059   \n",
       "réseaux_sociaux            0.013571             -0.013852   \n",
       "Barrieres_de_langage       0.146375              0.060891   \n",
       "l'entourage                0.081018              0.032201   \n",
       "gaming                     0.023896              0.054998   \n",
       "\n",
       "                        Mauvais_Gestion_temps  qualite_logement  \\\n",
       "Unnamed: 0                          -0.019359         -0.016344   \n",
       "age                                  0.032204          0.010371   \n",
       "travail_equipe                      -0.110190         -0.002035   \n",
       "sport_par_sem                       -0.077023         -0.022217   \n",
       "activites_para                      -0.027231         -0.005499   \n",
       "nombre_rattrapage                    0.094815          0.014142   \n",
       "services_bibliothèques               0.037546          0.150530   \n",
       "transport_scolaire                  -0.126130          0.015868   \n",
       "orientation                          0.016448          0.093160   \n",
       "ressources_materials                -0.065035          0.151329   \n",
       "Mauvais_Gestion_temps                1.000000         -0.004978   \n",
       "qualite_logement                    -0.004978          1.000000   \n",
       "addiction_drogues                    0.039712          0.162004   \n",
       "mauvais_choix_de_cours               0.093645          0.191018   \n",
       "réseaux_sociaux                      0.154896          0.005837   \n",
       "Barrieres_de_langage                 0.023048          0.177913   \n",
       "l'entourage                          0.152861          0.203300   \n",
       "gaming                              -0.031713          0.072352   \n",
       "\n",
       "                        addiction_drogues  mauvais_choix_de_cours  \\\n",
       "Unnamed: 0                      -0.079706               -0.135339   \n",
       "age                              0.141048               -0.002803   \n",
       "travail_equipe                   0.032914                0.039129   \n",
       "sport_par_sem                   -0.006595                0.074356   \n",
       "activites_para                  -0.013166                0.053001   \n",
       "nombre_rattrapage                0.065848                0.112839   \n",
       "services_bibliothèques           0.114914               -0.003544   \n",
       "transport_scolaire               0.179522               -0.058775   \n",
       "orientation                      0.096943                0.151169   \n",
       "ressources_materials             0.102508                0.128059   \n",
       "Mauvais_Gestion_temps            0.039712                0.093645   \n",
       "qualite_logement                 0.162004                0.191018   \n",
       "addiction_drogues                1.000000                0.115277   \n",
       "mauvais_choix_de_cours           0.115277                1.000000   \n",
       "réseaux_sociaux                 -0.052465                0.061262   \n",
       "Barrieres_de_langage             0.236237                0.171170   \n",
       "l'entourage                      0.104817                0.132077   \n",
       "gaming                           0.118087                0.077872   \n",
       "\n",
       "                        réseaux_sociaux  Barrieres_de_langage  l'entourage  \\\n",
       "Unnamed: 0                     0.064145             -0.097508    -0.010635   \n",
       "age                           -0.106438              0.077776    -0.026010   \n",
       "travail_equipe                -0.028350              0.014995    -0.045273   \n",
       "sport_par_sem                 -0.057912             -0.037035     0.037973   \n",
       "activites_para                 0.028274              0.006476     0.014560   \n",
       "nombre_rattrapage              0.052557              0.018738     0.002650   \n",
       "services_bibliothèques        -0.061002              0.030708     0.097448   \n",
       "transport_scolaire            -0.050150              0.084791    -0.031085   \n",
       "orientation                    0.013571              0.146375     0.081018   \n",
       "ressources_materials          -0.013852              0.060891     0.032201   \n",
       "Mauvais_Gestion_temps          0.154896              0.023048     0.152861   \n",
       "qualite_logement               0.005837              0.177913     0.203300   \n",
       "addiction_drogues             -0.052465              0.236237     0.104817   \n",
       "mauvais_choix_de_cours         0.061262              0.171170     0.132077   \n",
       "réseaux_sociaux                1.000000             -0.007908     0.137358   \n",
       "Barrieres_de_langage          -0.007908              1.000000     0.075894   \n",
       "l'entourage                    0.137358              0.075894     1.000000   \n",
       "gaming                         0.125407              0.155576     0.029221   \n",
       "\n",
       "                          gaming  \n",
       "Unnamed: 0              0.054786  \n",
       "age                    -0.051924  \n",
       "travail_equipe          0.030471  \n",
       "sport_par_sem           0.094721  \n",
       "activites_para         -0.013886  \n",
       "nombre_rattrapage       0.041496  \n",
       "services_bibliothèques -0.036397  \n",
       "transport_scolaire     -0.012512  \n",
       "orientation             0.023896  \n",
       "ressources_materials    0.054998  \n",
       "Mauvais_Gestion_temps  -0.031713  \n",
       "qualite_logement        0.072352  \n",
       "addiction_drogues       0.118087  \n",
       "mauvais_choix_de_cours  0.077872  \n",
       "réseaux_sociaux         0.125407  \n",
       "Barrieres_de_langage    0.155576  \n",
       "l'entourage             0.029221  \n",
       "gaming                  1.000000  "
      ]
     },
     "execution_count": 38,
     "metadata": {},
     "output_type": "execute_result"
    }
   ],
   "source": [
    "df.corr()"
   ]
  },
  {
   "cell_type": "code",
   "execution_count": 40,
   "metadata": {},
   "outputs": [
    {
     "data": {
      "text/plain": [
       "Index(['Unnamed: 0', 'sexe', 'age', 'logement', 'filiere', 'endroit_travail',\n",
       "       'travail_equipe ', 'heure_dormir ', 'sport_par_sem', 'activites_para',\n",
       "       'rythme_formation ', 'compétences_enseignants ',\n",
       "       'communication_enseignants', 'méthodes_pédagogiques',\n",
       "       'etat_psychique_preparation ', 'etat_psychique_examen',\n",
       "       'resultat_etudiant', 'nombre_rattrapage', 'services_bibliothèques',\n",
       "       'transport_scolaire', 'orientation', 'ressources_materials',\n",
       "       'Mauvais_Gestion_temps', 'qualite_logement', 'addiction_drogues',\n",
       "       'mauvais_choix_de_cours', 'réseaux_sociaux', 'Barrieres_de_langage',\n",
       "       'l'entourage', 'gaming'],\n",
       "      dtype='object')"
      ]
     },
     "execution_count": 40,
     "metadata": {},
     "output_type": "execute_result"
    }
   ],
   "source": [
    "df.columns"
   ]
  },
  {
   "cell_type": "code",
   "execution_count": 43,
   "metadata": {},
   "outputs": [],
   "source": [
    "del df['Unnamed: 0']\n"
   ]
  },
  {
   "cell_type": "code",
   "execution_count": 44,
   "metadata": {},
   "outputs": [],
   "source": [
    "Z = df[['age', 'sport_par_sem', 'activites_para', 'ressources_materials' ,'mauvais_choix_de_cours','réseaux_sociaux']]"
   ]
  },
  {
   "cell_type": "code",
   "execution_count": 45,
   "metadata": {},
   "outputs": [],
   "source": [
    "from sklearn.linear_model import LinearRegression"
   ]
  },
  {
   "cell_type": "code",
   "execution_count": 46,
   "metadata": {},
   "outputs": [
    {
     "data": {
      "text/plain": [
       "LinearRegression(copy_X=True, fit_intercept=True, n_jobs=None, normalize=False)"
      ]
     },
     "execution_count": 46,
     "metadata": {},
     "output_type": "execute_result"
    }
   ],
   "source": [
    "lm = LinearRegression()\n",
    "lm"
   ]
  },
  {
   "cell_type": "code",
   "execution_count": 47,
   "metadata": {},
   "outputs": [
    {
     "data": {
      "text/plain": [
       "LinearRegression(copy_X=True, fit_intercept=True, n_jobs=None, normalize=False)"
      ]
     },
     "execution_count": 47,
     "metadata": {},
     "output_type": "execute_result"
    }
   ],
   "source": [
    "lm.fit(Z, df['nombre_rattrapage'])"
   ]
  },
  {
   "cell_type": "code",
   "execution_count": 48,
   "metadata": {},
   "outputs": [
    {
     "data": {
      "text/plain": [
       "2.7841527367927803"
      ]
     },
     "execution_count": 48,
     "metadata": {},
     "output_type": "execute_result"
    }
   ],
   "source": [
    "lm.intercept_"
   ]
  },
  {
   "cell_type": "code",
   "execution_count": 49,
   "metadata": {},
   "outputs": [
    {
     "data": {
      "text/plain": [
       "array([-0.06796387, -0.00698258, -0.1059138 , -0.28015968,  0.34230978,\n",
       "        0.09491447])"
      ]
     },
     "execution_count": 49,
     "metadata": {},
     "output_type": "execute_result"
    }
   ],
   "source": [
    "lm.coef_"
   ]
  },
  {
   "cell_type": "code",
   "execution_count": 50,
   "metadata": {},
   "outputs": [],
   "source": [
    "# import the visualization package: seaborn\n",
    "import seaborn as sns\n",
    "%matplotlib inline "
   ]
  },
  {
   "cell_type": "code",
   "execution_count": 52,
   "metadata": {},
   "outputs": [
    {
     "data": {
      "text/plain": [
       "(0, 5.250973416581552)"
      ]
     },
     "execution_count": 52,
     "metadata": {},
     "output_type": "execute_result"
    },
    {
     "data": {
      "image/png": "[encoded data removed]",
      "text/plain": [
       "<Figure size 864x720 with 1 Axes>"
      ]
     },
     "metadata": {
      "needs_background": "light"
     },
     "output_type": "display_data"
    }
   ],
   "source": [
    "width = 12\n",
    "height = 10\n",
    "plt.figure(figsize=(width, height))\n",
    "sns.regplot(x=\"sport_par_sem\", y=\"nombre_rattrapage\", data=df)\n",
    "plt.ylim(0,)"
   ]
  },
  {
   "cell_type": "code",
   "execution_count": 57,
   "metadata": {},
   "outputs": [],
   "source": [
    "Y_hat = lm.predict(Z)"
   ]
  },
  {
   "cell_type": "code",
   "execution_count": 56,
   "metadata": {},
   "outputs": [
    {
     "ename": "NameError",
     "evalue": "name 'Yhat' is not defined",
     "output_type": "error",
     "traceback": [
      "\u001b[1;31m---------------------------------------------------------------------------\u001b[0m",
      "\u001b[1;31mNameError\u001b[0m                                 Traceback (most recent call last)",
      "\u001b[1;32m<ipython-input-56-ab5120be6fe5>\u001b[0m in \u001b[0;36m<module>\u001b[1;34m\u001b[0m\n\u001b[0;32m      3\u001b[0m \u001b[1;33m\u001b[0m\u001b[0m\n\u001b[0;32m      4\u001b[0m \u001b[0max1\u001b[0m \u001b[1;33m=\u001b[0m \u001b[0msns\u001b[0m\u001b[1;33m.\u001b[0m\u001b[0mdistplot\u001b[0m\u001b[1;33m(\u001b[0m\u001b[0mdf\u001b[0m\u001b[1;33m[\u001b[0m\u001b[1;34m'nombre_rattrapage'\u001b[0m\u001b[1;33m]\u001b[0m\u001b[1;33m,\u001b[0m \u001b[0mhist\u001b[0m\u001b[1;33m=\u001b[0m\u001b[1;32mFalse\u001b[0m\u001b[1;33m,\u001b[0m \u001b[0mcolor\u001b[0m\u001b[1;33m=\u001b[0m\u001b[1;34m\"r\"\u001b[0m\u001b[1;33m,\u001b[0m \u001b[0mlabel\u001b[0m\u001b[1;33m=\u001b[0m\u001b[1;34m\"Actual Value\"\u001b[0m\u001b[1;33m)\u001b[0m\u001b[1;33m\u001b[0m\u001b[1;33m\u001b[0m\u001b[0m\n\u001b[1;32m----> 5\u001b[1;33m \u001b[0msns\u001b[0m\u001b[1;33m.\u001b[0m\u001b[0mdistplot\u001b[0m\u001b[1;33m(\u001b[0m\u001b[0mYhat\u001b[0m\u001b[1;33m,\u001b[0m \u001b[0mhist\u001b[0m\u001b[1;33m=\u001b[0m\u001b[1;32mFalse\u001b[0m\u001b[1;33m,\u001b[0m \u001b[0mcolor\u001b[0m\u001b[1;33m=\u001b[0m\u001b[1;34m\"b\"\u001b[0m\u001b[1;33m,\u001b[0m \u001b[0mlabel\u001b[0m\u001b[1;33m=\u001b[0m\u001b[1;34m\"Fitted Values\"\u001b[0m \u001b[1;33m,\u001b[0m \u001b[0max\u001b[0m\u001b[1;33m=\u001b[0m\u001b[0max1\u001b[0m\u001b[1;33m)\u001b[0m\u001b[1;33m\u001b[0m\u001b[1;33m\u001b[0m\u001b[0m\n\u001b[0m\u001b[0;32m      6\u001b[0m \u001b[1;33m\u001b[0m\u001b[0m\n\u001b[0;32m      7\u001b[0m \u001b[1;33m\u001b[0m\u001b[0m\n",
      "\u001b[1;31mNameError\u001b[0m: name 'Yhat' is not defined"
     ]
    },
    {
     "data": {
      "image/png": "[encoded data removed]",
      "text/plain": [
       "<Figure size 864x720 with 1 Axes>"
      ]
     },
     "metadata": {
      "needs_background": "light"
     },
     "output_type": "display_data"
    }
   ],
   "source": [
    "plt.figure(figsize=(width, height))\n",
    "\n",
    "\n",
    "ax1 = sns.distplot(df['nombre_rattrapage'], hist=False, color=\"r\", label=\"Actual Value\")\n",
    "sns.distplot(Yhat, hist=False, color=\"b\", label=\"Fitted Values\" , ax=ax1)\n",
    "\n",
    "\n",
    "plt.title('Actual vs Fitted Values for Price')\n",
    "plt.xlabel('Price (in dollars)')\n",
    "plt.ylabel('Proportion of Cars')\n",
    "\n",
    "plt.show()\n",
    "plt.close()"
   ]
  },
  {
   "cell_type": "code",
   "execution_count": 2,
   "metadata": {},
   "outputs": [
    {
     "data": {
      "text/html": [
       "<div>\n",
       "<style scoped>\n",
       "    .dataframe tbody tr th:only-of-type {\n",
       "        vertical-align: middle;\n",
       "    }\n",
       "\n",
       "    .dataframe tbody tr th {\n",
       "        vertical-align: top;\n",
       "    }\n",
       "\n",
       "    .dataframe thead th {\n",
       "        text-align: right;\n",
       "    }\n",
       "</style>\n",
       "<table border=\"1\" class=\"dataframe\">\n",
       "  <thead>\n",
       "    <tr style=\"text-align: right;\">\n",
       "      <th></th>\n",
       "      <th>Unnamed: 0</th>\n",
       "      <th>sexe</th>\n",
       "      <th>age</th>\n",
       "      <th>logement</th>\n",
       "      <th>filiere</th>\n",
       "      <th>endroit_travail</th>\n",
       "      <th>travail_equipe</th>\n",
       "      <th>heure_dormir</th>\n",
       "      <th>sport_par_sem</th>\n",
       "      <th>activites_para</th>\n",
       "      <th>...</th>\n",
       "      <th>orientation</th>\n",
       "      <th>ressources_materials</th>\n",
       "      <th>Mauvais_Gestion_temps</th>\n",
       "      <th>qualite_logement</th>\n",
       "      <th>addiction_drogues</th>\n",
       "      <th>mauvais_choix_de_cours</th>\n",
       "      <th>réseaux_sociaux</th>\n",
       "      <th>Barrieres_de_langage</th>\n",
       "      <th>l'entourage</th>\n",
       "      <th>gaming</th>\n",
       "    </tr>\n",
       "  </thead>\n",
       "  <tbody>\n",
       "    <tr>\n",
       "      <td>0</td>\n",
       "      <td>0</td>\n",
       "      <td>Homme</td>\n",
       "      <td>21</td>\n",
       "      <td>Interne</td>\n",
       "      <td>GI</td>\n",
       "      <td>Cafè</td>\n",
       "      <td>0</td>\n",
       "      <td>00:00:00</td>\n",
       "      <td>parfois</td>\n",
       "      <td>1</td>\n",
       "      <td>...</td>\n",
       "      <td>0</td>\n",
       "      <td>0</td>\n",
       "      <td>1</td>\n",
       "      <td>1</td>\n",
       "      <td>0</td>\n",
       "      <td>0</td>\n",
       "      <td>0</td>\n",
       "      <td>1</td>\n",
       "      <td>1</td>\n",
       "      <td>0</td>\n",
       "    </tr>\n",
       "    <tr>\n",
       "      <td>1</td>\n",
       "      <td>1</td>\n",
       "      <td>Homme</td>\n",
       "      <td>18</td>\n",
       "      <td>Interne</td>\n",
       "      <td>CP1</td>\n",
       "      <td>La Bibliothèque</td>\n",
       "      <td>0</td>\n",
       "      <td>02:00:00</td>\n",
       "      <td>jamais</td>\n",
       "      <td>1</td>\n",
       "      <td>...</td>\n",
       "      <td>0</td>\n",
       "      <td>1</td>\n",
       "      <td>1</td>\n",
       "      <td>1</td>\n",
       "      <td>0</td>\n",
       "      <td>1</td>\n",
       "      <td>1</td>\n",
       "      <td>1</td>\n",
       "      <td>0</td>\n",
       "      <td>1</td>\n",
       "    </tr>\n",
       "    <tr>\n",
       "      <td>2</td>\n",
       "      <td>2</td>\n",
       "      <td>Homme</td>\n",
       "      <td>21</td>\n",
       "      <td>Interne</td>\n",
       "      <td>GI</td>\n",
       "      <td>Cafè</td>\n",
       "      <td>1</td>\n",
       "      <td>01:00:00</td>\n",
       "      <td>quelquefois</td>\n",
       "      <td>1</td>\n",
       "      <td>...</td>\n",
       "      <td>0</td>\n",
       "      <td>1</td>\n",
       "      <td>1</td>\n",
       "      <td>1</td>\n",
       "      <td>0</td>\n",
       "      <td>0</td>\n",
       "      <td>1</td>\n",
       "      <td>1</td>\n",
       "      <td>0</td>\n",
       "      <td>1</td>\n",
       "    </tr>\n",
       "    <tr>\n",
       "      <td>3</td>\n",
       "      <td>3</td>\n",
       "      <td>Homme</td>\n",
       "      <td>18</td>\n",
       "      <td>Externe</td>\n",
       "      <td>CP2</td>\n",
       "      <td>Cafè</td>\n",
       "      <td>1</td>\n",
       "      <td>02:00:00</td>\n",
       "      <td>jamais</td>\n",
       "      <td>1</td>\n",
       "      <td>...</td>\n",
       "      <td>0</td>\n",
       "      <td>0</td>\n",
       "      <td>0</td>\n",
       "      <td>0</td>\n",
       "      <td>0</td>\n",
       "      <td>1</td>\n",
       "      <td>1</td>\n",
       "      <td>0</td>\n",
       "      <td>0</td>\n",
       "      <td>0</td>\n",
       "    </tr>\n",
       "    <tr>\n",
       "      <td>4</td>\n",
       "      <td>4</td>\n",
       "      <td>Homme</td>\n",
       "      <td>21</td>\n",
       "      <td>Interne</td>\n",
       "      <td>GC</td>\n",
       "      <td>Chez moi</td>\n",
       "      <td>1</td>\n",
       "      <td>01:00:00</td>\n",
       "      <td>quelquefois</td>\n",
       "      <td>0</td>\n",
       "      <td>...</td>\n",
       "      <td>1</td>\n",
       "      <td>1</td>\n",
       "      <td>0</td>\n",
       "      <td>1</td>\n",
       "      <td>0</td>\n",
       "      <td>0</td>\n",
       "      <td>0</td>\n",
       "      <td>1</td>\n",
       "      <td>1</td>\n",
       "      <td>0</td>\n",
       "    </tr>\n",
       "  </tbody>\n",
       "</table>\n",
       "<p>5 rows × 30 columns</p>\n",
       "</div>"
      ],
      "text/plain": [
       "   Unnamed: 0   sexe  age logement filiere  endroit_travail  travail_equipe   \\\n",
       "0           0  Homme   21  Interne      GI             Cafè                0   \n",
       "1           1  Homme   18  Interne     CP1  La Bibliothèque                0   \n",
       "2           2  Homme   21  Interne      GI             Cafè                1   \n",
       "3           3  Homme   18  Externe     CP2             Cafè                1   \n",
       "4           4  Homme   21  Interne      GC         Chez moi                1   \n",
       "\n",
       "  heure_dormir  sport_par_sem  activites_para  ... orientation  \\\n",
       "0      00:00:00       parfois               1  ...           0   \n",
       "1      02:00:00        jamais               1  ...           0   \n",
       "2      01:00:00   quelquefois               1  ...           0   \n",
       "3      02:00:00        jamais               1  ...           0   \n",
       "4      01:00:00   quelquefois               0  ...           1   \n",
       "\n",
       "  ressources_materials Mauvais_Gestion_temps qualite_logement  \\\n",
       "0                    0                     1                1   \n",
       "1                    1                     1                1   \n",
       "2                    1                     1                1   \n",
       "3                    0                     0                0   \n",
       "4                    1                     0                1   \n",
       "\n",
       "  addiction_drogues mauvais_choix_de_cours réseaux_sociaux  \\\n",
       "0                 0                      0               0   \n",
       "1                 0                      1               1   \n",
       "2                 0                      0               1   \n",
       "3                 0                      1               1   \n",
       "4                 0                      0               0   \n",
       "\n",
       "   Barrieres_de_langage  l'entourage  gaming  \n",
       "0                     1            1       0  \n",
       "1                     1            0       1  \n",
       "2                     1            0       1  \n",
       "3                     0            0       0  \n",
       "4                     1            1       0  \n",
       "\n",
       "[5 rows x 30 columns]"
      ]
     },
     "execution_count": 2,
     "metadata": {},
     "output_type": "execute_result"
    }
   ],
   "source": [
    "df = pd.read_excel(\"version1.xlsx\")\n",
    "df.head()"
   ]
  },
  {
   "cell_type": "code",
   "execution_count": 3,
   "metadata": {},
   "outputs": [
    {
     "data": {
      "text/plain": [
       "Index(['Unnamed: 0', 'sexe', 'age', 'logement', 'filiere', 'endroit_travail',\n",
       "       'travail_equipe ', 'heure_dormir ', 'sport_par_sem', 'activites_para',\n",
       "       'rythme_formation ', 'compétences_enseignants ',\n",
       "       'communication_enseignants', 'méthodes_pédagogiques',\n",
       "       'etat_psychique_preparation ', 'etat_psychique_examen',\n",
       "       'resultat_etudiant', 'nombre_rattrapage', 'services_bibliothèques',\n",
       "       'transport_scolaire', 'orientation', 'ressources_materials',\n",
       "       'Mauvais_Gestion_temps', 'qualite_logement', 'addiction_drogues',\n",
       "       'mauvais_choix_de_cours', 'réseaux_sociaux', 'Barrieres_de_langage',\n",
       "       'l'entourage', 'gaming'],\n",
       "      dtype='object')"
      ]
     },
     "execution_count": 3,
     "metadata": {},
     "output_type": "execute_result"
    }
   ],
   "source": [
    "df.columns"
   ]
  },
  {
   "cell_type": "code",
   "execution_count": 4,
   "metadata": {},
   "outputs": [
    {
     "data": {
      "text/plain": [
       "semestre_Rattrapage    268\n",
       "semestre_Valide        134\n",
       "Name: resultat_etudiant, dtype: int64"
      ]
     },
     "execution_count": 4,
     "metadata": {},
     "output_type": "execute_result"
    }
   ],
   "source": [
    "df['resultat_etudiant'].value_counts()"
   ]
  },
  {
   "cell_type": "code",
   "execution_count": null,
   "metadata": {},
   "outputs": [],
   "source": []
  }
 ],
 "metadata": {
  "kernelspec": {
   "display_name": "Python 3",
   "language": "python",
   "name": "python3"
  },
  "language_info": {
   "codemirror_mode": {
    "name": "ipython",
    "version": 3
   },
   "file_extension": ".py",
   "mimetype": "text/x-python",
   "name": "python",
   "nbconvert_exporter": "python",
   "pygments_lexer": "ipython3",
   "version": "3.7.4"
  }
 },
 "nbformat": 4,
 "nbformat_minor": 2
}
