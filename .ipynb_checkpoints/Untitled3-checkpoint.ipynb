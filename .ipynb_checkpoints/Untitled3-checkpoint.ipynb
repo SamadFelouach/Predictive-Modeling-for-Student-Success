{
 "cells": [
  {
   "cell_type": "code",
   "execution_count": 77,
   "metadata": {},
   "outputs": [],
   "source": [
    "import pandas as pd\n",
    "import sklearn"
   ]
  },
  {
   "cell_type": "code",
   "execution_count": 90,
   "metadata": {},
   "outputs": [
    {
     "data": {
      "text/html": [
       "<div>\n",
       "<style scoped>\n",
       "    .dataframe tbody tr th:only-of-type {\n",
       "        vertical-align: middle;\n",
       "    }\n",
       "\n",
       "    .dataframe tbody tr th {\n",
       "        vertical-align: top;\n",
       "    }\n",
       "\n",
       "    .dataframe thead th {\n",
       "        text-align: right;\n",
       "    }\n",
       "</style>\n",
       "<table border=\"1\" class=\"dataframe\">\n",
       "  <thead>\n",
       "    <tr style=\"text-align: right;\">\n",
       "      <th></th>\n",
       "      <th>Unnamed: 0</th>\n",
       "      <th>sexe</th>\n",
       "      <th>age</th>\n",
       "      <th>logement</th>\n",
       "      <th>filiere</th>\n",
       "      <th>endroit_travail</th>\n",
       "      <th>travail_equipe</th>\n",
       "      <th>heure_dormir</th>\n",
       "      <th>sport_par_sem</th>\n",
       "      <th>activites_para</th>\n",
       "      <th>...</th>\n",
       "      <th>orientation</th>\n",
       "      <th>ressources_materials</th>\n",
       "      <th>Mauvais_Gestion_temps</th>\n",
       "      <th>qualite_logement</th>\n",
       "      <th>addiction_drogues</th>\n",
       "      <th>mauvais_choix_de_cours</th>\n",
       "      <th>réseaux_sociaux</th>\n",
       "      <th>Barrieres_de_langage</th>\n",
       "      <th>l'entourage</th>\n",
       "      <th>gaming</th>\n",
       "    </tr>\n",
       "  </thead>\n",
       "  <tbody>\n",
       "    <tr>\n",
       "      <td>0</td>\n",
       "      <td>0</td>\n",
       "      <td>Homme</td>\n",
       "      <td>21</td>\n",
       "      <td>Interne</td>\n",
       "      <td>GI</td>\n",
       "      <td>Cafè</td>\n",
       "      <td>Non</td>\n",
       "      <td>00:00:00</td>\n",
       "      <td>parfois</td>\n",
       "      <td>Oui</td>\n",
       "      <td>...</td>\n",
       "      <td>Non</td>\n",
       "      <td>Non</td>\n",
       "      <td>Oui</td>\n",
       "      <td>Oui</td>\n",
       "      <td>Non</td>\n",
       "      <td>Non</td>\n",
       "      <td>Non</td>\n",
       "      <td>Oui</td>\n",
       "      <td>Oui</td>\n",
       "      <td>Non</td>\n",
       "    </tr>\n",
       "    <tr>\n",
       "      <td>1</td>\n",
       "      <td>1</td>\n",
       "      <td>Homme</td>\n",
       "      <td>18</td>\n",
       "      <td>Interne</td>\n",
       "      <td>CP1</td>\n",
       "      <td>La Bibliothèque</td>\n",
       "      <td>Non</td>\n",
       "      <td>02:00:00</td>\n",
       "      <td>jamais</td>\n",
       "      <td>Oui</td>\n",
       "      <td>...</td>\n",
       "      <td>Non</td>\n",
       "      <td>Oui</td>\n",
       "      <td>Oui</td>\n",
       "      <td>Oui</td>\n",
       "      <td>Non</td>\n",
       "      <td>Oui</td>\n",
       "      <td>Oui</td>\n",
       "      <td>Oui</td>\n",
       "      <td>Non</td>\n",
       "      <td>Oui</td>\n",
       "    </tr>\n",
       "    <tr>\n",
       "      <td>2</td>\n",
       "      <td>2</td>\n",
       "      <td>Homme</td>\n",
       "      <td>21</td>\n",
       "      <td>Interne</td>\n",
       "      <td>GI</td>\n",
       "      <td>Cafè</td>\n",
       "      <td>Oui</td>\n",
       "      <td>01:00:00</td>\n",
       "      <td>quelquefois</td>\n",
       "      <td>Oui</td>\n",
       "      <td>...</td>\n",
       "      <td>Non</td>\n",
       "      <td>Oui</td>\n",
       "      <td>Oui</td>\n",
       "      <td>Oui</td>\n",
       "      <td>Non</td>\n",
       "      <td>Non</td>\n",
       "      <td>Oui</td>\n",
       "      <td>Oui</td>\n",
       "      <td>Non</td>\n",
       "      <td>Oui</td>\n",
       "    </tr>\n",
       "    <tr>\n",
       "      <td>3</td>\n",
       "      <td>3</td>\n",
       "      <td>Homme</td>\n",
       "      <td>18</td>\n",
       "      <td>Externe</td>\n",
       "      <td>CP2</td>\n",
       "      <td>Cafè</td>\n",
       "      <td>Oui</td>\n",
       "      <td>02:00:00</td>\n",
       "      <td>jamais</td>\n",
       "      <td>Oui</td>\n",
       "      <td>...</td>\n",
       "      <td>Non</td>\n",
       "      <td>Non</td>\n",
       "      <td>Non</td>\n",
       "      <td>Non</td>\n",
       "      <td>Non</td>\n",
       "      <td>Oui</td>\n",
       "      <td>Oui</td>\n",
       "      <td>Non</td>\n",
       "      <td>Non</td>\n",
       "      <td>Non</td>\n",
       "    </tr>\n",
       "    <tr>\n",
       "      <td>4</td>\n",
       "      <td>4</td>\n",
       "      <td>Homme</td>\n",
       "      <td>21</td>\n",
       "      <td>Interne</td>\n",
       "      <td>GC</td>\n",
       "      <td>Chez moi</td>\n",
       "      <td>Oui</td>\n",
       "      <td>01:00:00</td>\n",
       "      <td>quelquefois</td>\n",
       "      <td>Non</td>\n",
       "      <td>...</td>\n",
       "      <td>Oui</td>\n",
       "      <td>Oui</td>\n",
       "      <td>Non</td>\n",
       "      <td>Oui</td>\n",
       "      <td>Non</td>\n",
       "      <td>Non</td>\n",
       "      <td>Non</td>\n",
       "      <td>Oui</td>\n",
       "      <td>Oui</td>\n",
       "      <td>Non</td>\n",
       "    </tr>\n",
       "  </tbody>\n",
       "</table>\n",
       "<p>5 rows × 30 columns</p>\n",
       "</div>"
      ],
      "text/plain": [
       "   Unnamed: 0   sexe  age logement filiere  endroit_travail travail_equipe   \\\n",
       "0           0  Homme   21  Interne      GI             Cafè             Non   \n",
       "1           1  Homme   18  Interne     CP1  La Bibliothèque             Non   \n",
       "2           2  Homme   21  Interne      GI             Cafè             Oui   \n",
       "3           3  Homme   18  Externe     CP2             Cafè             Oui   \n",
       "4           4  Homme   21  Interne      GC         Chez moi             Oui   \n",
       "\n",
       "  heure_dormir  sport_par_sem activites_para  ... orientation  \\\n",
       "0      00:00:00       parfois            Oui  ...         Non   \n",
       "1      02:00:00        jamais            Oui  ...         Non   \n",
       "2      01:00:00   quelquefois            Oui  ...         Non   \n",
       "3      02:00:00        jamais            Oui  ...         Non   \n",
       "4      01:00:00   quelquefois            Non  ...         Oui   \n",
       "\n",
       "  ressources_materials Mauvais_Gestion_temps qualite_logement  \\\n",
       "0                  Non                   Oui              Oui   \n",
       "1                  Oui                   Oui              Oui   \n",
       "2                  Oui                   Oui              Oui   \n",
       "3                  Non                   Non              Non   \n",
       "4                  Oui                   Non              Oui   \n",
       "\n",
       "  addiction_drogues mauvais_choix_de_cours réseaux_sociaux  \\\n",
       "0               Non                    Non             Non   \n",
       "1               Non                    Oui             Oui   \n",
       "2               Non                    Non             Oui   \n",
       "3               Non                    Oui             Oui   \n",
       "4               Non                    Non             Non   \n",
       "\n",
       "   Barrieres_de_langage l'entourage gaming  \n",
       "0                   Oui         Oui    Non  \n",
       "1                   Oui         Non    Oui  \n",
       "2                   Oui         Non    Oui  \n",
       "3                   Non         Non    Non  \n",
       "4                   Oui         Oui    Non  \n",
       "\n",
       "[5 rows x 30 columns]"
      ]
     },
     "execution_count": 90,
     "metadata": {},
     "output_type": "execute_result"
    }
   ],
   "source": [
    "df = pd.read_excel(\"version0.xlsx\",sheet_name = 0)\n",
    "df.head()"
   ]
  },
  {
   "cell_type": "code",
   "execution_count": 79,
   "metadata": {},
   "outputs": [
    {
     "data": {
      "text/plain": [
       "Index(['Unnamed: 0', 'sexe', 'age', 'logement', 'filiere', 'endroit_travail',\n",
       "       'travail_equipe ', 'heure_dormir ', 'sport_par_sem', 'activites_para',\n",
       "       'rythme_formation ', 'compétences_enseignants ',\n",
       "       'communication_enseignants', 'méthodes_pédagogiques',\n",
       "       'etat_psychique_preparation ', 'etat_psychique_examen',\n",
       "       'resultat_etudiant', 'nombre_rattrapage', 'services_bibliothèques',\n",
       "       'transport_scolaire', 'orientation', 'ressources_materials',\n",
       "       'Mauvais_Gestion_temps', 'qualite_logement', 'addiction_drogues',\n",
       "       'mauvais_choix_de_cours', 'réseaux_sociaux', 'Barrieres_de_langage',\n",
       "       'l'entourage', 'gaming'],\n",
       "      dtype='object')"
      ]
     },
     "execution_count": 79,
     "metadata": {},
     "output_type": "execute_result"
    }
   ],
   "source": [
    "df.columns"
   ]
  },
  {
   "cell_type": "code",
   "execution_count": 93,
   "metadata": {},
   "outputs": [],
   "source": [
    "data=df[['sexe','endroit_travail','filiere', 'endroit_travail', 'sport_par_sem','etat_psychique_examen',\n",
    "        'ressources_materials','logement','Barrieres_de_langage','transport_scolaire','etat_psychique_preparation ',\n",
    "        'Mauvais_Gestion_temps',\n",
    "        'mauvais_choix_de_cours',\n",
    "        'réseaux_sociaux','resultat_etudiant'\n",
    "        ]]"
   ]
  },
  {
   "cell_type": "code",
   "execution_count": 94,
   "metadata": {},
   "outputs": [
    {
     "data": {
      "text/html": [
       "<div>\n",
       "<style scoped>\n",
       "    .dataframe tbody tr th:only-of-type {\n",
       "        vertical-align: middle;\n",
       "    }\n",
       "\n",
       "    .dataframe tbody tr th {\n",
       "        vertical-align: top;\n",
       "    }\n",
       "\n",
       "    .dataframe thead th {\n",
       "        text-align: right;\n",
       "    }\n",
       "</style>\n",
       "<table border=\"1\" class=\"dataframe\">\n",
       "  <thead>\n",
       "    <tr style=\"text-align: right;\">\n",
       "      <th></th>\n",
       "      <th>sexe</th>\n",
       "      <th>endroit_travail</th>\n",
       "      <th>filiere</th>\n",
       "      <th>endroit_travail</th>\n",
       "      <th>sport_par_sem</th>\n",
       "      <th>etat_psychique_examen</th>\n",
       "      <th>ressources_materials</th>\n",
       "      <th>logement</th>\n",
       "      <th>Barrieres_de_langage</th>\n",
       "      <th>transport_scolaire</th>\n",
       "      <th>etat_psychique_preparation</th>\n",
       "      <th>Mauvais_Gestion_temps</th>\n",
       "      <th>mauvais_choix_de_cours</th>\n",
       "      <th>réseaux_sociaux</th>\n",
       "      <th>resultat_etudiant</th>\n",
       "    </tr>\n",
       "  </thead>\n",
       "  <tbody>\n",
       "    <tr>\n",
       "      <td>0</td>\n",
       "      <td>Homme</td>\n",
       "      <td>Cafè</td>\n",
       "      <td>GI</td>\n",
       "      <td>Cafè</td>\n",
       "      <td>parfois</td>\n",
       "      <td>Stresse</td>\n",
       "      <td>Non</td>\n",
       "      <td>Interne</td>\n",
       "      <td>Oui</td>\n",
       "      <td>Non</td>\n",
       "      <td>Stressé</td>\n",
       "      <td>Oui</td>\n",
       "      <td>Non</td>\n",
       "      <td>Non</td>\n",
       "      <td>R</td>\n",
       "    </tr>\n",
       "    <tr>\n",
       "      <td>1</td>\n",
       "      <td>Homme</td>\n",
       "      <td>La Bibliothèque</td>\n",
       "      <td>CP1</td>\n",
       "      <td>La Bibliothèque</td>\n",
       "      <td>jamais</td>\n",
       "      <td>Normal</td>\n",
       "      <td>Oui</td>\n",
       "      <td>Interne</td>\n",
       "      <td>Oui</td>\n",
       "      <td>Non</td>\n",
       "      <td>normal</td>\n",
       "      <td>Oui</td>\n",
       "      <td>Oui</td>\n",
       "      <td>Oui</td>\n",
       "      <td>V</td>\n",
       "    </tr>\n",
       "    <tr>\n",
       "      <td>2</td>\n",
       "      <td>Homme</td>\n",
       "      <td>Cafè</td>\n",
       "      <td>GI</td>\n",
       "      <td>Cafè</td>\n",
       "      <td>quelquefois</td>\n",
       "      <td>Normal</td>\n",
       "      <td>Oui</td>\n",
       "      <td>Interne</td>\n",
       "      <td>Oui</td>\n",
       "      <td>Non</td>\n",
       "      <td>pas mal</td>\n",
       "      <td>Oui</td>\n",
       "      <td>Non</td>\n",
       "      <td>Oui</td>\n",
       "      <td>R</td>\n",
       "    </tr>\n",
       "    <tr>\n",
       "      <td>3</td>\n",
       "      <td>Homme</td>\n",
       "      <td>Cafè</td>\n",
       "      <td>CP2</td>\n",
       "      <td>Cafè</td>\n",
       "      <td>jamais</td>\n",
       "      <td>Pas mal</td>\n",
       "      <td>Non</td>\n",
       "      <td>Externe</td>\n",
       "      <td>Non</td>\n",
       "      <td>Oui</td>\n",
       "      <td>normal</td>\n",
       "      <td>Non</td>\n",
       "      <td>Oui</td>\n",
       "      <td>Oui</td>\n",
       "      <td>V</td>\n",
       "    </tr>\n",
       "    <tr>\n",
       "      <td>4</td>\n",
       "      <td>Homme</td>\n",
       "      <td>Chez moi</td>\n",
       "      <td>GC</td>\n",
       "      <td>Chez moi</td>\n",
       "      <td>quelquefois</td>\n",
       "      <td>Normal</td>\n",
       "      <td>Oui</td>\n",
       "      <td>Interne</td>\n",
       "      <td>Oui</td>\n",
       "      <td>Oui</td>\n",
       "      <td>normal</td>\n",
       "      <td>Non</td>\n",
       "      <td>Non</td>\n",
       "      <td>Non</td>\n",
       "      <td>R</td>\n",
       "    </tr>\n",
       "  </tbody>\n",
       "</table>\n",
       "</div>"
      ],
      "text/plain": [
       "    sexe  endroit_travail filiere  endroit_travail sport_par_sem  \\\n",
       "0  Homme             Cafè      GI             Cafè       parfois   \n",
       "1  Homme  La Bibliothèque     CP1  La Bibliothèque        jamais   \n",
       "2  Homme             Cafè      GI             Cafè   quelquefois   \n",
       "3  Homme             Cafè     CP2             Cafè        jamais   \n",
       "4  Homme         Chez moi      GC         Chez moi   quelquefois   \n",
       "\n",
       "  etat_psychique_examen ressources_materials logement Barrieres_de_langage  \\\n",
       "0               Stresse                  Non  Interne                  Oui   \n",
       "1                Normal                  Oui  Interne                  Oui   \n",
       "2                Normal                  Oui  Interne                  Oui   \n",
       "3               Pas mal                  Non  Externe                  Non   \n",
       "4                Normal                  Oui  Interne                  Oui   \n",
       "\n",
       "  transport_scolaire etat_psychique_preparation  Mauvais_Gestion_temps  \\\n",
       "0                Non                     Stressé                   Oui   \n",
       "1                Non                      normal                   Oui   \n",
       "2                Non                     pas mal                   Oui   \n",
       "3                Oui                      normal                   Non   \n",
       "4                Oui                      normal                   Non   \n",
       "\n",
       "  mauvais_choix_de_cours réseaux_sociaux resultat_etudiant  \n",
       "0                    Non             Non                 R  \n",
       "1                    Oui             Oui                 V  \n",
       "2                    Non             Oui                 R  \n",
       "3                    Oui             Oui                 V  \n",
       "4                    Non             Non                 R  "
      ]
     },
     "execution_count": 94,
     "metadata": {},
     "output_type": "execute_result"
    }
   ],
   "source": [
    "data.head()\n"
   ]
  },
  {
   "cell_type": "code",
   "execution_count": 95,
   "metadata": {},
   "outputs": [
    {
     "data": {
      "text/plain": [
       "sexe                           object\n",
       "endroit_travail                object\n",
       "filiere                        object\n",
       "endroit_travail                object\n",
       "sport_par_sem                  object\n",
       "etat_psychique_examen          object\n",
       "ressources_materials           object\n",
       "logement                       object\n",
       "Barrieres_de_langage           object\n",
       "transport_scolaire             object\n",
       "etat_psychique_preparation     object\n",
       "Mauvais_Gestion_temps          object\n",
       "mauvais_choix_de_cours         object\n",
       "réseaux_sociaux                object\n",
       "resultat_etudiant              object\n",
       "dtype: object"
      ]
     },
     "execution_count": 95,
     "metadata": {},
     "output_type": "execute_result"
    }
   ],
   "source": [
    "data.dtypes"
   ]
  },
  {
   "cell_type": "code",
   "execution_count": 96,
   "metadata": {},
   "outputs": [
    {
     "name": "stdout",
     "output_type": "stream",
     "text": [
      "    sexe  endroit_travail filiere  endroit_travail sport_par_sem  \\\n",
      "0  Homme             Cafè      GI             Cafè       parfois   \n",
      "1  Homme  La Bibliothèque     CP1  La Bibliothèque        jamais   \n",
      "2  Homme             Cafè      GI             Cafè   quelquefois   \n",
      "3  Homme             Cafè     CP2             Cafè        jamais   \n",
      "4  Homme         Chez moi      GC         Chez moi   quelquefois   \n",
      "\n",
      "  etat_psychique_examen ressources_materials logement Barrieres_de_langage  \\\n",
      "0               Stresse                  Non  Interne                  Oui   \n",
      "1                Normal                  Oui  Interne                  Oui   \n",
      "2                Normal                  Oui  Interne                  Oui   \n",
      "3               Pas mal                  Non  Externe                  Non   \n",
      "4                Normal                  Oui  Interne                  Oui   \n",
      "\n",
      "  transport_scolaire etat_psychique_preparation  Mauvais_Gestion_temps  \\\n",
      "0                Non                     Stressé                   Oui   \n",
      "1                Non                      normal                   Oui   \n",
      "2                Non                     pas mal                   Oui   \n",
      "3                Oui                      normal                   Non   \n",
      "4                Oui                      normal                   Non   \n",
      "\n",
      "  mauvais_choix_de_cours réseaux_sociaux resultat_etudiant  \n",
      "0                    Non             Non                 R  \n",
      "1                    Oui             Oui                 V  \n",
      "2                    Non             Oui                 R  \n",
      "3                    Oui             Oui                 V  \n",
      "4                    Non             Non                 R  \n"
     ]
    }
   ],
   "source": [
    "print(data.head())\n"
   ]
  },
  {
   "cell_type": "code",
   "execution_count": 99,
   "metadata": {},
   "outputs": [
    {
     "name": "stdout",
     "output_type": "stream",
     "text": [
      "<class 'pandas.core.frame.DataFrame'>\n",
      "RangeIndex: 402 entries, 0 to 401\n",
      "Data columns (total 44 columns):\n",
      "sexe_Femme                             402 non-null uint8\n",
      "sexe_Homme                             402 non-null uint8\n",
      "endroit_travail_Cafè                   402 non-null uint8\n",
      "endroit_travail_Chez moi               402 non-null uint8\n",
      "endroit_travail_La Bibliothèque        402 non-null uint8\n",
      "endroit_travail_Cafè                   402 non-null uint8\n",
      "endroit_travail_Chez moi               402 non-null uint8\n",
      "endroit_travail_La Bibliothèque        402 non-null uint8\n",
      "filiere_CP1                            402 non-null uint8\n",
      "filiere_CP2                            402 non-null uint8\n",
      "filiere_GC                             402 non-null uint8\n",
      "filiere_GEE                            402 non-null uint8\n",
      "filiere_GEER                           402 non-null uint8\n",
      "filiere_GI                             402 non-null uint8\n",
      "endroit_travail_Cafè                   402 non-null uint8\n",
      "endroit_travail_Chez moi               402 non-null uint8\n",
      "endroit_travail_La Bibliothèque        402 non-null uint8\n",
      "endroit_travail_Cafè                   402 non-null uint8\n",
      "endroit_travail_Chez moi               402 non-null uint8\n",
      "endroit_travail_La Bibliothèque        402 non-null uint8\n",
      "sport_par_sem_jamais                   402 non-null uint8\n",
      "sport_par_sem_parfois                  402 non-null uint8\n",
      "sport_par_sem_quelquefois              402 non-null uint8\n",
      "sport_par_sem_rarement                 402 non-null uint8\n",
      "etat_psychique_examen_Normal           402 non-null uint8\n",
      "etat_psychique_examen_Pas mal          402 non-null uint8\n",
      "etat_psychique_examen_Stresse          402 non-null uint8\n",
      "ressources_materials_Non               402 non-null uint8\n",
      "ressources_materials_Oui               402 non-null uint8\n",
      "logement_Externe                       402 non-null uint8\n",
      "logement_Interne                       402 non-null uint8\n",
      "Barrieres_de_langage_Non               402 non-null uint8\n",
      "Barrieres_de_langage_Oui               402 non-null uint8\n",
      "transport_scolaire_Non                 402 non-null uint8\n",
      "transport_scolaire_Oui                 402 non-null uint8\n",
      "etat_psychique_preparation _Stressé    402 non-null uint8\n",
      "etat_psychique_preparation _normal     402 non-null uint8\n",
      "etat_psychique_preparation _pas mal    402 non-null uint8\n",
      "Mauvais_Gestion_temps_Non              402 non-null uint8\n",
      "Mauvais_Gestion_temps_Oui              402 non-null uint8\n",
      "mauvais_choix_de_cours_Non             402 non-null uint8\n",
      "mauvais_choix_de_cours_Oui             402 non-null uint8\n",
      "réseaux_sociaux_Non                    402 non-null uint8\n",
      "réseaux_sociaux_Oui                    402 non-null uint8\n",
      "dtypes: uint8(44)\n",
      "memory usage: 17.4 KB\n",
      "None\n"
     ]
    }
   ],
   "source": [
    "#encodage des prédictives – toutes les colonnes sauf la dernière\n",
    "dfVoteBis = pd.get_dummies(data[data.columns[:-1]])\n",
    "print(dfVoteBis.info())"
   ]
  },
  {
   "cell_type": "code",
   "execution_count": 98,
   "metadata": {},
   "outputs": [
    {
     "name": "stdout",
     "output_type": "stream",
     "text": [
      "sexe_Femme                         0.422886\n",
      "sexe_Homme                         0.577114\n",
      "endroit_travail_Cafè               0.298507\n",
      "endroit_travail_Chez moi           0.502488\n",
      "endroit_travail_La Bibliothèque    0.199005\n",
      "filiere_CP1                        0.318408\n",
      "filiere_CP2                        0.283582\n",
      "filiere_GC                         0.119403\n",
      "filiere_GEE                        0.052239\n",
      "filiere_GEER                       0.059701\n",
      "filiere_GI                         0.164179\n",
      "sport_par_sem_jamais               0.402985\n",
      "sport_par_sem_parfois              0.226368\n",
      "sport_par_sem_quelquefois          0.221393\n",
      "sport_par_sem_rarement             0.149254\n",
      "etat_psychique_examen_Normal       0.263682\n",
      "etat_psychique_examen_Pas mal      0.310945\n",
      "etat_psychique_examen_Stresse      0.425373\n",
      "ressources_materials_Non           0.442786\n",
      "ressources_materials_Oui           0.557214\n",
      "logement_Externe                   0.425373\n",
      "logement_Interne                   0.574627\n",
      "Mauvais_Gestion_temps_Non          0.161692\n",
      "Mauvais_Gestion_temps_Oui          0.838308\n",
      "mauvais_choix_de_cours_Non         0.417910\n",
      "mauvais_choix_de_cours_Oui         0.582090\n",
      "réseaux_sociaux_Non                0.440299\n",
      "réseaux_sociaux_Oui                0.559701\n",
      "dtype: float64\n"
     ]
    }
   ],
   "source": [
    "#moyennes par variables -- proportions\n",
    "print(dfVoteBis.apply(func='mean',axis=0))"
   ]
  },
  {
   "cell_type": "code",
   "execution_count": 100,
   "metadata": {},
   "outputs": [
    {
     "name": "stdout",
     "output_type": "stream",
     "text": [
      "<class 'pandas.core.frame.DataFrame'>\n",
      "RangeIndex: 402 entries, 0 to 401\n",
      "Data columns (total 45 columns):\n",
      "sexe_Femme                             402 non-null uint8\n",
      "sexe_Homme                             402 non-null uint8\n",
      "endroit_travail_Cafè                   402 non-null uint8\n",
      "endroit_travail_Chez moi               402 non-null uint8\n",
      "endroit_travail_La Bibliothèque        402 non-null uint8\n",
      "endroit_travail_Cafè                   402 non-null uint8\n",
      "endroit_travail_Chez moi               402 non-null uint8\n",
      "endroit_travail_La Bibliothèque        402 non-null uint8\n",
      "filiere_CP1                            402 non-null uint8\n",
      "filiere_CP2                            402 non-null uint8\n",
      "filiere_GC                             402 non-null uint8\n",
      "filiere_GEE                            402 non-null uint8\n",
      "filiere_GEER                           402 non-null uint8\n",
      "filiere_GI                             402 non-null uint8\n",
      "endroit_travail_Cafè                   402 non-null uint8\n",
      "endroit_travail_Chez moi               402 non-null uint8\n",
      "endroit_travail_La Bibliothèque        402 non-null uint8\n",
      "endroit_travail_Cafè                   402 non-null uint8\n",
      "endroit_travail_Chez moi               402 non-null uint8\n",
      "endroit_travail_La Bibliothèque        402 non-null uint8\n",
      "sport_par_sem_jamais                   402 non-null uint8\n",
      "sport_par_sem_parfois                  402 non-null uint8\n",
      "sport_par_sem_quelquefois              402 non-null uint8\n",
      "sport_par_sem_rarement                 402 non-null uint8\n",
      "etat_psychique_examen_Normal           402 non-null uint8\n",
      "etat_psychique_examen_Pas mal          402 non-null uint8\n",
      "etat_psychique_examen_Stresse          402 non-null uint8\n",
      "ressources_materials_Non               402 non-null uint8\n",
      "ressources_materials_Oui               402 non-null uint8\n",
      "logement_Externe                       402 non-null uint8\n",
      "logement_Interne                       402 non-null uint8\n",
      "Barrieres_de_langage_Non               402 non-null uint8\n",
      "Barrieres_de_langage_Oui               402 non-null uint8\n",
      "transport_scolaire_Non                 402 non-null uint8\n",
      "transport_scolaire_Oui                 402 non-null uint8\n",
      "etat_psychique_preparation _Stressé    402 non-null uint8\n",
      "etat_psychique_preparation _normal     402 non-null uint8\n",
      "etat_psychique_preparation _pas mal    402 non-null uint8\n",
      "Mauvais_Gestion_temps_Non              402 non-null uint8\n",
      "Mauvais_Gestion_temps_Oui              402 non-null uint8\n",
      "mauvais_choix_de_cours_Non             402 non-null uint8\n",
      "mauvais_choix_de_cours_Oui             402 non-null uint8\n",
      "réseaux_sociaux_Non                    402 non-null uint8\n",
      "réseaux_sociaux_Oui                    402 non-null uint8\n",
      "resultat_etudiant                      402 non-null object\n",
      "dtypes: object(1), uint8(44)\n",
      "memory usage: 20.5+ KB\n",
      "None\n"
     ]
    }
   ],
   "source": [
    "#ajouter la variable 'groupe'\n",
    "dfVoteBis['resultat_etudiant'] = data.resultat_etudiant\n",
    "print(dfVoteBis.info())\n"
   ]
  },
  {
   "cell_type": "code",
   "execution_count": 108,
   "metadata": {},
   "outputs": [
    {
     "data": {
      "image/png": "[encoded data removed]",
      "text/plain": [
       "<Figure size 2160x756 with 1 Axes>"
      ]
     },
     "metadata": {
      "needs_background": "light"
     },
     "output_type": "display_data"
    }
   ],
   "source": [
    "#réinstancier l'arbre de décision\n",
    "arbreVote = DecisionTreeClassifier(max_depth = 3)\n",
    "#construction de l'arbre sur les données\n",
    "arbreVote.fit(X = dfVoteBis.iloc[:,:-1], y = dfVoteBis.resultat_etudiant)\n",
    "#affichage graphique de l'arbre - depuis sklearn 0.21\n",
    "from sklearn.tree import plot_tree\n",
    "import matplotlib.pyplot as plt\n",
    "plt.figure(figsize=(30,10.5))\n",
    "plot_tree(arbreVote,feature_names = list(dfVoteBis.columns[:-1]),filled=True)\n",
    "plt.show()\n"
   ]
  },
  {
   "cell_type": "code",
   "execution_count": null,
   "metadata": {},
   "outputs": [],
   "source": []
  },
  {
   "cell_type": "code",
   "execution_count": null,
   "metadata": {},
   "outputs": [],
   "source": []
  },
  {
   "cell_type": "code",
   "execution_count": null,
   "metadata": {},
   "outputs": [],
   "source": []
  },
  {
   "cell_type": "code",
   "execution_count": null,
   "metadata": {},
   "outputs": [],
   "source": []
  },
  {
   "cell_type": "code",
   "execution_count": null,
   "metadata": {},
   "outputs": [],
   "source": []
  },
  {
   "cell_type": "code",
   "execution_count": null,
   "metadata": {},
   "outputs": [],
   "source": []
  },
  {
   "cell_type": "markdown",
   "metadata": {},
   "source": [
    "4.2 Codage disjonctif des prédictives qualitatives\n"
   ]
  },
  {
   "cell_type": "code",
   "execution_count": 59,
   "metadata": {},
   "outputs": [
    {
     "name": "stdout",
     "output_type": "stream",
     "text": [
      "['sexe', 'endroit_travail', 'filiere', 'sport_par_sem', 'etat_psychique_examen', 'ressources_materials', 'logement', 'Mauvais_Gestion_temps', 'mauvais_choix_de_cours', 'réseaux_sociaux']\n"
     ]
    }
   ],
   "source": [
    "#liste des variables quanti\n",
    "import numpy\n",
    "lstQuali = [var for var in data.columns[:-1] if data[var].dtype == numpy.object_]\n",
    "print(lstQuali)\n"
   ]
  },
  {
   "cell_type": "markdown",
   "metadata": {},
   "source": [
    "Nous leur appliquons un codage disjonctif complet pour obtenir un nouveau data frame."
   ]
  },
  {
   "cell_type": "code",
   "execution_count": 60,
   "metadata": {},
   "outputs": [
    {
     "name": "stdout",
     "output_type": "stream",
     "text": [
      "<class 'pandas.core.frame.DataFrame'>\n",
      "RangeIndex: 402 entries, 0 to 401\n",
      "Data columns (total 28 columns):\n",
      "sexe_Femme                         402 non-null uint8\n",
      "sexe_Homme                         402 non-null uint8\n",
      "endroit_travail_Cafè               402 non-null uint8\n",
      "endroit_travail_Chez moi           402 non-null uint8\n",
      "endroit_travail_La Bibliothèque    402 non-null uint8\n",
      "filiere_CP1                        402 non-null uint8\n",
      "filiere_CP2                        402 non-null uint8\n",
      "filiere_GC                         402 non-null uint8\n",
      "filiere_GEE                        402 non-null uint8\n",
      "filiere_GEER                       402 non-null uint8\n",
      "filiere_GI                         402 non-null uint8\n",
      "sport_par_sem_jamais               402 non-null uint8\n",
      "sport_par_sem_parfois              402 non-null uint8\n",
      "sport_par_sem_quelquefois          402 non-null uint8\n",
      "sport_par_sem_rarement             402 non-null uint8\n",
      "etat_psychique_examen_Normal       402 non-null uint8\n",
      "etat_psychique_examen_Pas mal      402 non-null uint8\n",
      "etat_psychique_examen_Stresse      402 non-null uint8\n",
      "ressources_materials_Non           402 non-null uint8\n",
      "ressources_materials_Oui           402 non-null uint8\n",
      "logement_Externe                   402 non-null uint8\n",
      "logement_Interne                   402 non-null uint8\n",
      "Mauvais_Gestion_temps_Non          402 non-null uint8\n",
      "Mauvais_Gestion_temps_Oui          402 non-null uint8\n",
      "mauvais_choix_de_cours_Non         402 non-null uint8\n",
      "mauvais_choix_de_cours_Oui         402 non-null uint8\n",
      "réseaux_sociaux_Non                402 non-null uint8\n",
      "réseaux_sociaux_Oui                402 non-null uint8\n",
      "dtypes: uint8(28)\n",
      "memory usage: 11.1 KB\n",
      "None\n"
     ]
    }
   ],
   "source": [
    "#recoder en 0/1 ces variables\n",
    "dfQualiEncoded = pd.get_dummies(data[lstQuali])\n",
    "print(dfQualiEncoded.info())\n"
   ]
  },
  {
   "cell_type": "code",
   "execution_count": 61,
   "metadata": {},
   "outputs": [
    {
     "name": "stdout",
     "output_type": "stream",
     "text": [
      "['age']\n"
     ]
    }
   ],
   "source": [
    "#liste des variables quantitatives\n",
    "lstQuanti = [var for var in data.columns[:-1] if data[var].dtype != numpy.object_]\n",
    "print(lstQuanti)\n"
   ]
  },
  {
   "cell_type": "code",
   "execution_count": 62,
   "metadata": {},
   "outputs": [
    {
     "name": "stdout",
     "output_type": "stream",
     "text": [
      "<class 'pandas.core.frame.DataFrame'>\n",
      "RangeIndex: 402 entries, 0 to 401\n",
      "Data columns (total 29 columns):\n",
      "sexe_Femme                         402 non-null uint8\n",
      "sexe_Homme                         402 non-null uint8\n",
      "endroit_travail_Cafè               402 non-null uint8\n",
      "endroit_travail_Chez moi           402 non-null uint8\n",
      "endroit_travail_La Bibliothèque    402 non-null uint8\n",
      "filiere_CP1                        402 non-null uint8\n",
      "filiere_CP2                        402 non-null uint8\n",
      "filiere_GC                         402 non-null uint8\n",
      "filiere_GEE                        402 non-null uint8\n",
      "filiere_GEER                       402 non-null uint8\n",
      "filiere_GI                         402 non-null uint8\n",
      "sport_par_sem_jamais               402 non-null uint8\n",
      "sport_par_sem_parfois              402 non-null uint8\n",
      "sport_par_sem_quelquefois          402 non-null uint8\n",
      "sport_par_sem_rarement             402 non-null uint8\n",
      "etat_psychique_examen_Normal       402 non-null uint8\n",
      "etat_psychique_examen_Pas mal      402 non-null uint8\n",
      "etat_psychique_examen_Stresse      402 non-null uint8\n",
      "ressources_materials_Non           402 non-null uint8\n",
      "ressources_materials_Oui           402 non-null uint8\n",
      "logement_Externe                   402 non-null uint8\n",
      "logement_Interne                   402 non-null uint8\n",
      "Mauvais_Gestion_temps_Non          402 non-null uint8\n",
      "Mauvais_Gestion_temps_Oui          402 non-null uint8\n",
      "mauvais_choix_de_cours_Non         402 non-null uint8\n",
      "mauvais_choix_de_cours_Oui         402 non-null uint8\n",
      "réseaux_sociaux_Non                402 non-null uint8\n",
      "réseaux_sociaux_Oui                402 non-null uint8\n",
      "age                                402 non-null int64\n",
      "dtypes: int64(1), uint8(28)\n",
      "memory usage: 14.3 KB\n",
      "None\n"
     ]
    }
   ],
   "source": [
    "#réunir dummies et quantitatives dans le même data frame\n",
    "dfNew = pd.concat([dfQualiEncoded,data[lstQuanti]],axis=1)\n",
    "print(dfNew.info())"
   ]
  },
  {
   "cell_type": "code",
   "execution_count": null,
   "metadata": {},
   "outputs": [],
   "source": []
  },
  {
   "cell_type": "code",
   "execution_count": null,
   "metadata": {},
   "outputs": [],
   "source": []
  },
  {
   "cell_type": "code",
   "execution_count": 63,
   "metadata": {},
   "outputs": [
    {
     "name": "stdout",
     "output_type": "stream",
     "text": [
      "<class 'pandas.core.frame.DataFrame'>\n",
      "RangeIndex: 402 entries, 0 to 401\n",
      "Data columns (total 30 columns):\n",
      "sexe_Femme                         402 non-null uint8\n",
      "sexe_Homme                         402 non-null uint8\n",
      "endroit_travail_Cafè               402 non-null uint8\n",
      "endroit_travail_Chez moi           402 non-null uint8\n",
      "endroit_travail_La Bibliothèque    402 non-null uint8\n",
      "filiere_CP1                        402 non-null uint8\n",
      "filiere_CP2                        402 non-null uint8\n",
      "filiere_GC                         402 non-null uint8\n",
      "filiere_GEE                        402 non-null uint8\n",
      "filiere_GEER                       402 non-null uint8\n",
      "filiere_GI                         402 non-null uint8\n",
      "sport_par_sem_jamais               402 non-null uint8\n",
      "sport_par_sem_parfois              402 non-null uint8\n",
      "sport_par_sem_quelquefois          402 non-null uint8\n",
      "sport_par_sem_rarement             402 non-null uint8\n",
      "etat_psychique_examen_Normal       402 non-null uint8\n",
      "etat_psychique_examen_Pas mal      402 non-null uint8\n",
      "etat_psychique_examen_Stresse      402 non-null uint8\n",
      "ressources_materials_Non           402 non-null uint8\n",
      "ressources_materials_Oui           402 non-null uint8\n",
      "logement_Externe                   402 non-null uint8\n",
      "logement_Interne                   402 non-null uint8\n",
      "Mauvais_Gestion_temps_Non          402 non-null uint8\n",
      "Mauvais_Gestion_temps_Oui          402 non-null uint8\n",
      "mauvais_choix_de_cours_Non         402 non-null uint8\n",
      "mauvais_choix_de_cours_Oui         402 non-null uint8\n",
      "réseaux_sociaux_Non                402 non-null uint8\n",
      "réseaux_sociaux_Oui                402 non-null uint8\n",
      "age                                402 non-null int64\n",
      "resultat_etudiant                  402 non-null object\n",
      "dtypes: int64(1), object(1), uint8(28)\n",
      "memory usage: 17.4+ KB\n",
      "None\n"
     ]
    }
   ],
   "source": [
    "#rajouter la variable cible\n",
    "dfNew['resultat_etudiant'] = data.resultat_etudiant\n",
    "print(dfNew.info())\n"
   ]
  },
  {
   "cell_type": "markdown",
   "metadata": {},
   "source": [
    "4 Construction de l’arbre"
   ]
  },
  {
   "cell_type": "code",
   "execution_count": 64,
   "metadata": {},
   "outputs": [],
   "source": [
    "#instanciation de l'arbre\n",
    "from sklearn.tree import DecisionTreeClassifier\n",
    "arbreHeart = DecisionTreeClassifier(max_depth = 2)"
   ]
  },
  {
   "cell_type": "code",
   "execution_count": 71,
   "metadata": {},
   "outputs": [
    {
     "data": {
      "image/png": "[encoded data removed]",
      "text/plain": [
       "<Figure size 1080x720 with 1 Axes>"
      ]
     },
     "metadata": {
      "needs_background": "light"
     },
     "output_type": "display_data"
    }
   ],
   "source": [
    "#construction de l'arbre\n",
    "arbreHeart.fit(X = dfNew.iloc[:,:-1], y = dfNew.resultat_etudiant)\n",
    "#affichage graphique de l'arbre - depuis sklearn 0.21\n",
    "from sklearn.tree import plot_tree\n",
    "import matplotlib.pyplot as plt\n",
    "plt.figure(figsize=(15,10))\n",
    "plot_tree(arbreHeart,feature_names = list(dfNew.columns[:-1]),filled=True)\n",
    "plt.show()\n"
   ]
  },
  {
   "cell_type": "code",
   "execution_count": null,
   "metadata": {},
   "outputs": [],
   "source": []
  }
 ],
 "metadata": {
  "kernelspec": {
   "display_name": "Python 3",
   "language": "python",
   "name": "python3"
  },
  "language_info": {
   "codemirror_mode": {
    "name": "ipython",
    "version": 3
   },
   "file_extension": ".py",
   "mimetype": "text/x-python",
   "name": "python",
   "nbconvert_exporter": "python",
   "pygments_lexer": "ipython3",
   "version": "3.7.4"
  }
 },
 "nbformat": 4,
 "nbformat_minor": 2
}
