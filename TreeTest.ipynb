{
 "cells": [
  {
   "cell_type": "code",
   "execution_count": 50,
   "metadata": {},
   "outputs": [],
   "source": [
    "import pandas as pd\n",
    "import numpy as np\n",
    "import pylab as pl\n",
    "import matplotlib.pyplot as plt\n",
    "%matplotlib inline"
   ]
  },
  {
   "cell_type": "code",
   "execution_count": 17,
   "metadata": {},
   "outputs": [
    {
     "data": {
      "text/html": [
       "<div>\n",
       "<style scoped>\n",
       "    .dataframe tbody tr th:only-of-type {\n",
       "        vertical-align: middle;\n",
       "    }\n",
       "\n",
       "    .dataframe tbody tr th {\n",
       "        vertical-align: top;\n",
       "    }\n",
       "\n",
       "    .dataframe thead th {\n",
       "        text-align: right;\n",
       "    }\n",
       "</style>\n",
       "<table border=\"1\" class=\"dataframe\">\n",
       "  <thead>\n",
       "    <tr style=\"text-align: right;\">\n",
       "      <th></th>\n",
       "      <th>Unnamed: 0</th>\n",
       "      <th>sexe</th>\n",
       "      <th>age</th>\n",
       "      <th>logement</th>\n",
       "      <th>filiere</th>\n",
       "      <th>endroit_travail</th>\n",
       "      <th>travail_equipe</th>\n",
       "      <th>heure_dormir</th>\n",
       "      <th>sport_par_sem</th>\n",
       "      <th>activites_para</th>\n",
       "      <th>...</th>\n",
       "      <th>orientation</th>\n",
       "      <th>ressources_materials</th>\n",
       "      <th>Mauvais_Gestion_temps</th>\n",
       "      <th>qualite_logement</th>\n",
       "      <th>addiction_drogues</th>\n",
       "      <th>mauvais_choix_de_cours</th>\n",
       "      <th>réseaux_sociaux</th>\n",
       "      <th>Barrieres_de_langage</th>\n",
       "      <th>entourage</th>\n",
       "      <th>gaming</th>\n",
       "    </tr>\n",
       "  </thead>\n",
       "  <tbody>\n",
       "    <tr>\n",
       "      <td>0</td>\n",
       "      <td>0</td>\n",
       "      <td>Homme</td>\n",
       "      <td>21</td>\n",
       "      <td>Interne</td>\n",
       "      <td>GI</td>\n",
       "      <td>Cafè</td>\n",
       "      <td>0</td>\n",
       "      <td>00:00:00</td>\n",
       "      <td>parfois</td>\n",
       "      <td>1</td>\n",
       "      <td>...</td>\n",
       "      <td>0</td>\n",
       "      <td>0</td>\n",
       "      <td>1</td>\n",
       "      <td>1</td>\n",
       "      <td>0</td>\n",
       "      <td>0</td>\n",
       "      <td>0</td>\n",
       "      <td>1</td>\n",
       "      <td>1</td>\n",
       "      <td>0</td>\n",
       "    </tr>\n",
       "    <tr>\n",
       "      <td>1</td>\n",
       "      <td>1</td>\n",
       "      <td>Homme</td>\n",
       "      <td>18</td>\n",
       "      <td>Interne</td>\n",
       "      <td>CP1</td>\n",
       "      <td>La Bibliothèque</td>\n",
       "      <td>0</td>\n",
       "      <td>02:00:00</td>\n",
       "      <td>jamais</td>\n",
       "      <td>1</td>\n",
       "      <td>...</td>\n",
       "      <td>0</td>\n",
       "      <td>1</td>\n",
       "      <td>1</td>\n",
       "      <td>1</td>\n",
       "      <td>0</td>\n",
       "      <td>1</td>\n",
       "      <td>1</td>\n",
       "      <td>1</td>\n",
       "      <td>0</td>\n",
       "      <td>1</td>\n",
       "    </tr>\n",
       "    <tr>\n",
       "      <td>2</td>\n",
       "      <td>2</td>\n",
       "      <td>Homme</td>\n",
       "      <td>21</td>\n",
       "      <td>Interne</td>\n",
       "      <td>GI</td>\n",
       "      <td>Cafè</td>\n",
       "      <td>1</td>\n",
       "      <td>01:00:00</td>\n",
       "      <td>quelquefois</td>\n",
       "      <td>1</td>\n",
       "      <td>...</td>\n",
       "      <td>0</td>\n",
       "      <td>1</td>\n",
       "      <td>1</td>\n",
       "      <td>1</td>\n",
       "      <td>0</td>\n",
       "      <td>0</td>\n",
       "      <td>1</td>\n",
       "      <td>1</td>\n",
       "      <td>0</td>\n",
       "      <td>1</td>\n",
       "    </tr>\n",
       "    <tr>\n",
       "      <td>3</td>\n",
       "      <td>3</td>\n",
       "      <td>Homme</td>\n",
       "      <td>18</td>\n",
       "      <td>Externe</td>\n",
       "      <td>CP2</td>\n",
       "      <td>Cafè</td>\n",
       "      <td>1</td>\n",
       "      <td>02:00:00</td>\n",
       "      <td>jamais</td>\n",
       "      <td>1</td>\n",
       "      <td>...</td>\n",
       "      <td>0</td>\n",
       "      <td>0</td>\n",
       "      <td>0</td>\n",
       "      <td>0</td>\n",
       "      <td>0</td>\n",
       "      <td>1</td>\n",
       "      <td>1</td>\n",
       "      <td>0</td>\n",
       "      <td>0</td>\n",
       "      <td>0</td>\n",
       "    </tr>\n",
       "    <tr>\n",
       "      <td>4</td>\n",
       "      <td>4</td>\n",
       "      <td>Homme</td>\n",
       "      <td>21</td>\n",
       "      <td>Interne</td>\n",
       "      <td>GC</td>\n",
       "      <td>Chez moi</td>\n",
       "      <td>1</td>\n",
       "      <td>01:00:00</td>\n",
       "      <td>quelquefois</td>\n",
       "      <td>0</td>\n",
       "      <td>...</td>\n",
       "      <td>1</td>\n",
       "      <td>1</td>\n",
       "      <td>0</td>\n",
       "      <td>1</td>\n",
       "      <td>0</td>\n",
       "      <td>0</td>\n",
       "      <td>0</td>\n",
       "      <td>1</td>\n",
       "      <td>1</td>\n",
       "      <td>0</td>\n",
       "    </tr>\n",
       "  </tbody>\n",
       "</table>\n",
       "<p>5 rows × 30 columns</p>\n",
       "</div>"
      ],
      "text/plain": [
       "   Unnamed: 0   sexe  age logement filiere  endroit_travail  travail_equipe   \\\n",
       "0           0  Homme   21  Interne      GI             Cafè                0   \n",
       "1           1  Homme   18  Interne     CP1  La Bibliothèque                0   \n",
       "2           2  Homme   21  Interne      GI             Cafè                1   \n",
       "3           3  Homme   18  Externe     CP2             Cafè                1   \n",
       "4           4  Homme   21  Interne      GC         Chez moi                1   \n",
       "\n",
       "  heure_dormir  sport_par_sem  activites_para  ... orientation  \\\n",
       "0      00:00:00       parfois               1  ...           0   \n",
       "1      02:00:00        jamais               1  ...           0   \n",
       "2      01:00:00   quelquefois               1  ...           0   \n",
       "3      02:00:00        jamais               1  ...           0   \n",
       "4      01:00:00   quelquefois               0  ...           1   \n",
       "\n",
       "  ressources_materials Mauvais_Gestion_temps qualite_logement  \\\n",
       "0                    0                     1                1   \n",
       "1                    1                     1                1   \n",
       "2                    1                     1                1   \n",
       "3                    0                     0                0   \n",
       "4                    1                     0                1   \n",
       "\n",
       "  addiction_drogues mauvais_choix_de_cours réseaux_sociaux  \\\n",
       "0                 0                      0               0   \n",
       "1                 0                      1               1   \n",
       "2                 0                      0               1   \n",
       "3                 0                      1               1   \n",
       "4                 0                      0               0   \n",
       "\n",
       "   Barrieres_de_langage  entourage  gaming  \n",
       "0                     1          1       0  \n",
       "1                     1          0       1  \n",
       "2                     1          0       1  \n",
       "3                     0          0       0  \n",
       "4                     1          1       0  \n",
       "\n",
       "[5 rows x 30 columns]"
      ]
     },
     "execution_count": 17,
     "metadata": {},
     "output_type": "execute_result"
    }
   ],
   "source": [
    "df1 = pd.read_excel(\"version1.xlsx\")\n",
    "df1.head()"
   ]
  },
  {
   "cell_type": "code",
   "execution_count": 18,
   "metadata": {},
   "outputs": [
    {
     "data": {
      "text/html": [
       "<div>\n",
       "<style scoped>\n",
       "    .dataframe tbody tr th:only-of-type {\n",
       "        vertical-align: middle;\n",
       "    }\n",
       "\n",
       "    .dataframe tbody tr th {\n",
       "        vertical-align: top;\n",
       "    }\n",
       "\n",
       "    .dataframe thead th {\n",
       "        text-align: right;\n",
       "    }\n",
       "</style>\n",
       "<table border=\"1\" class=\"dataframe\">\n",
       "  <thead>\n",
       "    <tr style=\"text-align: right;\">\n",
       "      <th></th>\n",
       "      <th>Unnamed: 0</th>\n",
       "      <th>age</th>\n",
       "      <th>travail_equipe</th>\n",
       "      <th>activites_para</th>\n",
       "      <th>nombre_rattrapage</th>\n",
       "      <th>services_bibliothèques</th>\n",
       "      <th>transport_scolaire</th>\n",
       "      <th>orientation</th>\n",
       "      <th>ressources_materials</th>\n",
       "      <th>Mauvais_Gestion_temps</th>\n",
       "      <th>qualite_logement</th>\n",
       "      <th>addiction_drogues</th>\n",
       "      <th>mauvais_choix_de_cours</th>\n",
       "      <th>réseaux_sociaux</th>\n",
       "      <th>Barrieres_de_langage</th>\n",
       "      <th>entourage</th>\n",
       "      <th>gaming</th>\n",
       "    </tr>\n",
       "  </thead>\n",
       "  <tbody>\n",
       "    <tr>\n",
       "      <td>Unnamed: 0</td>\n",
       "      <td>1.000000</td>\n",
       "      <td>-0.357133</td>\n",
       "      <td>-0.060445</td>\n",
       "      <td>-0.051152</td>\n",
       "      <td>-0.083803</td>\n",
       "      <td>-0.022984</td>\n",
       "      <td>0.034614</td>\n",
       "      <td>0.028494</td>\n",
       "      <td>-0.052649</td>\n",
       "      <td>-0.019359</td>\n",
       "      <td>-0.016344</td>\n",
       "      <td>-0.079706</td>\n",
       "      <td>-0.135339</td>\n",
       "      <td>0.064145</td>\n",
       "      <td>-0.097508</td>\n",
       "      <td>-0.010635</td>\n",
       "      <td>0.054786</td>\n",
       "    </tr>\n",
       "    <tr>\n",
       "      <td>age</td>\n",
       "      <td>-0.357133</td>\n",
       "      <td>1.000000</td>\n",
       "      <td>0.068856</td>\n",
       "      <td>0.016591</td>\n",
       "      <td>-0.106007</td>\n",
       "      <td>0.006499</td>\n",
       "      <td>-0.027209</td>\n",
       "      <td>-0.055768</td>\n",
       "      <td>0.168783</td>\n",
       "      <td>0.032204</td>\n",
       "      <td>0.010371</td>\n",
       "      <td>0.141048</td>\n",
       "      <td>-0.002803</td>\n",
       "      <td>-0.106438</td>\n",
       "      <td>0.077776</td>\n",
       "      <td>-0.026010</td>\n",
       "      <td>-0.051924</td>\n",
       "    </tr>\n",
       "    <tr>\n",
       "      <td>travail_equipe</td>\n",
       "      <td>-0.060445</td>\n",
       "      <td>0.068856</td>\n",
       "      <td>1.000000</td>\n",
       "      <td>0.197740</td>\n",
       "      <td>-0.053337</td>\n",
       "      <td>-0.007571</td>\n",
       "      <td>0.064340</td>\n",
       "      <td>-0.036080</td>\n",
       "      <td>0.068236</td>\n",
       "      <td>-0.110190</td>\n",
       "      <td>-0.002035</td>\n",
       "      <td>0.032914</td>\n",
       "      <td>0.039129</td>\n",
       "      <td>-0.028350</td>\n",
       "      <td>0.014995</td>\n",
       "      <td>-0.045273</td>\n",
       "      <td>0.030471</td>\n",
       "    </tr>\n",
       "    <tr>\n",
       "      <td>activites_para</td>\n",
       "      <td>-0.051152</td>\n",
       "      <td>0.016591</td>\n",
       "      <td>0.197740</td>\n",
       "      <td>1.000000</td>\n",
       "      <td>-0.053521</td>\n",
       "      <td>-0.084434</td>\n",
       "      <td>0.025236</td>\n",
       "      <td>-0.002120</td>\n",
       "      <td>0.183598</td>\n",
       "      <td>-0.027231</td>\n",
       "      <td>-0.005499</td>\n",
       "      <td>-0.013166</td>\n",
       "      <td>0.053001</td>\n",
       "      <td>0.028274</td>\n",
       "      <td>0.006476</td>\n",
       "      <td>0.014560</td>\n",
       "      <td>-0.013886</td>\n",
       "    </tr>\n",
       "    <tr>\n",
       "      <td>nombre_rattrapage</td>\n",
       "      <td>-0.083803</td>\n",
       "      <td>-0.106007</td>\n",
       "      <td>-0.053337</td>\n",
       "      <td>-0.053521</td>\n",
       "      <td>1.000000</td>\n",
       "      <td>0.024178</td>\n",
       "      <td>0.007664</td>\n",
       "      <td>0.067750</td>\n",
       "      <td>-0.110664</td>\n",
       "      <td>0.094815</td>\n",
       "      <td>0.014142</td>\n",
       "      <td>0.065848</td>\n",
       "      <td>0.112839</td>\n",
       "      <td>0.052557</td>\n",
       "      <td>0.018738</td>\n",
       "      <td>0.002650</td>\n",
       "      <td>0.041496</td>\n",
       "    </tr>\n",
       "    <tr>\n",
       "      <td>services_bibliothèques</td>\n",
       "      <td>-0.022984</td>\n",
       "      <td>0.006499</td>\n",
       "      <td>-0.007571</td>\n",
       "      <td>-0.084434</td>\n",
       "      <td>0.024178</td>\n",
       "      <td>1.000000</td>\n",
       "      <td>0.148076</td>\n",
       "      <td>0.175685</td>\n",
       "      <td>0.118648</td>\n",
       "      <td>0.037546</td>\n",
       "      <td>0.150530</td>\n",
       "      <td>0.114914</td>\n",
       "      <td>-0.003544</td>\n",
       "      <td>-0.061002</td>\n",
       "      <td>0.030708</td>\n",
       "      <td>0.097448</td>\n",
       "      <td>-0.036397</td>\n",
       "    </tr>\n",
       "    <tr>\n",
       "      <td>transport_scolaire</td>\n",
       "      <td>0.034614</td>\n",
       "      <td>-0.027209</td>\n",
       "      <td>0.064340</td>\n",
       "      <td>0.025236</td>\n",
       "      <td>0.007664</td>\n",
       "      <td>0.148076</td>\n",
       "      <td>1.000000</td>\n",
       "      <td>0.165522</td>\n",
       "      <td>0.173080</td>\n",
       "      <td>-0.126130</td>\n",
       "      <td>0.015868</td>\n",
       "      <td>0.179522</td>\n",
       "      <td>-0.058775</td>\n",
       "      <td>-0.050150</td>\n",
       "      <td>0.084791</td>\n",
       "      <td>-0.031085</td>\n",
       "      <td>-0.012512</td>\n",
       "    </tr>\n",
       "    <tr>\n",
       "      <td>orientation</td>\n",
       "      <td>0.028494</td>\n",
       "      <td>-0.055768</td>\n",
       "      <td>-0.036080</td>\n",
       "      <td>-0.002120</td>\n",
       "      <td>0.067750</td>\n",
       "      <td>0.175685</td>\n",
       "      <td>0.165522</td>\n",
       "      <td>1.000000</td>\n",
       "      <td>0.242299</td>\n",
       "      <td>0.016448</td>\n",
       "      <td>0.093160</td>\n",
       "      <td>0.096943</td>\n",
       "      <td>0.151169</td>\n",
       "      <td>0.013571</td>\n",
       "      <td>0.146375</td>\n",
       "      <td>0.081018</td>\n",
       "      <td>0.023896</td>\n",
       "    </tr>\n",
       "    <tr>\n",
       "      <td>ressources_materials</td>\n",
       "      <td>-0.052649</td>\n",
       "      <td>0.168783</td>\n",
       "      <td>0.068236</td>\n",
       "      <td>0.183598</td>\n",
       "      <td>-0.110664</td>\n",
       "      <td>0.118648</td>\n",
       "      <td>0.173080</td>\n",
       "      <td>0.242299</td>\n",
       "      <td>1.000000</td>\n",
       "      <td>-0.065035</td>\n",
       "      <td>0.151329</td>\n",
       "      <td>0.102508</td>\n",
       "      <td>0.128059</td>\n",
       "      <td>-0.013852</td>\n",
       "      <td>0.060891</td>\n",
       "      <td>0.032201</td>\n",
       "      <td>0.054998</td>\n",
       "    </tr>\n",
       "    <tr>\n",
       "      <td>Mauvais_Gestion_temps</td>\n",
       "      <td>-0.019359</td>\n",
       "      <td>0.032204</td>\n",
       "      <td>-0.110190</td>\n",
       "      <td>-0.027231</td>\n",
       "      <td>0.094815</td>\n",
       "      <td>0.037546</td>\n",
       "      <td>-0.126130</td>\n",
       "      <td>0.016448</td>\n",
       "      <td>-0.065035</td>\n",
       "      <td>1.000000</td>\n",
       "      <td>-0.004978</td>\n",
       "      <td>0.039712</td>\n",
       "      <td>0.093645</td>\n",
       "      <td>0.154896</td>\n",
       "      <td>0.023048</td>\n",
       "      <td>0.152861</td>\n",
       "      <td>-0.031713</td>\n",
       "    </tr>\n",
       "    <tr>\n",
       "      <td>qualite_logement</td>\n",
       "      <td>-0.016344</td>\n",
       "      <td>0.010371</td>\n",
       "      <td>-0.002035</td>\n",
       "      <td>-0.005499</td>\n",
       "      <td>0.014142</td>\n",
       "      <td>0.150530</td>\n",
       "      <td>0.015868</td>\n",
       "      <td>0.093160</td>\n",
       "      <td>0.151329</td>\n",
       "      <td>-0.004978</td>\n",
       "      <td>1.000000</td>\n",
       "      <td>0.162004</td>\n",
       "      <td>0.191018</td>\n",
       "      <td>0.005837</td>\n",
       "      <td>0.177913</td>\n",
       "      <td>0.203300</td>\n",
       "      <td>0.072352</td>\n",
       "    </tr>\n",
       "    <tr>\n",
       "      <td>addiction_drogues</td>\n",
       "      <td>-0.079706</td>\n",
       "      <td>0.141048</td>\n",
       "      <td>0.032914</td>\n",
       "      <td>-0.013166</td>\n",
       "      <td>0.065848</td>\n",
       "      <td>0.114914</td>\n",
       "      <td>0.179522</td>\n",
       "      <td>0.096943</td>\n",
       "      <td>0.102508</td>\n",
       "      <td>0.039712</td>\n",
       "      <td>0.162004</td>\n",
       "      <td>1.000000</td>\n",
       "      <td>0.115277</td>\n",
       "      <td>-0.052465</td>\n",
       "      <td>0.236237</td>\n",
       "      <td>0.104817</td>\n",
       "      <td>0.118087</td>\n",
       "    </tr>\n",
       "    <tr>\n",
       "      <td>mauvais_choix_de_cours</td>\n",
       "      <td>-0.135339</td>\n",
       "      <td>-0.002803</td>\n",
       "      <td>0.039129</td>\n",
       "      <td>0.053001</td>\n",
       "      <td>0.112839</td>\n",
       "      <td>-0.003544</td>\n",
       "      <td>-0.058775</td>\n",
       "      <td>0.151169</td>\n",
       "      <td>0.128059</td>\n",
       "      <td>0.093645</td>\n",
       "      <td>0.191018</td>\n",
       "      <td>0.115277</td>\n",
       "      <td>1.000000</td>\n",
       "      <td>0.061262</td>\n",
       "      <td>0.171170</td>\n",
       "      <td>0.132077</td>\n",
       "      <td>0.077872</td>\n",
       "    </tr>\n",
       "    <tr>\n",
       "      <td>réseaux_sociaux</td>\n",
       "      <td>0.064145</td>\n",
       "      <td>-0.106438</td>\n",
       "      <td>-0.028350</td>\n",
       "      <td>0.028274</td>\n",
       "      <td>0.052557</td>\n",
       "      <td>-0.061002</td>\n",
       "      <td>-0.050150</td>\n",
       "      <td>0.013571</td>\n",
       "      <td>-0.013852</td>\n",
       "      <td>0.154896</td>\n",
       "      <td>0.005837</td>\n",
       "      <td>-0.052465</td>\n",
       "      <td>0.061262</td>\n",
       "      <td>1.000000</td>\n",
       "      <td>-0.007908</td>\n",
       "      <td>0.137358</td>\n",
       "      <td>0.125407</td>\n",
       "    </tr>\n",
       "    <tr>\n",
       "      <td>Barrieres_de_langage</td>\n",
       "      <td>-0.097508</td>\n",
       "      <td>0.077776</td>\n",
       "      <td>0.014995</td>\n",
       "      <td>0.006476</td>\n",
       "      <td>0.018738</td>\n",
       "      <td>0.030708</td>\n",
       "      <td>0.084791</td>\n",
       "      <td>0.146375</td>\n",
       "      <td>0.060891</td>\n",
       "      <td>0.023048</td>\n",
       "      <td>0.177913</td>\n",
       "      <td>0.236237</td>\n",
       "      <td>0.171170</td>\n",
       "      <td>-0.007908</td>\n",
       "      <td>1.000000</td>\n",
       "      <td>0.075894</td>\n",
       "      <td>0.155576</td>\n",
       "    </tr>\n",
       "    <tr>\n",
       "      <td>entourage</td>\n",
       "      <td>-0.010635</td>\n",
       "      <td>-0.026010</td>\n",
       "      <td>-0.045273</td>\n",
       "      <td>0.014560</td>\n",
       "      <td>0.002650</td>\n",
       "      <td>0.097448</td>\n",
       "      <td>-0.031085</td>\n",
       "      <td>0.081018</td>\n",
       "      <td>0.032201</td>\n",
       "      <td>0.152861</td>\n",
       "      <td>0.203300</td>\n",
       "      <td>0.104817</td>\n",
       "      <td>0.132077</td>\n",
       "      <td>0.137358</td>\n",
       "      <td>0.075894</td>\n",
       "      <td>1.000000</td>\n",
       "      <td>0.029221</td>\n",
       "    </tr>\n",
       "    <tr>\n",
       "      <td>gaming</td>\n",
       "      <td>0.054786</td>\n",
       "      <td>-0.051924</td>\n",
       "      <td>0.030471</td>\n",
       "      <td>-0.013886</td>\n",
       "      <td>0.041496</td>\n",
       "      <td>-0.036397</td>\n",
       "      <td>-0.012512</td>\n",
       "      <td>0.023896</td>\n",
       "      <td>0.054998</td>\n",
       "      <td>-0.031713</td>\n",
       "      <td>0.072352</td>\n",
       "      <td>0.118087</td>\n",
       "      <td>0.077872</td>\n",
       "      <td>0.125407</td>\n",
       "      <td>0.155576</td>\n",
       "      <td>0.029221</td>\n",
       "      <td>1.000000</td>\n",
       "    </tr>\n",
       "  </tbody>\n",
       "</table>\n",
       "</div>"
      ],
      "text/plain": [
       "                        Unnamed: 0       age  travail_equipe   activites_para  \\\n",
       "Unnamed: 0                1.000000 -0.357133        -0.060445       -0.051152   \n",
       "age                      -0.357133  1.000000         0.068856        0.016591   \n",
       "travail_equipe           -0.060445  0.068856         1.000000        0.197740   \n",
       "activites_para           -0.051152  0.016591         0.197740        1.000000   \n",
       "nombre_rattrapage        -0.083803 -0.106007        -0.053337       -0.053521   \n",
       "services_bibliothèques   -0.022984  0.006499        -0.007571       -0.084434   \n",
       "transport_scolaire        0.034614 -0.027209         0.064340        0.025236   \n",
       "orientation               0.028494 -0.055768        -0.036080       -0.002120   \n",
       "ressources_materials     -0.052649  0.168783         0.068236        0.183598   \n",
       "Mauvais_Gestion_temps    -0.019359  0.032204        -0.110190       -0.027231   \n",
       "qualite_logement         -0.016344  0.010371        -0.002035       -0.005499   \n",
       "addiction_drogues        -0.079706  0.141048         0.032914       -0.013166   \n",
       "mauvais_choix_de_cours   -0.135339 -0.002803         0.039129        0.053001   \n",
       "réseaux_sociaux           0.064145 -0.106438        -0.028350        0.028274   \n",
       "Barrieres_de_langage     -0.097508  0.077776         0.014995        0.006476   \n",
       "entourage                -0.010635 -0.026010        -0.045273        0.014560   \n",
       "gaming                    0.054786 -0.051924         0.030471       -0.013886   \n",
       "\n",
       "                        nombre_rattrapage  services_bibliothèques  \\\n",
       "Unnamed: 0                      -0.083803               -0.022984   \n",
       "age                             -0.106007                0.006499   \n",
       "travail_equipe                  -0.053337               -0.007571   \n",
       "activites_para                  -0.053521               -0.084434   \n",
       "nombre_rattrapage                1.000000                0.024178   \n",
       "services_bibliothèques           0.024178                1.000000   \n",
       "transport_scolaire               0.007664                0.148076   \n",
       "orientation                      0.067750                0.175685   \n",
       "ressources_materials            -0.110664                0.118648   \n",
       "Mauvais_Gestion_temps            0.094815                0.037546   \n",
       "qualite_logement                 0.014142                0.150530   \n",
       "addiction_drogues                0.065848                0.114914   \n",
       "mauvais_choix_de_cours           0.112839               -0.003544   \n",
       "réseaux_sociaux                  0.052557               -0.061002   \n",
       "Barrieres_de_langage             0.018738                0.030708   \n",
       "entourage                        0.002650                0.097448   \n",
       "gaming                           0.041496               -0.036397   \n",
       "\n",
       "                        transport_scolaire  orientation  ressources_materials  \\\n",
       "Unnamed: 0                        0.034614     0.028494             -0.052649   \n",
       "age                              -0.027209    -0.055768              0.168783   \n",
       "travail_equipe                    0.064340    -0.036080              0.068236   \n",
       "activites_para                    0.025236    -0.002120              0.183598   \n",
       "nombre_rattrapage                 0.007664     0.067750             -0.110664   \n",
       "services_bibliothèques            0.148076     0.175685              0.118648   \n",
       "transport_scolaire                1.000000     0.165522              0.173080   \n",
       "orientation                       0.165522     1.000000              0.242299   \n",
       "ressources_materials              0.173080     0.242299              1.000000   \n",
       "Mauvais_Gestion_temps            -0.126130     0.016448             -0.065035   \n",
       "qualite_logement                  0.015868     0.093160              0.151329   \n",
       "addiction_drogues                 0.179522     0.096943              0.102508   \n",
       "mauvais_choix_de_cours           -0.058775     0.151169              0.128059   \n",
       "réseaux_sociaux                  -0.050150     0.013571             -0.013852   \n",
       "Barrieres_de_langage              0.084791     0.146375              0.060891   \n",
       "entourage                        -0.031085     0.081018              0.032201   \n",
       "gaming                           -0.012512     0.023896              0.054998   \n",
       "\n",
       "                        Mauvais_Gestion_temps  qualite_logement  \\\n",
       "Unnamed: 0                          -0.019359         -0.016344   \n",
       "age                                  0.032204          0.010371   \n",
       "travail_equipe                      -0.110190         -0.002035   \n",
       "activites_para                      -0.027231         -0.005499   \n",
       "nombre_rattrapage                    0.094815          0.014142   \n",
       "services_bibliothèques               0.037546          0.150530   \n",
       "transport_scolaire                  -0.126130          0.015868   \n",
       "orientation                          0.016448          0.093160   \n",
       "ressources_materials                -0.065035          0.151329   \n",
       "Mauvais_Gestion_temps                1.000000         -0.004978   \n",
       "qualite_logement                    -0.004978          1.000000   \n",
       "addiction_drogues                    0.039712          0.162004   \n",
       "mauvais_choix_de_cours               0.093645          0.191018   \n",
       "réseaux_sociaux                      0.154896          0.005837   \n",
       "Barrieres_de_langage                 0.023048          0.177913   \n",
       "entourage                            0.152861          0.203300   \n",
       "gaming                              -0.031713          0.072352   \n",
       "\n",
       "                        addiction_drogues  mauvais_choix_de_cours  \\\n",
       "Unnamed: 0                      -0.079706               -0.135339   \n",
       "age                              0.141048               -0.002803   \n",
       "travail_equipe                   0.032914                0.039129   \n",
       "activites_para                  -0.013166                0.053001   \n",
       "nombre_rattrapage                0.065848                0.112839   \n",
       "services_bibliothèques           0.114914               -0.003544   \n",
       "transport_scolaire               0.179522               -0.058775   \n",
       "orientation                      0.096943                0.151169   \n",
       "ressources_materials             0.102508                0.128059   \n",
       "Mauvais_Gestion_temps            0.039712                0.093645   \n",
       "qualite_logement                 0.162004                0.191018   \n",
       "addiction_drogues                1.000000                0.115277   \n",
       "mauvais_choix_de_cours           0.115277                1.000000   \n",
       "réseaux_sociaux                 -0.052465                0.061262   \n",
       "Barrieres_de_langage             0.236237                0.171170   \n",
       "entourage                        0.104817                0.132077   \n",
       "gaming                           0.118087                0.077872   \n",
       "\n",
       "                        réseaux_sociaux  Barrieres_de_langage  entourage  \\\n",
       "Unnamed: 0                     0.064145             -0.097508  -0.010635   \n",
       "age                           -0.106438              0.077776  -0.026010   \n",
       "travail_equipe                -0.028350              0.014995  -0.045273   \n",
       "activites_para                 0.028274              0.006476   0.014560   \n",
       "nombre_rattrapage              0.052557              0.018738   0.002650   \n",
       "services_bibliothèques        -0.061002              0.030708   0.097448   \n",
       "transport_scolaire            -0.050150              0.084791  -0.031085   \n",
       "orientation                    0.013571              0.146375   0.081018   \n",
       "ressources_materials          -0.013852              0.060891   0.032201   \n",
       "Mauvais_Gestion_temps          0.154896              0.023048   0.152861   \n",
       "qualite_logement               0.005837              0.177913   0.203300   \n",
       "addiction_drogues             -0.052465              0.236237   0.104817   \n",
       "mauvais_choix_de_cours         0.061262              0.171170   0.132077   \n",
       "réseaux_sociaux                1.000000             -0.007908   0.137358   \n",
       "Barrieres_de_langage          -0.007908              1.000000   0.075894   \n",
       "entourage                      0.137358              0.075894   1.000000   \n",
       "gaming                         0.125407              0.155576   0.029221   \n",
       "\n",
       "                          gaming  \n",
       "Unnamed: 0              0.054786  \n",
       "age                    -0.051924  \n",
       "travail_equipe          0.030471  \n",
       "activites_para         -0.013886  \n",
       "nombre_rattrapage       0.041496  \n",
       "services_bibliothèques -0.036397  \n",
       "transport_scolaire     -0.012512  \n",
       "orientation             0.023896  \n",
       "ressources_materials    0.054998  \n",
       "Mauvais_Gestion_temps  -0.031713  \n",
       "qualite_logement        0.072352  \n",
       "addiction_drogues       0.118087  \n",
       "mauvais_choix_de_cours  0.077872  \n",
       "réseaux_sociaux         0.125407  \n",
       "Barrieres_de_langage    0.155576  \n",
       "entourage               0.029221  \n",
       "gaming                  1.000000  "
      ]
     },
     "execution_count": 18,
     "metadata": {},
     "output_type": "execute_result"
    }
   ],
   "source": [
    "df1.corr()"
   ]
  },
  {
   "cell_type": "code",
   "execution_count": 20,
   "metadata": {},
   "outputs": [],
   "source": [
    "df=df1[['qualite_logement','travail_equipe ','Barrieres_de_langage','orientation','ressources_materials','services_bibliothèques','Mauvais_Gestion_temps','entourage','mauvais_choix_de_cours','réseaux_sociaux','addiction_drogues','gaming']]"
   ]
  },
  {
   "cell_type": "code",
   "execution_count": 22,
   "metadata": {},
   "outputs": [
    {
     "data": {
      "text/html": [
       "<div>\n",
       "<style scoped>\n",
       "    .dataframe tbody tr th:only-of-type {\n",
       "        vertical-align: middle;\n",
       "    }\n",
       "\n",
       "    .dataframe tbody tr th {\n",
       "        vertical-align: top;\n",
       "    }\n",
       "\n",
       "    .dataframe thead th {\n",
       "        text-align: right;\n",
       "    }\n",
       "</style>\n",
       "<table border=\"1\" class=\"dataframe\">\n",
       "  <thead>\n",
       "    <tr style=\"text-align: right;\">\n",
       "      <th></th>\n",
       "      <th>qualite_logement</th>\n",
       "      <th>travail_equipe</th>\n",
       "      <th>Barrieres_de_langage</th>\n",
       "      <th>orientation</th>\n",
       "      <th>ressources_materials</th>\n",
       "      <th>services_bibliothèques</th>\n",
       "      <th>Mauvais_Gestion_temps</th>\n",
       "      <th>entourage</th>\n",
       "      <th>mauvais_choix_de_cours</th>\n",
       "      <th>réseaux_sociaux</th>\n",
       "      <th>addiction_drogues</th>\n",
       "      <th>gaming</th>\n",
       "    </tr>\n",
       "  </thead>\n",
       "  <tbody>\n",
       "    <tr>\n",
       "      <td>0</td>\n",
       "      <td>1</td>\n",
       "      <td>0</td>\n",
       "      <td>1</td>\n",
       "      <td>0</td>\n",
       "      <td>0</td>\n",
       "      <td>0</td>\n",
       "      <td>1</td>\n",
       "      <td>1</td>\n",
       "      <td>0</td>\n",
       "      <td>0</td>\n",
       "      <td>0</td>\n",
       "      <td>0</td>\n",
       "    </tr>\n",
       "    <tr>\n",
       "      <td>1</td>\n",
       "      <td>1</td>\n",
       "      <td>0</td>\n",
       "      <td>1</td>\n",
       "      <td>0</td>\n",
       "      <td>1</td>\n",
       "      <td>0</td>\n",
       "      <td>1</td>\n",
       "      <td>0</td>\n",
       "      <td>1</td>\n",
       "      <td>1</td>\n",
       "      <td>0</td>\n",
       "      <td>1</td>\n",
       "    </tr>\n",
       "    <tr>\n",
       "      <td>2</td>\n",
       "      <td>1</td>\n",
       "      <td>1</td>\n",
       "      <td>1</td>\n",
       "      <td>0</td>\n",
       "      <td>1</td>\n",
       "      <td>0</td>\n",
       "      <td>1</td>\n",
       "      <td>0</td>\n",
       "      <td>0</td>\n",
       "      <td>1</td>\n",
       "      <td>0</td>\n",
       "      <td>1</td>\n",
       "    </tr>\n",
       "    <tr>\n",
       "      <td>3</td>\n",
       "      <td>0</td>\n",
       "      <td>1</td>\n",
       "      <td>0</td>\n",
       "      <td>0</td>\n",
       "      <td>0</td>\n",
       "      <td>0</td>\n",
       "      <td>0</td>\n",
       "      <td>0</td>\n",
       "      <td>1</td>\n",
       "      <td>1</td>\n",
       "      <td>0</td>\n",
       "      <td>0</td>\n",
       "    </tr>\n",
       "    <tr>\n",
       "      <td>4</td>\n",
       "      <td>1</td>\n",
       "      <td>1</td>\n",
       "      <td>1</td>\n",
       "      <td>1</td>\n",
       "      <td>1</td>\n",
       "      <td>1</td>\n",
       "      <td>0</td>\n",
       "      <td>1</td>\n",
       "      <td>0</td>\n",
       "      <td>0</td>\n",
       "      <td>0</td>\n",
       "      <td>0</td>\n",
       "    </tr>\n",
       "  </tbody>\n",
       "</table>\n",
       "</div>"
      ],
      "text/plain": [
       "   qualite_logement  travail_equipe   Barrieres_de_langage  orientation  \\\n",
       "0                 1                0                     1            0   \n",
       "1                 1                0                     1            0   \n",
       "2                 1                1                     1            0   \n",
       "3                 0                1                     0            0   \n",
       "4                 1                1                     1            1   \n",
       "\n",
       "   ressources_materials  services_bibliothèques  Mauvais_Gestion_temps  \\\n",
       "0                     0                       0                      1   \n",
       "1                     1                       0                      1   \n",
       "2                     1                       0                      1   \n",
       "3                     0                       0                      0   \n",
       "4                     1                       1                      0   \n",
       "\n",
       "   entourage  mauvais_choix_de_cours  réseaux_sociaux  addiction_drogues  \\\n",
       "0          1                       0                0                  0   \n",
       "1          0                       1                1                  0   \n",
       "2          0                       0                1                  0   \n",
       "3          0                       1                1                  0   \n",
       "4          1                       0                0                  0   \n",
       "\n",
       "   gaming  \n",
       "0       0  \n",
       "1       1  \n",
       "2       1  \n",
       "3       0  \n",
       "4       0  "
      ]
     },
     "execution_count": 22,
     "metadata": {},
     "output_type": "execute_result"
    }
   ],
   "source": [
    "df.head()"
   ]
  },
  {
   "cell_type": "markdown",
   "metadata": {},
   "source": [
    "Dans un premier temps, nous importons le tableau des individus et variables actifs X (xij ; i =\n",
    "1,…,n, nombre d’observations ; j = 1,…,p, nombre de variables) pour la construction des axes\n",
    "factoriels. Nous utilisons la librairie Pandas"
   ]
  },
  {
   "cell_type": "markdown",
   "metadata": {},
   "source": [
    "Nous devons explicitement centrer et réduire les variables pour réaliser une ACP normée\n",
    "avec PCA. Nous utilisons la classe StandardScaler pour ce faire. Ici aussi, il est important de\n",
    "vérifier la version de ‘’scikit-learn’’ utilisée.\n"
   ]
  },
  {
   "cell_type": "code",
   "execution_count": 24,
   "metadata": {},
   "outputs": [
    {
     "name": "stdout",
     "output_type": "stream",
     "text": [
      "0.21.3\n"
     ]
    }
   ],
   "source": [
    "#scikit-learn\n",
    "import sklearn\n",
    "#vérification de la version\n",
    "print(sklearn.__version__) "
   ]
  },
  {
   "cell_type": "markdown",
   "metadata": {},
   "source": [
    "Nous instancions l’objet et nous l’appliquons sur la matrice X. Nous obtenons une matrice Z\n",
    "𝑧𝑖𝑗 =\n",
    "𝑥𝑖𝑗 − 𝑥̅𝑗\n",
    "𝜎𝑗\n",
    "Où 𝑥̅𝑗 =\n",
    "1\n",
    "𝑛\n",
    "∑ 𝑥𝑖𝑗\n",
    "𝑛\n",
    "𝑖=1\n",
    "est la moyenne de la variable Xj, 𝜎𝑗 = √\n",
    "1\n",
    "𝑛\n",
    "∑ (𝑥𝑖𝑗 − 𝑥̅𝑗)²\n",
    "𝑛\n",
    "𝑖=1\n",
    "son écart-type.\n",
    "\n"
   ]
  },
  {
   "cell_type": "code",
   "execution_count": 44,
   "metadata": {},
   "outputs": [
    {
     "name": "stdout",
     "output_type": "stream",
     "text": [
      "[[ 0.96575996 -0.79216814  1.52391406 ... -1.12746904 -0.37257241\n",
      "  -0.52553827]\n",
      " [ 0.96575996 -0.79216814  1.52391406 ...  0.88694231 -0.37257241\n",
      "   1.90281099]\n",
      " [ 0.96575996  1.26235826  1.52391406 ...  0.88694231 -0.37257241\n",
      "   1.90281099]\n",
      " ...\n",
      " [ 0.96575996 -0.79216814 -0.65620498 ... -1.12746904 -0.37257241\n",
      "  -0.52553827]\n",
      " [ 0.96575996  1.26235826 -0.65620498 ... -1.12746904  2.68404203\n",
      "  -0.52553827]\n",
      " [ 0.96575996 -0.79216814 -0.65620498 ... -1.12746904 -0.37257241\n",
      "   1.90281099]]\n"
     ]
    }
   ],
   "source": [
    "#classe pour standardisation\n",
    "from sklearn.preprocessing import StandardScaler\n",
    "#instanciation\n",
    "sc = StandardScaler()\n",
    "#transformation – centrage-réduction\n",
    "Z = sc.fit_transform(df)\n",
    "#nombre d'observations\n",
    "n = df.shape[0]\n",
    "#nombre de variables\n",
    "p = df.shape[1]\n",
    "print(Z)"
   ]
  },
  {
   "cell_type": "markdown",
   "metadata": {},
   "source": [
    "Vérifions, par acquit de conscience, les propriétés du nouvel ensemble de données. Les\n",
    "moyennes sont maintenant nulles (aux erreurs de troncature près) :\n"
   ]
  },
  {
   "cell_type": "code",
   "execution_count": 26,
   "metadata": {},
   "outputs": [
    {
     "name": "stdout",
     "output_type": "stream",
     "text": [
      "[-2.65127886e-17 -5.30255773e-17 -8.83759622e-18 -1.28145145e-16\n",
      "  6.62819716e-18 -1.32563943e-17 -1.10469953e-18 -4.41879811e-17\n",
      " -7.07007697e-17  8.83759622e-17  4.41879811e-17  1.01632356e-16]\n"
     ]
    }
   ],
   "source": [
    "#vérification - librairie numpy\n",
    "import numpy\n",
    "#moyenne\n",
    "print(numpy.mean(Z,axis=0))"
   ]
  },
  {
   "cell_type": "markdown",
   "metadata": {},
   "source": [
    "Et les écarts-type unitaires.\n"
   ]
  },
  {
   "cell_type": "code",
   "execution_count": 27,
   "metadata": {},
   "outputs": [
    {
     "name": "stdout",
     "output_type": "stream",
     "text": [
      "[1. 1. 1. 1. 1. 1. 1. 1. 1. 1. 1. 1.]\n"
     ]
    }
   ],
   "source": [
    "#écart-type\n",
    "print(numpy.std(Z,axis=0,ddof=0))\n"
   ]
  },
  {
   "cell_type": "markdown",
   "metadata": {},
   "source": [
    "Nous sommes maintenant parés pour lancer l’ACP."
   ]
  },
  {
   "cell_type": "markdown",
   "metadata": {},
   "source": [
    "# Analyse en composantes principales avec PCA de ‘’scikit-learn’’"
   ]
  },
  {
   "cell_type": "markdown",
   "metadata": {},
   "source": [
    "Instanciation et lancement des calculs\n"
   ]
  },
  {
   "cell_type": "markdown",
   "metadata": {},
   "source": [
    "Il faut instancier l’objet PCA dans un premier temps, nous affichons ses propriétés."
   ]
  },
  {
   "cell_type": "code",
   "execution_count": 31,
   "metadata": {},
   "outputs": [],
   "source": [
    "#classe pour l'ACP\n",
    "from sklearn.decomposition import PCA\n",
    "#instanciation\n",
    "acp = PCA(svd_solver='full')"
   ]
  },
  {
   "cell_type": "code",
   "execution_count": 32,
   "metadata": {},
   "outputs": [
    {
     "name": "stdout",
     "output_type": "stream",
     "text": [
      "PCA(copy=True, iterated_power='auto', n_components=None, random_state=None,\n",
      "    svd_solver='full', tol=0.0, whiten=False)\n"
     ]
    }
   ],
   "source": [
    "#affichage des paramètres\n",
    "print(acp)\n"
   ]
  },
  {
   "cell_type": "markdown",
   "metadata": {},
   "source": [
    "Le paramètre (svd_solver = ‘full’) indique l’algorithme utilisé pour la décomposition en\n",
    "valeurs singulières. Nous choisissons la méthode ‘’exacte’’, sélectionnée de toute manière par\n",
    "défaut pour l’appréhension des bases de taille réduite. D’autres approches sont disponibles\n",
    "pour le traitement des grands ensembles de données. Le nombre de composantes (K) n’étant\n",
    "pas spécifié (n_components = None), il est par défaut égal au nombre de variables (K = p).\n",
    "Nous pouvons lancer les traitements dans un second temps. La fonction fit_transform()\n",
    "renvoie en sortie les coordonnées factorielles Fik que nous collectons dans la variable coord\n",
    "[TUTO_R, page 4 pour lancer l’ACP, page 7 pour la récupération du champs $scores des\n",
    "coordonnées factorielles]. Nous affichons le nombre de composantes générées (K), il est bien\n",
    "égal à p = 12."
   ]
  },
  {
   "cell_type": "code",
   "execution_count": 36,
   "metadata": {},
   "outputs": [
    {
     "name": "stdout",
     "output_type": "stream",
     "text": [
      "12\n"
     ]
    }
   ],
   "source": [
    "#calculs\n",
    "coord = acp.fit_transform(Z)\n",
    "#nombre de composantes calculées\n",
    "print(acp.n_components_)"
   ]
  },
  {
   "cell_type": "markdown",
   "metadata": {},
   "source": [
    "Valeurs propres et scree plot\n"
   ]
  },
  {
   "cell_type": "markdown",
   "metadata": {},
   "source": [
    "La propriété .explained_variance_ semble faire l’affaire pour obtenir les variances\n",
    "(valeurs propres, λk) associées aux axes factoriels."
   ]
  },
  {
   "cell_type": "code",
   "execution_count": 37,
   "metadata": {},
   "outputs": [
    {
     "name": "stdout",
     "output_type": "stream",
     "text": [
      "[1.95691067 1.34425313 1.20131628 1.05356101 0.98196635 0.94320227\n",
      " 0.90565411 0.78766579 0.77347209 0.73472253 0.70471089 0.64249007]\n"
     ]
    }
   ],
   "source": [
    "#variance expliquée\n",
    "print(acp.explained_variance_)"
   ]
  },
  {
   "cell_type": "code",
   "execution_count": null,
   "metadata": {},
   "outputs": [],
   "source": []
  },
  {
   "cell_type": "code",
   "execution_count": 41,
   "metadata": {},
   "outputs": [
    {
     "name": "stdout",
     "output_type": "stream",
     "text": [
      "[1.95204273 1.34090921 1.19832793 1.05094021 0.97952365 0.940856\n",
      " 0.90340124 0.78570643 0.77154803 0.73289486 0.70295788 0.64089183]\n"
     ]
    }
   ],
   "source": [
    "#valeur corrigée\n",
    "n=df.shape[0]\n",
    "eigval = (n-1)/n*acp.explained_variance_\n",
    "print(eigval)"
   ]
  },
  {
   "cell_type": "markdown",
   "metadata": {},
   "source": [
    "Nous aurions pu obtenir les bonnes valeurs propres en passant par les valeurs singulières\n",
    ".singular_values_ issues de la factorisation de la matrice des données centrées et réduites "
   ]
  },
  {
   "cell_type": "code",
   "execution_count": 42,
   "metadata": {},
   "outputs": [
    {
     "name": "stdout",
     "output_type": "stream",
     "text": [
      "[1.95204273 1.34090921 1.19832793 1.05094021 0.97952365 0.940856\n",
      " 0.90340124 0.78570643 0.77154803 0.73289486 0.70295788 0.64089183]\n"
     ]
    }
   ],
   "source": [
    "#ou bien en passant par les valeurs singulières\n",
    "print(acp.singular_values_**2/n)\n"
   ]
  },
  {
   "cell_type": "markdown",
   "metadata": {},
   "source": [
    "PCA fournit également les proportions de variance associées aux axes. Il n’est pas nécessaire\n",
    "d’effectuer une correction dans ce cas.\n"
   ]
  },
  {
   "cell_type": "code",
   "execution_count": 43,
   "metadata": {},
   "outputs": [
    {
     "name": "stdout",
     "output_type": "stream",
     "text": [
      "[0.16267023 0.11174243 0.09986066 0.08757835 0.08162697 0.07840467\n",
      " 0.07528344 0.06547554 0.06429567 0.06107457 0.05857982 0.05340765]\n"
     ]
    }
   ],
   "source": [
    "#proportion de variance expliquée\n",
    "print(acp.explained_variance_ratio_)\n"
   ]
  },
  {
   "cell_type": "markdown",
   "metadata": {},
   "source": [
    "La première composante accapare 16.26% de l’information disponible. Il y a un fort ‘’effet\n",
    "taille’’ dans nos données\n"
   ]
  },
  {
   "cell_type": "markdown",
   "metadata": {},
   "source": [
    "Nous disposons des éléments permettant de construire le graphique ‘’Scree plot’’ (éboulis des\n",
    "valeurs propres)"
   ]
  },
  {
   "cell_type": "code",
   "execution_count": 51,
   "metadata": {},
   "outputs": [
    {
     "data": {
      "image/png": "[encoded data removed]",
      "text/plain": [
       "<Figure size 432x288 with 1 Axes>"
      ]
     },
     "metadata": {
      "needs_background": "light"
     },
     "output_type": "display_data"
    }
   ],
   "source": [
    "#scree plot\n",
    "plt.plot(np.arange(1,p+1),eigval)\n",
    "plt.title(\"Scree plot\")\n",
    "plt.ylabel(\"Eigen values\")\n",
    "plt.xlabel(\"Factor number\")\n",
    "plt.show()\n"
   ]
  },
  {
   "cell_type": "markdown",
   "metadata": {},
   "source": [
    "Le graphique du cumul de variance restituée selon le nombre de facteurs peut être\n",
    "intéressant également (Figure 3)."
   ]
  },
  {
   "cell_type": "code",
   "execution_count": 52,
   "metadata": {},
   "outputs": [
    {
     "data": {
      "image/png": "[encoded data removed]",
      "text/plain": [
       "<Figure size 432x288 with 1 Axes>"
      ]
     },
     "metadata": {
      "needs_background": "light"
     },
     "output_type": "display_data"
    }
   ],
   "source": [
    "#cumul de variance expliquée\n",
    "plt.plot(numpy.arange(1,p+1),numpy.cumsum(acp.explained_variance_ratio_))\n",
    "plt.title(\"Explained variance vs. # of factors\")\n",
    "plt.ylabel(\"Cumsum explained variance ratio\")\n",
    "plt.xlabel(\"Factor number\")\n",
    "plt.show()\n"
   ]
  },
  {
   "cell_type": "markdown",
   "metadata": {},
   "source": [
    "### Détermination du nombre de facteur à retenir"
   ]
  },
  {
   "cell_type": "markdown",
   "metadata": {},
   "source": [
    "Les ‘’cassures’’ dans les graphiques ci-dessus (Figure 2, Figure 3) sont souvent évoquées\n",
    "(règle du coude) pour identifier le nombre de facteurs K* à retenir. La solution (K* = 2)\n",
    "semble s’imposer ici.\n",
    "D’autres pistes existent pour répondre à cette question toujours délicate qui conditionne\n",
    "l’interprétation de l’ACP, notamment le « test des bâtons brisés » de Legendre & Legendre "
   ]
  },
  {
   "cell_type": "markdown",
   "metadata": {},
   "source": [
    "Les seuils sont définis par :\n",
    "𝑏𝑘 = ∑ 1/𝑚\n",
    "𝑝\n",
    "𝑚=𝑘\n",
    "Le facteur n°k est validé si (λk > bk), où λk est la valeur propre associée à l’axe n°k.\n",
    "Calculons ces seuils :"
   ]
  },
  {
   "cell_type": "code",
   "execution_count": 54,
   "metadata": {},
   "outputs": [],
   "source": [
    "#seuils pour test des bâtons brisés\n",
    "bs = 1/numpy.arange(p,0,-1)\n",
    "bs = numpy.cumsum(bs)\n",
    "bs = bs[::-1]\n"
   ]
  },
  {
   "cell_type": "markdown",
   "metadata": {},
   "source": [
    "Puis affichons conjointement les valeurs propres et les seuils :"
   ]
  },
  {
   "cell_type": "code",
   "execution_count": 56,
   "metadata": {},
   "outputs": [
    {
     "name": "stdout",
     "output_type": "stream",
     "text": [
      "    Val.Propre    Seuils\n",
      "0     1.952043  3.103211\n",
      "1     1.340909  2.103211\n",
      "2     1.198328  1.603211\n",
      "3     1.050940  1.269877\n",
      "4     0.979524  1.019877\n",
      "5     0.940856  0.819877\n",
      "6     0.903401  0.653211\n",
      "7     0.785706  0.510354\n",
      "8     0.771548  0.385354\n",
      "9     0.732895  0.274242\n",
      "10    0.702958  0.174242\n",
      "11    0.640892  0.083333\n"
     ]
    }
   ],
   "source": [
    "#test des bâtons brisés\n",
    "print(pd.DataFrame({'Val.Propre':eigval,'Seuils':bs}))\n"
   ]
  },
  {
   "cell_type": "markdown",
   "metadata": {},
   "source": [
    "### Représentation des individus – Outils pour l’interprétation"
   ]
  },
  {
   "cell_type": "code",
   "execution_count": 59,
   "metadata": {},
   "outputs": [
    {
     "data": {
      "image/png": "[encoded data removed]",
      "text/plain": [
       "<Figure size 864x864 with 1 Axes>"
      ]
     },
     "metadata": {
      "needs_background": "light"
     },
     "output_type": "display_data"
    }
   ],
   "source": [
    "#positionnement des individus dans le premier plan\n",
    "fig, axes = plt.subplots(figsize=(12,12))\n",
    "axes.set_xlim(-6,6) #même limites en abscisse\n",
    "axes.set_ylim(-6,6) #et en ordonnée\n",
    "#placement des étiquettes des observations\n",
    "for i in range(n):plt.annotate(df.index[i],(coord[i,0],coord[i,1]))\n",
    "#ajouter les axes\n",
    "plt.plot([-6,6],[0,0],color='silver',linestyle='-',linewidth=1)\n",
    "plt.plot([0,0],[-6,6],color='silver',linestyle='-',linewidth=1)\n",
    "#affichage\n",
    "plt.show()\n"
   ]
  },
  {
   "cell_type": "code",
   "execution_count": 60,
   "metadata": {},
   "outputs": [
    {
     "name": "stdout",
     "output_type": "stream",
     "text": [
      "[[ 0.40752067  0.0171726   0.3728534   0.34981308  0.31127573  0.2452363\n",
      "   0.10487947  0.30565724  0.36400505  0.07456511  0.36405259  0.20047385]\n",
      " [ 0.02829602  0.31032474  0.045922    0.14681195  0.31746891  0.16683479\n",
      "  -0.55193043 -0.37561016 -0.11161671 -0.52566088  0.11017093 -0.06316231]\n",
      " [-0.0399766   0.32005152  0.30369032 -0.27477834 -0.11740811 -0.51087907\n",
      "  -0.20866105 -0.1679268   0.15087685  0.1718459   0.13504365  0.55783994]\n",
      " [ 0.14438501 -0.22786965  0.32248505 -0.34648881 -0.49142719  0.10414837\n",
      "   0.088375    0.05575241 -0.17704984 -0.45062847  0.44537931 -0.08447405]\n",
      " [-0.34041927 -0.63627278  0.25160823  0.40855431  0.06643608 -0.08240756\n",
      "   0.03962825 -0.3852451  -0.12255148 -0.00577719  0.04917549  0.26530912]\n",
      " [ 0.10118942 -0.03935727 -0.1743845  -0.11400746  0.01713481  0.43177227\n",
      "  -0.22353157  0.15946489 -0.59769172  0.28663134  0.07192984  0.48797635]\n",
      " [-0.50934278  0.51181108  0.06569185  0.1297532  -0.04633221  0.26264886\n",
      "   0.47050453 -0.16313308 -0.12609947  0.09438691  0.33632    -0.02071047]\n",
      " [ 0.03516333 -0.19573553 -0.4679103  -0.36651843  0.51789799 -0.18719719\n",
      "   0.27151628 -0.125188    0.05067587 -0.13475914  0.42481939  0.11541885]\n",
      " [ 0.24499222 -0.00762892 -0.07945051 -0.19224257 -0.16760991  0.46035549\n",
      "   0.24221564 -0.51687128  0.36673702 -0.07305312 -0.32376176  0.29351652]\n",
      " [ 0.37076182  0.00736328  0.35952538 -0.17974004  0.22372104 -0.05872747\n",
      "   0.09996152 -0.42043296 -0.31736476  0.43736164  0.01531701 -0.41039014]\n",
      " [-0.06676048 -0.1291189  -0.28907221  0.0512312  -0.29877695  0.15132704\n",
      "  -0.42242357 -0.20262648  0.3473404   0.41600404  0.46498383 -0.22605879]\n",
      " [-0.47111304 -0.16002181  0.3557265  -0.50748904  0.32334402  0.32351125\n",
      "  -0.19821391  0.18187456  0.23312314  0.0811327  -0.12762261 -0.09779889]]\n"
     ]
    }
   ],
   "source": [
    "#le champ components_ de l'objet ACP\n",
    "print(acp.components_)\n"
   ]
  },
  {
   "cell_type": "code",
   "execution_count": 61,
   "metadata": {},
   "outputs": [
    {
     "ename": "NameError",
     "evalue": "name 'coordSupp' is not defined",
     "output_type": "error",
     "traceback": [
      "\u001b[1;31m---------------------------------------------------------------------------\u001b[0m",
      "\u001b[1;31mNameError\u001b[0m                                 Traceback (most recent call last)",
      "\u001b[1;32m<ipython-input-61-07d5a9dc73d1>\u001b[0m in \u001b[0;36m<module>\u001b[1;34m\u001b[0m\n\u001b[0;32m      8\u001b[0m \u001b[1;33m\u001b[0m\u001b[0m\n\u001b[0;32m      9\u001b[0m \u001b[1;31m#étiquette des points supplémentaires (illustratifs) en bleu ‘b’\u001b[0m\u001b[1;33m\u001b[0m\u001b[1;33m\u001b[0m\u001b[1;33m\u001b[0m\u001b[0m\n\u001b[1;32m---> 10\u001b[1;33m \u001b[1;32mfor\u001b[0m \u001b[0mi\u001b[0m \u001b[1;32min\u001b[0m \u001b[0mrange\u001b[0m\u001b[1;33m(\u001b[0m\u001b[0mcoordSupp\u001b[0m\u001b[1;33m.\u001b[0m\u001b[0mshape\u001b[0m\u001b[1;33m[\u001b[0m\u001b[1;36m0\u001b[0m\u001b[1;33m]\u001b[0m\u001b[1;33m)\u001b[0m\u001b[1;33m:\u001b[0m\u001b[1;33m\u001b[0m\u001b[1;33m\u001b[0m\u001b[0m\n\u001b[0m\u001b[0;32m     11\u001b[0m  \u001b[0mplt\u001b[0m\u001b[1;33m.\u001b[0m\u001b[0mannotate\u001b[0m\u001b[1;33m(\u001b[0m\u001b[0mindSupp\u001b[0m\u001b[1;33m.\u001b[0m\u001b[0mindex\u001b[0m\u001b[1;33m[\u001b[0m\u001b[0mi\u001b[0m\u001b[1;33m]\u001b[0m\u001b[1;33m,\u001b[0m\u001b[1;33m(\u001b[0m\u001b[0mcoordSupp\u001b[0m\u001b[1;33m[\u001b[0m\u001b[0mi\u001b[0m\u001b[1;33m,\u001b[0m\u001b[1;36m0\u001b[0m\u001b[1;33m]\u001b[0m\u001b[1;33m,\u001b[0m\u001b[0mcoordSupp\u001b[0m\u001b[1;33m[\u001b[0m\u001b[0mi\u001b[0m\u001b[1;33m,\u001b[0m\u001b[1;36m1\u001b[0m\u001b[1;33m]\u001b[0m\u001b[1;33m)\u001b[0m\u001b[1;33m,\u001b[0m\u001b[0mcolor\u001b[0m\u001b[1;33m=\u001b[0m\u001b[1;34m'b'\u001b[0m\u001b[1;33m)\u001b[0m\u001b[1;33m\u001b[0m\u001b[1;33m\u001b[0m\u001b[0m\n\u001b[0;32m     12\u001b[0m \u001b[1;33m\u001b[0m\u001b[0m\n",
      "\u001b[1;31mNameError\u001b[0m: name 'coordSupp' is not defined"
     ]
    },
    {
     "data": {
      "image/png": "[encoded data removed]",
      "text/plain": [
       "<Figure size 864x864 with 1 Axes>"
      ]
     },
     "metadata": {
      "needs_background": "light"
     },
     "output_type": "display_data"
    }
   ],
   "source": [
    "#positionnement des individus supplémentaires dans le premier plan\n",
    "fig, axes = plt.subplots(figsize=(12,12))\n",
    "axes.set_xlim(-6,6)\n",
    "axes.set_ylim(-6,6)\n",
    "#étiquette des points actifs\n",
    "for i in range(n):\n",
    " plt.annotate(df.index[i],(coord[i,0],coord[i,1]))\n",
    "\n",
    "#étiquette des points supplémentaires (illustratifs) en bleu ‘b’\n",
    "for i in range(coordSupp.shape[0]):\n",
    " plt.annotate(indSupp.index[i],(coordSupp[i,0],coordSupp[i,1]),color='b')\n",
    "\n",
    "#ajouter les axes\n",
    "plt.plot([-6,6],[0,0],color='silver',linestyle='-',linewidth=1)\n",
    "plt.plot([0,0],[-6,6],color='silver',linestyle='-',linewidth=1)\n",
    "#affichage\n",
    "plt.show()"
   ]
  },
  {
   "cell_type": "code",
   "execution_count": null,
   "metadata": {},
   "outputs": [],
   "source": []
  },
  {
   "cell_type": "code",
   "execution_count": 11,
   "metadata": {},
   "outputs": [],
   "source": [
    "df.to_excel(\"test.xlsx\")"
   ]
  },
  {
   "cell_type": "code",
   "execution_count": 12,
   "metadata": {},
   "outputs": [
    {
     "data": {
      "text/html": [
       "<div>\n",
       "<style scoped>\n",
       "    .dataframe tbody tr th:only-of-type {\n",
       "        vertical-align: middle;\n",
       "    }\n",
       "\n",
       "    .dataframe tbody tr th {\n",
       "        vertical-align: top;\n",
       "    }\n",
       "\n",
       "    .dataframe thead th {\n",
       "        text-align: right;\n",
       "    }\n",
       "</style>\n",
       "<table border=\"1\" class=\"dataframe\">\n",
       "  <thead>\n",
       "    <tr style=\"text-align: right;\">\n",
       "      <th></th>\n",
       "      <th>Unnamed: 0</th>\n",
       "      <th>age</th>\n",
       "      <th>orientation</th>\n",
       "      <th>ressources_materials</th>\n",
       "      <th>Mauvais_Gestion_temps</th>\n",
       "      <th>mauvais_choix_de_cours</th>\n",
       "      <th>réseaux_sociaux</th>\n",
       "      <th>resultat_etudiant</th>\n",
       "    </tr>\n",
       "  </thead>\n",
       "  <tbody>\n",
       "    <tr>\n",
       "      <td>0</td>\n",
       "      <td>0</td>\n",
       "      <td>21</td>\n",
       "      <td>0</td>\n",
       "      <td>0</td>\n",
       "      <td>1</td>\n",
       "      <td>0</td>\n",
       "      <td>0</td>\n",
       "      <td>semestre_Valide</td>\n",
       "    </tr>\n",
       "    <tr>\n",
       "      <td>1</td>\n",
       "      <td>1</td>\n",
       "      <td>18</td>\n",
       "      <td>0</td>\n",
       "      <td>1</td>\n",
       "      <td>1</td>\n",
       "      <td>1</td>\n",
       "      <td>1</td>\n",
       "      <td>semestre_Rattrapage</td>\n",
       "    </tr>\n",
       "    <tr>\n",
       "      <td>2</td>\n",
       "      <td>2</td>\n",
       "      <td>21</td>\n",
       "      <td>0</td>\n",
       "      <td>1</td>\n",
       "      <td>1</td>\n",
       "      <td>0</td>\n",
       "      <td>1</td>\n",
       "      <td>semestre_Valide</td>\n",
       "    </tr>\n",
       "    <tr>\n",
       "      <td>3</td>\n",
       "      <td>3</td>\n",
       "      <td>18</td>\n",
       "      <td>0</td>\n",
       "      <td>0</td>\n",
       "      <td>0</td>\n",
       "      <td>1</td>\n",
       "      <td>1</td>\n",
       "      <td>semestre_Rattrapage</td>\n",
       "    </tr>\n",
       "    <tr>\n",
       "      <td>4</td>\n",
       "      <td>4</td>\n",
       "      <td>21</td>\n",
       "      <td>1</td>\n",
       "      <td>1</td>\n",
       "      <td>0</td>\n",
       "      <td>0</td>\n",
       "      <td>0</td>\n",
       "      <td>semestre_Valide</td>\n",
       "    </tr>\n",
       "  </tbody>\n",
       "</table>\n",
       "</div>"
      ],
      "text/plain": [
       "   Unnamed: 0  age  orientation  ressources_materials  Mauvais_Gestion_temps  \\\n",
       "0           0   21            0                     0                      1   \n",
       "1           1   18            0                     1                      1   \n",
       "2           2   21            0                     1                      1   \n",
       "3           3   18            0                     0                      0   \n",
       "4           4   21            1                     1                      0   \n",
       "\n",
       "   mauvais_choix_de_cours  réseaux_sociaux    resultat_etudiant  \n",
       "0                       0                0      semestre_Valide  \n",
       "1                       1                1  semestre_Rattrapage  \n",
       "2                       0                1      semestre_Valide  \n",
       "3                       1                1  semestre_Rattrapage  \n",
       "4                       0                0      semestre_Valide  "
      ]
     },
     "execution_count": 12,
     "metadata": {},
     "output_type": "execute_result"
    }
   ],
   "source": [
    "test = pd.read_excel(\"test.xlsx\")\n",
    "test.head()"
   ]
  },
  {
   "cell_type": "code",
   "execution_count": null,
   "metadata": {},
   "outputs": [],
   "source": []
  },
  {
   "cell_type": "code",
   "execution_count": null,
   "metadata": {},
   "outputs": [],
   "source": []
  },
  {
   "cell_type": "code",
   "execution_count": null,
   "metadata": {},
   "outputs": [],
   "source": []
  },
  {
   "cell_type": "code",
   "execution_count": null,
   "metadata": {},
   "outputs": [],
   "source": []
  },
  {
   "cell_type": "code",
   "execution_count": null,
   "metadata": {},
   "outputs": [],
   "source": []
  },
  {
   "cell_type": "code",
   "execution_count": null,
   "metadata": {},
   "outputs": [],
   "source": []
  },
  {
   "cell_type": "code",
   "execution_count": null,
   "metadata": {},
   "outputs": [],
   "source": []
  },
  {
   "cell_type": "code",
   "execution_count": null,
   "metadata": {},
   "outputs": [],
   "source": [
    "\n",
    "\n",
    "\n",
    "\n"
   ]
  },
  {
   "cell_type": "code",
   "execution_count": 14,
   "metadata": {},
   "outputs": [],
   "source": [
    "del test['Unnamed: 0']"
   ]
  },
  {
   "cell_type": "code",
   "execution_count": 15,
   "metadata": {},
   "outputs": [],
   "source": [
    "test.to_excel(\"test.xlsx\")"
   ]
  },
  {
   "cell_type": "code",
   "execution_count": 16,
   "metadata": {},
   "outputs": [
    {
     "data": {
      "text/html": [
       "<div>\n",
       "<style scoped>\n",
       "    .dataframe tbody tr th:only-of-type {\n",
       "        vertical-align: middle;\n",
       "    }\n",
       "\n",
       "    .dataframe tbody tr th {\n",
       "        vertical-align: top;\n",
       "    }\n",
       "\n",
       "    .dataframe thead th {\n",
       "        text-align: right;\n",
       "    }\n",
       "</style>\n",
       "<table border=\"1\" class=\"dataframe\">\n",
       "  <thead>\n",
       "    <tr style=\"text-align: right;\">\n",
       "      <th></th>\n",
       "      <th>age</th>\n",
       "      <th>orientation</th>\n",
       "      <th>ressources_materials</th>\n",
       "      <th>Mauvais_Gestion_temps</th>\n",
       "      <th>mauvais_choix_de_cours</th>\n",
       "      <th>réseaux_sociaux</th>\n",
       "      <th>resultat_etudiant</th>\n",
       "    </tr>\n",
       "  </thead>\n",
       "  <tbody>\n",
       "    <tr>\n",
       "      <td>0</td>\n",
       "      <td>21</td>\n",
       "      <td>0</td>\n",
       "      <td>0</td>\n",
       "      <td>1</td>\n",
       "      <td>0</td>\n",
       "      <td>0</td>\n",
       "      <td>semestre_Valide</td>\n",
       "    </tr>\n",
       "    <tr>\n",
       "      <td>1</td>\n",
       "      <td>18</td>\n",
       "      <td>0</td>\n",
       "      <td>1</td>\n",
       "      <td>1</td>\n",
       "      <td>1</td>\n",
       "      <td>1</td>\n",
       "      <td>semestre_Rattrapage</td>\n",
       "    </tr>\n",
       "    <tr>\n",
       "      <td>2</td>\n",
       "      <td>21</td>\n",
       "      <td>0</td>\n",
       "      <td>1</td>\n",
       "      <td>1</td>\n",
       "      <td>0</td>\n",
       "      <td>1</td>\n",
       "      <td>semestre_Valide</td>\n",
       "    </tr>\n",
       "    <tr>\n",
       "      <td>3</td>\n",
       "      <td>18</td>\n",
       "      <td>0</td>\n",
       "      <td>0</td>\n",
       "      <td>0</td>\n",
       "      <td>1</td>\n",
       "      <td>1</td>\n",
       "      <td>semestre_Rattrapage</td>\n",
       "    </tr>\n",
       "    <tr>\n",
       "      <td>4</td>\n",
       "      <td>21</td>\n",
       "      <td>1</td>\n",
       "      <td>1</td>\n",
       "      <td>0</td>\n",
       "      <td>0</td>\n",
       "      <td>0</td>\n",
       "      <td>semestre_Valide</td>\n",
       "    </tr>\n",
       "  </tbody>\n",
       "</table>\n",
       "</div>"
      ],
      "text/plain": [
       "   age  orientation  ressources_materials  Mauvais_Gestion_temps  \\\n",
       "0   21            0                     0                      1   \n",
       "1   18            0                     1                      1   \n",
       "2   21            0                     1                      1   \n",
       "3   18            0                     0                      0   \n",
       "4   21            1                     1                      0   \n",
       "\n",
       "   mauvais_choix_de_cours  réseaux_sociaux    resultat_etudiant  \n",
       "0                       0                0      semestre_Valide  \n",
       "1                       1                1  semestre_Rattrapage  \n",
       "2                       0                1      semestre_Valide  \n",
       "3                       1                1  semestre_Rattrapage  \n",
       "4                       0                0      semestre_Valide  "
      ]
     },
     "execution_count": 16,
     "metadata": {},
     "output_type": "execute_result"
    }
   ],
   "source": [
    "test.head()"
   ]
  },
  {
   "cell_type": "code",
   "execution_count": 17,
   "metadata": {},
   "outputs": [
    {
     "data": {
      "text/plain": [
       "array([[21,  0,  0,  1,  0,  0],\n",
       "       [18,  0,  1,  1,  1,  1],\n",
       "       [21,  0,  1,  1,  0,  1],\n",
       "       [18,  0,  0,  0,  1,  1],\n",
       "       [21,  1,  1,  0,  0,  0]], dtype=int64)"
      ]
     },
     "execution_count": 17,
     "metadata": {},
     "output_type": "execute_result"
    }
   ],
   "source": [
    "X=test[['age','orientation','ressources_materials','Mauvais_Gestion_temps','mauvais_choix_de_cours','réseaux_sociaux']].values\n",
    "X[0:5]"
   ]
  },
  {
   "cell_type": "code",
   "execution_count": 18,
   "metadata": {},
   "outputs": [],
   "source": [
    "from sklearn.tree import DecisionTreeClassifier"
   ]
  },
  {
   "cell_type": "code",
   "execution_count": 19,
   "metadata": {},
   "outputs": [
    {
     "data": {
      "text/plain": [
       "0        semestre_Valide\n",
       "1    semestre_Rattrapage\n",
       "2        semestre_Valide\n",
       "3    semestre_Rattrapage\n",
       "4        semestre_Valide\n",
       "Name: resultat_etudiant, dtype: object"
      ]
     },
     "execution_count": 19,
     "metadata": {},
     "output_type": "execute_result"
    }
   ],
   "source": [
    "y = df[\"resultat_etudiant\"]\n",
    "y[0:5]"
   ]
  },
  {
   "cell_type": "code",
   "execution_count": 20,
   "metadata": {},
   "outputs": [],
   "source": [
    "from sklearn.model_selection import train_test_split"
   ]
  },
  {
   "cell_type": "code",
   "execution_count": 21,
   "metadata": {},
   "outputs": [],
   "source": [
    "X_trainset, X_testset, y_trainset, y_testset = train_test_split(X, y, test_size=0.3, random_state=3)"
   ]
  },
  {
   "cell_type": "code",
   "execution_count": 22,
   "metadata": {},
   "outputs": [
    {
     "data": {
      "text/plain": [
       "DecisionTreeClassifier(class_weight=None, criterion='entropy', max_depth=4,\n",
       "                       max_features=None, max_leaf_nodes=None,\n",
       "                       min_impurity_decrease=0.0, min_impurity_split=None,\n",
       "                       min_samples_leaf=1, min_samples_split=2,\n",
       "                       min_weight_fraction_leaf=0.0, presort=False,\n",
       "                       random_state=None, splitter='best')"
      ]
     },
     "execution_count": 22,
     "metadata": {},
     "output_type": "execute_result"
    }
   ],
   "source": [
    "drugTree = DecisionTreeClassifier(criterion=\"entropy\", max_depth = 4)\n",
    "drugTree # it shows the default parameters"
   ]
  },
  {
   "cell_type": "code",
   "execution_count": 23,
   "metadata": {},
   "outputs": [
    {
     "data": {
      "text/plain": [
       "DecisionTreeClassifier(class_weight=None, criterion='entropy', max_depth=4,\n",
       "                       max_features=None, max_leaf_nodes=None,\n",
       "                       min_impurity_decrease=0.0, min_impurity_split=None,\n",
       "                       min_samples_leaf=1, min_samples_split=2,\n",
       "                       min_weight_fraction_leaf=0.0, presort=False,\n",
       "                       random_state=None, splitter='best')"
      ]
     },
     "execution_count": 23,
     "metadata": {},
     "output_type": "execute_result"
    }
   ],
   "source": [
    "drugTree.fit(X_trainset,y_trainset)"
   ]
  },
  {
   "cell_type": "code",
   "execution_count": 24,
   "metadata": {},
   "outputs": [],
   "source": [
    "predTree = drugTree.predict(X_testset)"
   ]
  },
  {
   "cell_type": "code",
   "execution_count": 25,
   "metadata": {},
   "outputs": [
    {
     "name": "stdout",
     "output_type": "stream",
     "text": [
      "['semestre_Rattrapage' 'semestre_Rattrapage' 'semestre_Rattrapage'\n",
      " 'semestre_Valide' 'semestre_Rattrapage']\n",
      "248        semestre_Valide\n",
      "320        semestre_Valide\n",
      "81         semestre_Valide\n",
      "255    semestre_Rattrapage\n",
      "217        semestre_Valide\n",
      "Name: resultat_etudiant, dtype: object\n"
     ]
    }
   ],
   "source": [
    "print (predTree [0:5])\n",
    "print (y_testset [0:5])\n"
   ]
  },
  {
   "cell_type": "code",
   "execution_count": 26,
   "metadata": {},
   "outputs": [
    {
     "name": "stdout",
     "output_type": "stream",
     "text": [
      "DecisionTrees's Accuracy:  0.6363636363636364\n"
     ]
    }
   ],
   "source": [
    "from sklearn import metrics\n",
    "import matplotlib.pyplot as plt\n",
    "print(\"DecisionTrees's Accuracy: \", metrics.accuracy_score(y_testset, predTree))"
   ]
  },
  {
   "cell_type": "code",
   "execution_count": null,
   "metadata": {},
   "outputs": [],
   "source": [
    "pip uninstall graphviz"
   ]
  },
  {
   "cell_type": "code",
   "execution_count": null,
   "metadata": {},
   "outputs": [],
   "source": []
  },
  {
   "cell_type": "code",
   "execution_count": null,
   "metadata": {},
   "outputs": [],
   "source": [
    "from sklearn.externals.six import StringIO\n",
    "import pydotplus\n",
    "import matplotlib.image as mpimg\n",
    "from sklearn import tree\n",
    "%matplotlib inline "
   ]
  },
  {
   "cell_type": "code",
   "execution_count": null,
   "metadata": {},
   "outputs": [],
   "source": [
    "dot_data = StringIO()\n",
    "filename = \"drugtree.png\"\n",
    "featureNames = test.columns[0:6]\n",
    "targetNames = test[\"resultat_etudiant\"].unique().tolist()\n",
    "out=tree.export_graphviz(drugTree,feature_names=featureNames, out_file=dot_data, class_names= np.unique(y_trainset), filled=True,  special_characters=True,rotate=False)  \n",
    "graph = pydotplus.graph_from_dot_data(dot_data.getvalue())  \n",
    "graph.write_png(filename)\n",
    "img = mpimg.imread(filename)\n",
    "plt.figure(figsize=(100, 200))\n",
    "plt.imshow(img,interpolation='nearest')\n"
   ]
  },
  {
   "cell_type": "code",
   "execution_count": null,
   "metadata": {},
   "outputs": [],
   "source": []
  },
  {
   "cell_type": "code",
   "execution_count": null,
   "metadata": {},
   "outputs": [],
   "source": []
  }
 ],
 "metadata": {
  "kernelspec": {
   "display_name": "Python 3",
   "language": "python",
   "name": "python3"
  },
  "language_info": {
   "codemirror_mode": {
    "name": "ipython",
    "version": 3
   },
   "file_extension": ".py",
   "mimetype": "text/x-python",
   "name": "python",
   "nbconvert_exporter": "python",
   "pygments_lexer": "ipython3",
   "version": "3.7.4"
  }
 },
 "nbformat": 4,
 "nbformat_minor": 2
}
